{
  "nbformat": 4,
  "nbformat_minor": 0,
  "metadata": {
    "colab": {
      "provenance": []
    },
    "kernelspec": {
      "name": "python3",
      "display_name": "Python 3"
    },
    "language_info": {
      "name": "python"
    }
  },
  "cells": [
    {
      "cell_type": "markdown",
      "source": [
        "Notebook ini khusus untuk uji coba prediksi model yang disave dari `P1M2_aumedi_wibisana.ipynb` pada input data baru."
      ],
      "metadata": {
        "id": "pHPIkRqv2IyZ"
      }
    },
    {
      "cell_type": "code",
      "execution_count": 2,
      "metadata": {
        "id": "ZuZbpY5o1xDv"
      },
      "outputs": [],
      "source": [
        "import pandas as pd\n",
        "import pickle"
      ]
    },
    {
      "cell_type": "code",
      "source": [
        "# Load model\n",
        "\n",
        "with open ('pipeTunedSVM.pkl', 'rb') as file1:\n",
        "  clfSVM = pickle.load(file1)"
      ],
      "metadata": {
        "id": "b9CctAyS2gOO"
      },
      "execution_count": 3,
      "outputs": []
    },
    {
      "cell_type": "code",
      "source": [
        "# Data Baru\n",
        "\n",
        "newData = {\n",
        "    'Name': 'Biggus Dickus',\n",
        "    'Age': 32,\n",
        "    'Origin': 3,\n",
        "    'Height': 170,\n",
        "    'Weight': 69,\n",
        "    'Category': 4,\n",
        "    'Wins': 6,\n",
        "    'Losses': 4,\n",
        "    'Weapon of Choice': 4,\n",
        "    'Equipment Quality': 1.0,\n",
        "    'Injury History': 0.0,\n",
        "    'Mental Resilience': 5.781233,\n",
        "    'Tactical Knowledge': 1.0,\n",
        "    'Battle Experience': 10,\n",
        "    'Health Status': 1.0,\n",
        "    'Training Intensity': 2.0,\n",
        "    'Battle Strategy': 1\n",
        "}\n",
        "\n",
        "newDataDF = pd.DataFrame(newData, index=[0])\n",
        "newDataDF"
      ],
      "metadata": {
        "colab": {
          "base_uri": "https://localhost:8080/",
          "height": 153
        },
        "id": "Q4Ks9D8z2bfJ",
        "outputId": "3a3c2ee3-7a5f-49d2-8586-70f5517d8b2e"
      },
      "execution_count": 4,
      "outputs": [
        {
          "output_type": "execute_result",
          "data": {
            "text/plain": [
              "            Name  Age  Origin  Height  Weight  Category  Wins  Losses  \\\n",
              "0  Biggus Dickus   32       3     170      69         4     6       4   \n",
              "\n",
              "   Weapon of Choice  Equipment Quality  Injury History  Mental Resilience  \\\n",
              "0                 4                1.0             0.0           5.781233   \n",
              "\n",
              "   Tactical Knowledge  Battle Experience  Health Status  Training Intensity  \\\n",
              "0                 1.0                 10            1.0                 2.0   \n",
              "\n",
              "   Battle Strategy  \n",
              "0                1  "
            ],
            "text/html": [
              "\n",
              "  <div id=\"df-16308f6b-6ace-4d92-861d-aa863bb203c4\" class=\"colab-df-container\">\n",
              "    <div>\n",
              "<style scoped>\n",
              "    .dataframe tbody tr th:only-of-type {\n",
              "        vertical-align: middle;\n",
              "    }\n",
              "\n",
              "    .dataframe tbody tr th {\n",
              "        vertical-align: top;\n",
              "    }\n",
              "\n",
              "    .dataframe thead th {\n",
              "        text-align: right;\n",
              "    }\n",
              "</style>\n",
              "<table border=\"1\" class=\"dataframe\">\n",
              "  <thead>\n",
              "    <tr style=\"text-align: right;\">\n",
              "      <th></th>\n",
              "      <th>Name</th>\n",
              "      <th>Age</th>\n",
              "      <th>Origin</th>\n",
              "      <th>Height</th>\n",
              "      <th>Weight</th>\n",
              "      <th>Category</th>\n",
              "      <th>Wins</th>\n",
              "      <th>Losses</th>\n",
              "      <th>Weapon of Choice</th>\n",
              "      <th>Equipment Quality</th>\n",
              "      <th>Injury History</th>\n",
              "      <th>Mental Resilience</th>\n",
              "      <th>Tactical Knowledge</th>\n",
              "      <th>Battle Experience</th>\n",
              "      <th>Health Status</th>\n",
              "      <th>Training Intensity</th>\n",
              "      <th>Battle Strategy</th>\n",
              "    </tr>\n",
              "  </thead>\n",
              "  <tbody>\n",
              "    <tr>\n",
              "      <th>0</th>\n",
              "      <td>Biggus Dickus</td>\n",
              "      <td>32</td>\n",
              "      <td>3</td>\n",
              "      <td>170</td>\n",
              "      <td>69</td>\n",
              "      <td>4</td>\n",
              "      <td>6</td>\n",
              "      <td>4</td>\n",
              "      <td>4</td>\n",
              "      <td>1.0</td>\n",
              "      <td>0.0</td>\n",
              "      <td>5.781233</td>\n",
              "      <td>1.0</td>\n",
              "      <td>10</td>\n",
              "      <td>1.0</td>\n",
              "      <td>2.0</td>\n",
              "      <td>1</td>\n",
              "    </tr>\n",
              "  </tbody>\n",
              "</table>\n",
              "</div>\n",
              "    <div class=\"colab-df-buttons\">\n",
              "\n",
              "  <div class=\"colab-df-container\">\n",
              "    <button class=\"colab-df-convert\" onclick=\"convertToInteractive('df-16308f6b-6ace-4d92-861d-aa863bb203c4')\"\n",
              "            title=\"Convert this dataframe to an interactive table.\"\n",
              "            style=\"display:none;\">\n",
              "\n",
              "  <svg xmlns=\"http://www.w3.org/2000/svg\" height=\"24px\" viewBox=\"0 -960 960 960\">\n",
              "    <path d=\"M120-120v-720h720v720H120Zm60-500h600v-160H180v160Zm220 220h160v-160H400v160Zm0 220h160v-160H400v160ZM180-400h160v-160H180v160Zm440 0h160v-160H620v160ZM180-180h160v-160H180v160Zm440 0h160v-160H620v160Z\"/>\n",
              "  </svg>\n",
              "    </button>\n",
              "\n",
              "  <style>\n",
              "    .colab-df-container {\n",
              "      display:flex;\n",
              "      gap: 12px;\n",
              "    }\n",
              "\n",
              "    .colab-df-convert {\n",
              "      background-color: #E8F0FE;\n",
              "      border: none;\n",
              "      border-radius: 50%;\n",
              "      cursor: pointer;\n",
              "      display: none;\n",
              "      fill: #1967D2;\n",
              "      height: 32px;\n",
              "      padding: 0 0 0 0;\n",
              "      width: 32px;\n",
              "    }\n",
              "\n",
              "    .colab-df-convert:hover {\n",
              "      background-color: #E2EBFA;\n",
              "      box-shadow: 0px 1px 2px rgba(60, 64, 67, 0.3), 0px 1px 3px 1px rgba(60, 64, 67, 0.15);\n",
              "      fill: #174EA6;\n",
              "    }\n",
              "\n",
              "    .colab-df-buttons div {\n",
              "      margin-bottom: 4px;\n",
              "    }\n",
              "\n",
              "    [theme=dark] .colab-df-convert {\n",
              "      background-color: #3B4455;\n",
              "      fill: #D2E3FC;\n",
              "    }\n",
              "\n",
              "    [theme=dark] .colab-df-convert:hover {\n",
              "      background-color: #434B5C;\n",
              "      box-shadow: 0px 1px 3px 1px rgba(0, 0, 0, 0.15);\n",
              "      filter: drop-shadow(0px 1px 2px rgba(0, 0, 0, 0.3));\n",
              "      fill: #FFFFFF;\n",
              "    }\n",
              "  </style>\n",
              "\n",
              "    <script>\n",
              "      const buttonEl =\n",
              "        document.querySelector('#df-16308f6b-6ace-4d92-861d-aa863bb203c4 button.colab-df-convert');\n",
              "      buttonEl.style.display =\n",
              "        google.colab.kernel.accessAllowed ? 'block' : 'none';\n",
              "\n",
              "      async function convertToInteractive(key) {\n",
              "        const element = document.querySelector('#df-16308f6b-6ace-4d92-861d-aa863bb203c4');\n",
              "        const dataTable =\n",
              "          await google.colab.kernel.invokeFunction('convertToInteractive',\n",
              "                                                    [key], {});\n",
              "        if (!dataTable) return;\n",
              "\n",
              "        const docLinkHtml = 'Like what you see? Visit the ' +\n",
              "          '<a target=\"_blank\" href=https://colab.research.google.com/notebooks/data_table.ipynb>data table notebook</a>'\n",
              "          + ' to learn more about interactive tables.';\n",
              "        element.innerHTML = '';\n",
              "        dataTable['output_type'] = 'display_data';\n",
              "        await google.colab.output.renderOutput(dataTable, element);\n",
              "        const docLink = document.createElement('div');\n",
              "        docLink.innerHTML = docLinkHtml;\n",
              "        element.appendChild(docLink);\n",
              "      }\n",
              "    </script>\n",
              "  </div>\n",
              "\n",
              "    </div>\n",
              "  </div>\n"
            ]
          },
          "metadata": {},
          "execution_count": 4
        }
      ]
    },
    {
      "cell_type": "code",
      "source": [
        "# Pisahkan nama dari newDataDF\n",
        "\n",
        "newDataNoName = newDataDF.drop(['Name'], axis=1)\n",
        "\n",
        "# Prediksi survivability gladiator dengan pipeline yang telah disave\n",
        "predSurv = clfSVM.predict(newDataNoName)\n",
        "\n",
        "if predSurv == 0:\n",
        "  print(f\"Gladiator {newData['Name']} tewas bertarung. Semper Desiderari.\")\n",
        "elif predSurv == 1:\n",
        "  print(f\"Gladiator {newData['Name']} berhasil bertahan hidup. Vincere est Totum.\")"
      ],
      "metadata": {
        "colab": {
          "base_uri": "https://localhost:8080/"
        },
        "id": "Abb4Yqhl2o2o",
        "outputId": "fb3e183d-2285-4499-9ab5-c0106ff4b351"
      },
      "execution_count": 5,
      "outputs": [
        {
          "output_type": "stream",
          "name": "stdout",
          "text": [
            "Gladiator Biggus Dickus berhasil bertahan hidup. Vincere est Totum.\n"
          ]
        }
      ]
    }
  ]
}