{
  "nbformat": 4,
  "nbformat_minor": 0,
  "metadata": {
    "colab": {
      "provenance": [],
      "toc_visible": true
    },
    "kernelspec": {
      "name": "python3",
      "display_name": "Python 3"
    },
    "language_info": {
      "name": "python"
    }
  },
  "cells": [
    {
      "cell_type": "markdown",
      "source": [
        "# Perkenalan"
      ],
      "metadata": {
        "id": "9wot0zTV5FdZ"
      }
    },
    {
      "cell_type": "markdown",
      "source": [
        "Nama: Aumedi Wibisana Pratama Subagyo \\\n",
        "Batch: RMT-025"
      ],
      "metadata": {
        "id": "DvO8zKft5HSb"
      }
    },
    {
      "cell_type": "markdown",
      "source": [
        "Manusia telah bertaruh bahkan sejak zaman Romawi kuno. Masyarakat Romawi saling bertaruh kekayaan mereka pada petarung-petarung gladiator di koloseum, layaknya masyarakat sekitar bertaruh pada tim sepak bola favorit mereka ketika pertandingan. Pengetahuan orang-orang terhadap aspek-aspek subjek petanding (tim sepak bola maupun gladiator) seperti background, track-record, intensitas latihan, dan jumlah menang-kalah dapat membuat mereka yakin apakah petanding tersebut akan memenangkan pertandingan. Mereka membuat prediksi apakah petanding akan menang atau tidak, berdasarkan informasi-informasi tersebut. Pada notebook ini akan disetup sebuah model machine learning untuk memprediksi apakah seorang petarung gladiator akan berhasil bertahan-hidup pada pertarungan berikutnya. \\"
      ],
      "metadata": {
        "id": "Eqj_ipvA80GK"
      }
    },
    {
      "cell_type": "markdown",
      "source": [
        "Informasi-informasi pada dataset diberikan sebagai berikut, \\\n",
        "-`Name`: Nama gladiator \\\n",
        "-`Age`: Umur gladiator (dalam tahun) \\\n",
        "-`Birth Year`: Tahun lahir gladiator \\\n",
        "-`Origin`: Daerah asal gladiator \\\n",
        "-`Height`: Tinggi gladiator (dalam cm)\\\n",
        "-`Weight`: Berat badan gladiator (dalam kilogram) \\\n",
        "-`Category`: Jenis gladiatornya, mengindikasikan gaya bertarung dan peralatannya \\\n",
        "-`Wins`: Total jumlah menang yang telah dicapai gladiator \\\n",
        "-`Losses`: Total jumlah kalah yang telah dialami gladiator\\\n",
        "-`Special Skills`: Kemampkuan unik yang dimiliki gladiatornya\\\n",
        "-`Weapon of Choice`: Senjata pilihan gladiator \\\n",
        "-`Patron's Wealth`: Status kekayaan sponsor gladiator \\\n",
        "-`Equipment Quality`: Kualitas dan kondisi peralatan gladiator \\\n",
        "-`Public Favor`: Popularitas gladiator ke masyarakat publik \\\n",
        "-`Injury History`: Catatan cedera yang diderita gladiator \\\n",
        "-`Mental Resilience`: Kemampuan gladiator untuk menahan stress dan tekanan psikologi \\\n",
        "-`Diet and Nutrition`: Kebiasaan makan dan nutrisi gladiator \\\n",
        "-`Tactical Knowledge`: Pengetahuan gladiator tentang taktik pertarungan \\\n",
        "-`Allegiance Network`: Jaringan sekutu-sekutu dan pendukung gladiator \\\n",
        "-`Battle Experience`: Jumlah pengalaman yang dimiliki gladiator dalam pertarungan \\\n",
        "-`Psychological Profile`: Sebuah asesmen kesehatan mental gladiator dan kepribadiannya \\\n",
        "-`Health Status`: Kondisi kesehatan gladiator saat ini \\\n",
        "-`Personal Motivation`: Faktor utama yang memotivasi gladiator \\\n",
        "-`Previous Occupation`: Profesi individu sebelum menjadi gladiator \\\n",
        "-`Training Intensity`: Tingkatan intensitas latihan gladiator \\\n",
        "-`Battle Strategy`: Strategi yang disukai oleh gladiator \\\n",
        "-`Social Standing`: Status sosial gladiator \\\n",
        "-`Crowd Appeal Techniques`: Teknik yang digunakan gladiator untuk menarik perhatian massa \\\n",
        "-`Survived`: Mengindikasikan apakah gladiatornya akan bertahan-hidup. \\"
      ],
      "metadata": {
        "id": "HKAaSNtwGh22"
      }
    },
    {
      "cell_type": "markdown",
      "source": [
        "Yang menjadi label di sini adalah `Survived`. Akan ada beberapa fitur yang tidak digunakan. Model klasifikasi yang telah disetup di sini kemudian akan dibungkus menjadi sebuah pipeline. Pipeline akan disave dan model akan dideploy ke HuggingFace agar user dapat tahu apakah sebaiknya bertaruh pada gladiator tertentu atau tidak."
      ],
      "metadata": {
        "id": "B5ElaKx0Glqa"
      }
    },
    {
      "cell_type": "markdown",
      "source": [
        "Dataset diperoleh dari kaggle: \\\n",
        "https://www.kaggle.com/datasets/anthonytherrien/gladiator-combat-records-and-profiles-dataset"
      ],
      "metadata": {
        "id": "d8mwjUJRAZzu"
      }
    },
    {
      "cell_type": "markdown",
      "source": [
        "# Import Libraries"
      ],
      "metadata": {
        "id": "E8mbAONbNoUG"
      }
    },
    {
      "cell_type": "code",
      "source": [
        "from google.colab import drive\n",
        "import pandas as pd\n",
        "import seaborn as sns\n",
        "import numpy as np\n",
        "import pickle\n",
        "from sklearn.model_selection import train_test_split\n",
        "from sklearn.preprocessing import StandardScaler, MinMaxScaler, RobustScaler, OrdinalEncoder\n",
        "from sklearn.neighbors import KNeighborsClassifier\n",
        "from sklearn.svm import SVC\n",
        "from sklearn.ensemble import RandomForestClassifier\n",
        "from sklearn.tree import DecisionTreeClassifier\n",
        "from sklearn.model_selection import cross_val_score\n",
        "from sklearn.metrics import classification_report\n",
        "from sklearn.model_selection import RandomizedSearchCV\n",
        "from sklearn.pipeline import Pipeline, make_pipeline\n",
        "from sklearn.compose import ColumnTransformer"
      ],
      "metadata": {
        "id": "CDnrhXsIAnM7"
      },
      "execution_count": 1,
      "outputs": []
    },
    {
      "cell_type": "markdown",
      "source": [
        "# Data Loading"
      ],
      "metadata": {
        "id": "uCk9aqM0Npv8"
      }
    },
    {
      "cell_type": "markdown",
      "source": [
        "File .csv dataset cukup besar, sehingga loading data dilakukan melalui mounting dari Google Drive pribadi."
      ],
      "metadata": {
        "id": "PQ8xzT5NNrLA"
      }
    },
    {
      "cell_type": "code",
      "execution_count": 2,
      "metadata": {
        "id": "lTvS2EPf4uO5",
        "colab": {
          "base_uri": "https://localhost:8080/",
          "height": 638
        },
        "outputId": "9df73226-cb9b-45af-a2f0-808b9b0e0697"
      },
      "outputs": [
        {
          "output_type": "stream",
          "name": "stdout",
          "text": [
            "Mounted at /content/drive\n"
          ]
        },
        {
          "output_type": "execute_result",
          "data": {
            "text/plain": [
              "                 Name  Age  Birth Year  Origin  Height  Weight     Category  \\\n",
              "0   Cosconius Hostius   42           8    Gaul     176      54  Hoplomachus   \n",
              "1  Caecilius Valerius   30          20  Greece     173      67   Provocator   \n",
              "2    Sempronius Aulus   30          20    Gaul     171      81  Hoplomachus   \n",
              "3   Lacerius Laberius   32          18    Rome     172      72    Retiarius   \n",
              "4      Blaesus Modius   29          21    Gaul     177      87      Secutor   \n",
              "5    Hortensius Gaius   23          27    Gaul     158      77     Murmillo   \n",
              "6   Lollius Nasennius   43           7  Greece     168      74  Hoplomachus   \n",
              "7      Gaius Caninius   36          14    Rome     185      62      Secutor   \n",
              "8    Petreius Memmius   33          17  Thrace     186      50   Provocator   \n",
              "9     Numerius Sextus   32          18  Greece     171      56   Provocator   \n",
              "\n",
              "   Wins  Losses Special Skills  ... Battle Experience Psychological Profile  \\\n",
              "0    10       2         Novice  ...                12                 Stoic   \n",
              "1     6       0        Agility  ...                 6            Aggressive   \n",
              "2     8       4      Endurance  ...                12           Calculative   \n",
              "3     8       3         Novice  ...                11                 Stoic   \n",
              "4    12       5        Tactics  ...                17                 Stoic   \n",
              "5     7       1          Speed  ...                 8               Fearful   \n",
              "6     7       1        Agility  ...                 8                 Stoic   \n",
              "7    13       8         Novice  ...                21               Fearful   \n",
              "8     7       0       Strength  ...                 7                 Stoic   \n",
              "9     8       1        Tactics  ...                 9               Fearful   \n",
              "\n",
              "  Health Status  Personal Motivation Previous Occupation  Training Intensity  \\\n",
              "0          Good                Glory             Laborer              Medium   \n",
              "1     Excellent              Freedom             Laborer              Medium   \n",
              "2     Excellent               Wealth          Unemployed              Medium   \n",
              "3     Excellent              Freedom          Unemployed              Medium   \n",
              "4          Good             Survival         Entertainer              Medium   \n",
              "5     Excellent               Wealth             Soldier              Medium   \n",
              "6          Good            Vengeance          Unemployed                 Low   \n",
              "7          Good               Wealth          Unemployed                 Low   \n",
              "8     Excellent               Wealth         Entertainer              Medium   \n",
              "9     Excellent               Wealth            Criminal              Medium   \n",
              "\n",
              "  Battle Strategy Social Standing Crowd Appeal Techniques  Survived  \n",
              "0        Balanced             Low              Flamboyant      True  \n",
              "1      Aggressive            High            Intimidating     False  \n",
              "2        Balanced          Medium             Charismatic      True  \n",
              "3      Aggressive            High                  Humble      True  \n",
              "4        Balanced          Medium                  Humble      True  \n",
              "5      Aggressive          Medium            Intimidating      True  \n",
              "6      Aggressive             Low            Intimidating      True  \n",
              "7        Balanced          Medium            Intimidating      True  \n",
              "8      Aggressive            High            Intimidating      True  \n",
              "9       Defensive            High             Charismatic      True  \n",
              "\n",
              "[10 rows x 29 columns]"
            ],
            "text/html": [
              "\n",
              "  <div id=\"df-6cbdb569-7a6b-43b2-92fb-7d8908a2aa94\" class=\"colab-df-container\">\n",
              "    <div>\n",
              "<style scoped>\n",
              "    .dataframe tbody tr th:only-of-type {\n",
              "        vertical-align: middle;\n",
              "    }\n",
              "\n",
              "    .dataframe tbody tr th {\n",
              "        vertical-align: top;\n",
              "    }\n",
              "\n",
              "    .dataframe thead th {\n",
              "        text-align: right;\n",
              "    }\n",
              "</style>\n",
              "<table border=\"1\" class=\"dataframe\">\n",
              "  <thead>\n",
              "    <tr style=\"text-align: right;\">\n",
              "      <th></th>\n",
              "      <th>Name</th>\n",
              "      <th>Age</th>\n",
              "      <th>Birth Year</th>\n",
              "      <th>Origin</th>\n",
              "      <th>Height</th>\n",
              "      <th>Weight</th>\n",
              "      <th>Category</th>\n",
              "      <th>Wins</th>\n",
              "      <th>Losses</th>\n",
              "      <th>Special Skills</th>\n",
              "      <th>...</th>\n",
              "      <th>Battle Experience</th>\n",
              "      <th>Psychological Profile</th>\n",
              "      <th>Health Status</th>\n",
              "      <th>Personal Motivation</th>\n",
              "      <th>Previous Occupation</th>\n",
              "      <th>Training Intensity</th>\n",
              "      <th>Battle Strategy</th>\n",
              "      <th>Social Standing</th>\n",
              "      <th>Crowd Appeal Techniques</th>\n",
              "      <th>Survived</th>\n",
              "    </tr>\n",
              "  </thead>\n",
              "  <tbody>\n",
              "    <tr>\n",
              "      <th>0</th>\n",
              "      <td>Cosconius Hostius</td>\n",
              "      <td>42</td>\n",
              "      <td>8</td>\n",
              "      <td>Gaul</td>\n",
              "      <td>176</td>\n",
              "      <td>54</td>\n",
              "      <td>Hoplomachus</td>\n",
              "      <td>10</td>\n",
              "      <td>2</td>\n",
              "      <td>Novice</td>\n",
              "      <td>...</td>\n",
              "      <td>12</td>\n",
              "      <td>Stoic</td>\n",
              "      <td>Good</td>\n",
              "      <td>Glory</td>\n",
              "      <td>Laborer</td>\n",
              "      <td>Medium</td>\n",
              "      <td>Balanced</td>\n",
              "      <td>Low</td>\n",
              "      <td>Flamboyant</td>\n",
              "      <td>True</td>\n",
              "    </tr>\n",
              "    <tr>\n",
              "      <th>1</th>\n",
              "      <td>Caecilius Valerius</td>\n",
              "      <td>30</td>\n",
              "      <td>20</td>\n",
              "      <td>Greece</td>\n",
              "      <td>173</td>\n",
              "      <td>67</td>\n",
              "      <td>Provocator</td>\n",
              "      <td>6</td>\n",
              "      <td>0</td>\n",
              "      <td>Agility</td>\n",
              "      <td>...</td>\n",
              "      <td>6</td>\n",
              "      <td>Aggressive</td>\n",
              "      <td>Excellent</td>\n",
              "      <td>Freedom</td>\n",
              "      <td>Laborer</td>\n",
              "      <td>Medium</td>\n",
              "      <td>Aggressive</td>\n",
              "      <td>High</td>\n",
              "      <td>Intimidating</td>\n",
              "      <td>False</td>\n",
              "    </tr>\n",
              "    <tr>\n",
              "      <th>2</th>\n",
              "      <td>Sempronius Aulus</td>\n",
              "      <td>30</td>\n",
              "      <td>20</td>\n",
              "      <td>Gaul</td>\n",
              "      <td>171</td>\n",
              "      <td>81</td>\n",
              "      <td>Hoplomachus</td>\n",
              "      <td>8</td>\n",
              "      <td>4</td>\n",
              "      <td>Endurance</td>\n",
              "      <td>...</td>\n",
              "      <td>12</td>\n",
              "      <td>Calculative</td>\n",
              "      <td>Excellent</td>\n",
              "      <td>Wealth</td>\n",
              "      <td>Unemployed</td>\n",
              "      <td>Medium</td>\n",
              "      <td>Balanced</td>\n",
              "      <td>Medium</td>\n",
              "      <td>Charismatic</td>\n",
              "      <td>True</td>\n",
              "    </tr>\n",
              "    <tr>\n",
              "      <th>3</th>\n",
              "      <td>Lacerius Laberius</td>\n",
              "      <td>32</td>\n",
              "      <td>18</td>\n",
              "      <td>Rome</td>\n",
              "      <td>172</td>\n",
              "      <td>72</td>\n",
              "      <td>Retiarius</td>\n",
              "      <td>8</td>\n",
              "      <td>3</td>\n",
              "      <td>Novice</td>\n",
              "      <td>...</td>\n",
              "      <td>11</td>\n",
              "      <td>Stoic</td>\n",
              "      <td>Excellent</td>\n",
              "      <td>Freedom</td>\n",
              "      <td>Unemployed</td>\n",
              "      <td>Medium</td>\n",
              "      <td>Aggressive</td>\n",
              "      <td>High</td>\n",
              "      <td>Humble</td>\n",
              "      <td>True</td>\n",
              "    </tr>\n",
              "    <tr>\n",
              "      <th>4</th>\n",
              "      <td>Blaesus Modius</td>\n",
              "      <td>29</td>\n",
              "      <td>21</td>\n",
              "      <td>Gaul</td>\n",
              "      <td>177</td>\n",
              "      <td>87</td>\n",
              "      <td>Secutor</td>\n",
              "      <td>12</td>\n",
              "      <td>5</td>\n",
              "      <td>Tactics</td>\n",
              "      <td>...</td>\n",
              "      <td>17</td>\n",
              "      <td>Stoic</td>\n",
              "      <td>Good</td>\n",
              "      <td>Survival</td>\n",
              "      <td>Entertainer</td>\n",
              "      <td>Medium</td>\n",
              "      <td>Balanced</td>\n",
              "      <td>Medium</td>\n",
              "      <td>Humble</td>\n",
              "      <td>True</td>\n",
              "    </tr>\n",
              "    <tr>\n",
              "      <th>5</th>\n",
              "      <td>Hortensius Gaius</td>\n",
              "      <td>23</td>\n",
              "      <td>27</td>\n",
              "      <td>Gaul</td>\n",
              "      <td>158</td>\n",
              "      <td>77</td>\n",
              "      <td>Murmillo</td>\n",
              "      <td>7</td>\n",
              "      <td>1</td>\n",
              "      <td>Speed</td>\n",
              "      <td>...</td>\n",
              "      <td>8</td>\n",
              "      <td>Fearful</td>\n",
              "      <td>Excellent</td>\n",
              "      <td>Wealth</td>\n",
              "      <td>Soldier</td>\n",
              "      <td>Medium</td>\n",
              "      <td>Aggressive</td>\n",
              "      <td>Medium</td>\n",
              "      <td>Intimidating</td>\n",
              "      <td>True</td>\n",
              "    </tr>\n",
              "    <tr>\n",
              "      <th>6</th>\n",
              "      <td>Lollius Nasennius</td>\n",
              "      <td>43</td>\n",
              "      <td>7</td>\n",
              "      <td>Greece</td>\n",
              "      <td>168</td>\n",
              "      <td>74</td>\n",
              "      <td>Hoplomachus</td>\n",
              "      <td>7</td>\n",
              "      <td>1</td>\n",
              "      <td>Agility</td>\n",
              "      <td>...</td>\n",
              "      <td>8</td>\n",
              "      <td>Stoic</td>\n",
              "      <td>Good</td>\n",
              "      <td>Vengeance</td>\n",
              "      <td>Unemployed</td>\n",
              "      <td>Low</td>\n",
              "      <td>Aggressive</td>\n",
              "      <td>Low</td>\n",
              "      <td>Intimidating</td>\n",
              "      <td>True</td>\n",
              "    </tr>\n",
              "    <tr>\n",
              "      <th>7</th>\n",
              "      <td>Gaius Caninius</td>\n",
              "      <td>36</td>\n",
              "      <td>14</td>\n",
              "      <td>Rome</td>\n",
              "      <td>185</td>\n",
              "      <td>62</td>\n",
              "      <td>Secutor</td>\n",
              "      <td>13</td>\n",
              "      <td>8</td>\n",
              "      <td>Novice</td>\n",
              "      <td>...</td>\n",
              "      <td>21</td>\n",
              "      <td>Fearful</td>\n",
              "      <td>Good</td>\n",
              "      <td>Wealth</td>\n",
              "      <td>Unemployed</td>\n",
              "      <td>Low</td>\n",
              "      <td>Balanced</td>\n",
              "      <td>Medium</td>\n",
              "      <td>Intimidating</td>\n",
              "      <td>True</td>\n",
              "    </tr>\n",
              "    <tr>\n",
              "      <th>8</th>\n",
              "      <td>Petreius Memmius</td>\n",
              "      <td>33</td>\n",
              "      <td>17</td>\n",
              "      <td>Thrace</td>\n",
              "      <td>186</td>\n",
              "      <td>50</td>\n",
              "      <td>Provocator</td>\n",
              "      <td>7</td>\n",
              "      <td>0</td>\n",
              "      <td>Strength</td>\n",
              "      <td>...</td>\n",
              "      <td>7</td>\n",
              "      <td>Stoic</td>\n",
              "      <td>Excellent</td>\n",
              "      <td>Wealth</td>\n",
              "      <td>Entertainer</td>\n",
              "      <td>Medium</td>\n",
              "      <td>Aggressive</td>\n",
              "      <td>High</td>\n",
              "      <td>Intimidating</td>\n",
              "      <td>True</td>\n",
              "    </tr>\n",
              "    <tr>\n",
              "      <th>9</th>\n",
              "      <td>Numerius Sextus</td>\n",
              "      <td>32</td>\n",
              "      <td>18</td>\n",
              "      <td>Greece</td>\n",
              "      <td>171</td>\n",
              "      <td>56</td>\n",
              "      <td>Provocator</td>\n",
              "      <td>8</td>\n",
              "      <td>1</td>\n",
              "      <td>Tactics</td>\n",
              "      <td>...</td>\n",
              "      <td>9</td>\n",
              "      <td>Fearful</td>\n",
              "      <td>Excellent</td>\n",
              "      <td>Wealth</td>\n",
              "      <td>Criminal</td>\n",
              "      <td>Medium</td>\n",
              "      <td>Defensive</td>\n",
              "      <td>High</td>\n",
              "      <td>Charismatic</td>\n",
              "      <td>True</td>\n",
              "    </tr>\n",
              "  </tbody>\n",
              "</table>\n",
              "<p>10 rows × 29 columns</p>\n",
              "</div>\n",
              "    <div class=\"colab-df-buttons\">\n",
              "\n",
              "  <div class=\"colab-df-container\">\n",
              "    <button class=\"colab-df-convert\" onclick=\"convertToInteractive('df-6cbdb569-7a6b-43b2-92fb-7d8908a2aa94')\"\n",
              "            title=\"Convert this dataframe to an interactive table.\"\n",
              "            style=\"display:none;\">\n",
              "\n",
              "  <svg xmlns=\"http://www.w3.org/2000/svg\" height=\"24px\" viewBox=\"0 -960 960 960\">\n",
              "    <path d=\"M120-120v-720h720v720H120Zm60-500h600v-160H180v160Zm220 220h160v-160H400v160Zm0 220h160v-160H400v160ZM180-400h160v-160H180v160Zm440 0h160v-160H620v160ZM180-180h160v-160H180v160Zm440 0h160v-160H620v160Z\"/>\n",
              "  </svg>\n",
              "    </button>\n",
              "\n",
              "  <style>\n",
              "    .colab-df-container {\n",
              "      display:flex;\n",
              "      gap: 12px;\n",
              "    }\n",
              "\n",
              "    .colab-df-convert {\n",
              "      background-color: #E8F0FE;\n",
              "      border: none;\n",
              "      border-radius: 50%;\n",
              "      cursor: pointer;\n",
              "      display: none;\n",
              "      fill: #1967D2;\n",
              "      height: 32px;\n",
              "      padding: 0 0 0 0;\n",
              "      width: 32px;\n",
              "    }\n",
              "\n",
              "    .colab-df-convert:hover {\n",
              "      background-color: #E2EBFA;\n",
              "      box-shadow: 0px 1px 2px rgba(60, 64, 67, 0.3), 0px 1px 3px 1px rgba(60, 64, 67, 0.15);\n",
              "      fill: #174EA6;\n",
              "    }\n",
              "\n",
              "    .colab-df-buttons div {\n",
              "      margin-bottom: 4px;\n",
              "    }\n",
              "\n",
              "    [theme=dark] .colab-df-convert {\n",
              "      background-color: #3B4455;\n",
              "      fill: #D2E3FC;\n",
              "    }\n",
              "\n",
              "    [theme=dark] .colab-df-convert:hover {\n",
              "      background-color: #434B5C;\n",
              "      box-shadow: 0px 1px 3px 1px rgba(0, 0, 0, 0.15);\n",
              "      filter: drop-shadow(0px 1px 2px rgba(0, 0, 0, 0.3));\n",
              "      fill: #FFFFFF;\n",
              "    }\n",
              "  </style>\n",
              "\n",
              "    <script>\n",
              "      const buttonEl =\n",
              "        document.querySelector('#df-6cbdb569-7a6b-43b2-92fb-7d8908a2aa94 button.colab-df-convert');\n",
              "      buttonEl.style.display =\n",
              "        google.colab.kernel.accessAllowed ? 'block' : 'none';\n",
              "\n",
              "      async function convertToInteractive(key) {\n",
              "        const element = document.querySelector('#df-6cbdb569-7a6b-43b2-92fb-7d8908a2aa94');\n",
              "        const dataTable =\n",
              "          await google.colab.kernel.invokeFunction('convertToInteractive',\n",
              "                                                    [key], {});\n",
              "        if (!dataTable) return;\n",
              "\n",
              "        const docLinkHtml = 'Like what you see? Visit the ' +\n",
              "          '<a target=\"_blank\" href=https://colab.research.google.com/notebooks/data_table.ipynb>data table notebook</a>'\n",
              "          + ' to learn more about interactive tables.';\n",
              "        element.innerHTML = '';\n",
              "        dataTable['output_type'] = 'display_data';\n",
              "        await google.colab.output.renderOutput(dataTable, element);\n",
              "        const docLink = document.createElement('div');\n",
              "        docLink.innerHTML = docLinkHtml;\n",
              "        element.appendChild(docLink);\n",
              "      }\n",
              "    </script>\n",
              "  </div>\n",
              "\n",
              "\n",
              "<div id=\"df-6ec8645b-9ee2-4e3a-b8a8-f0ea94b5e0f6\">\n",
              "  <button class=\"colab-df-quickchart\" onclick=\"quickchart('df-6ec8645b-9ee2-4e3a-b8a8-f0ea94b5e0f6')\"\n",
              "            title=\"Suggest charts\"\n",
              "            style=\"display:none;\">\n",
              "\n",
              "<svg xmlns=\"http://www.w3.org/2000/svg\" height=\"24px\"viewBox=\"0 0 24 24\"\n",
              "     width=\"24px\">\n",
              "    <g>\n",
              "        <path d=\"M19 3H5c-1.1 0-2 .9-2 2v14c0 1.1.9 2 2 2h14c1.1 0 2-.9 2-2V5c0-1.1-.9-2-2-2zM9 17H7v-7h2v7zm4 0h-2V7h2v10zm4 0h-2v-4h2v4z\"/>\n",
              "    </g>\n",
              "</svg>\n",
              "  </button>\n",
              "\n",
              "<style>\n",
              "  .colab-df-quickchart {\n",
              "      --bg-color: #E8F0FE;\n",
              "      --fill-color: #1967D2;\n",
              "      --hover-bg-color: #E2EBFA;\n",
              "      --hover-fill-color: #174EA6;\n",
              "      --disabled-fill-color: #AAA;\n",
              "      --disabled-bg-color: #DDD;\n",
              "  }\n",
              "\n",
              "  [theme=dark] .colab-df-quickchart {\n",
              "      --bg-color: #3B4455;\n",
              "      --fill-color: #D2E3FC;\n",
              "      --hover-bg-color: #434B5C;\n",
              "      --hover-fill-color: #FFFFFF;\n",
              "      --disabled-bg-color: #3B4455;\n",
              "      --disabled-fill-color: #666;\n",
              "  }\n",
              "\n",
              "  .colab-df-quickchart {\n",
              "    background-color: var(--bg-color);\n",
              "    border: none;\n",
              "    border-radius: 50%;\n",
              "    cursor: pointer;\n",
              "    display: none;\n",
              "    fill: var(--fill-color);\n",
              "    height: 32px;\n",
              "    padding: 0;\n",
              "    width: 32px;\n",
              "  }\n",
              "\n",
              "  .colab-df-quickchart:hover {\n",
              "    background-color: var(--hover-bg-color);\n",
              "    box-shadow: 0 1px 2px rgba(60, 64, 67, 0.3), 0 1px 3px 1px rgba(60, 64, 67, 0.15);\n",
              "    fill: var(--button-hover-fill-color);\n",
              "  }\n",
              "\n",
              "  .colab-df-quickchart-complete:disabled,\n",
              "  .colab-df-quickchart-complete:disabled:hover {\n",
              "    background-color: var(--disabled-bg-color);\n",
              "    fill: var(--disabled-fill-color);\n",
              "    box-shadow: none;\n",
              "  }\n",
              "\n",
              "  .colab-df-spinner {\n",
              "    border: 2px solid var(--fill-color);\n",
              "    border-color: transparent;\n",
              "    border-bottom-color: var(--fill-color);\n",
              "    animation:\n",
              "      spin 1s steps(1) infinite;\n",
              "  }\n",
              "\n",
              "  @keyframes spin {\n",
              "    0% {\n",
              "      border-color: transparent;\n",
              "      border-bottom-color: var(--fill-color);\n",
              "      border-left-color: var(--fill-color);\n",
              "    }\n",
              "    20% {\n",
              "      border-color: transparent;\n",
              "      border-left-color: var(--fill-color);\n",
              "      border-top-color: var(--fill-color);\n",
              "    }\n",
              "    30% {\n",
              "      border-color: transparent;\n",
              "      border-left-color: var(--fill-color);\n",
              "      border-top-color: var(--fill-color);\n",
              "      border-right-color: var(--fill-color);\n",
              "    }\n",
              "    40% {\n",
              "      border-color: transparent;\n",
              "      border-right-color: var(--fill-color);\n",
              "      border-top-color: var(--fill-color);\n",
              "    }\n",
              "    60% {\n",
              "      border-color: transparent;\n",
              "      border-right-color: var(--fill-color);\n",
              "    }\n",
              "    80% {\n",
              "      border-color: transparent;\n",
              "      border-right-color: var(--fill-color);\n",
              "      border-bottom-color: var(--fill-color);\n",
              "    }\n",
              "    90% {\n",
              "      border-color: transparent;\n",
              "      border-bottom-color: var(--fill-color);\n",
              "    }\n",
              "  }\n",
              "</style>\n",
              "\n",
              "  <script>\n",
              "    async function quickchart(key) {\n",
              "      const quickchartButtonEl =\n",
              "        document.querySelector('#' + key + ' button');\n",
              "      quickchartButtonEl.disabled = true;  // To prevent multiple clicks.\n",
              "      quickchartButtonEl.classList.add('colab-df-spinner');\n",
              "      try {\n",
              "        const charts = await google.colab.kernel.invokeFunction(\n",
              "            'suggestCharts', [key], {});\n",
              "      } catch (error) {\n",
              "        console.error('Error during call to suggestCharts:', error);\n",
              "      }\n",
              "      quickchartButtonEl.classList.remove('colab-df-spinner');\n",
              "      quickchartButtonEl.classList.add('colab-df-quickchart-complete');\n",
              "    }\n",
              "    (() => {\n",
              "      let quickchartButtonEl =\n",
              "        document.querySelector('#df-6ec8645b-9ee2-4e3a-b8a8-f0ea94b5e0f6 button');\n",
              "      quickchartButtonEl.style.display =\n",
              "        google.colab.kernel.accessAllowed ? 'block' : 'none';\n",
              "    })();\n",
              "  </script>\n",
              "</div>\n",
              "    </div>\n",
              "  </div>\n"
            ]
          },
          "metadata": {},
          "execution_count": 2
        }
      ],
      "source": [
        "# Loading data dari Gdrive\n",
        "\n",
        "drive.mount('/content/drive')\n",
        "df = pd.read_csv('/content/drive/My Drive/sampledb/gladiator_data.csv')\n",
        "df.head(10)"
      ]
    },
    {
      "cell_type": "code",
      "source": [
        "df.info()"
      ],
      "metadata": {
        "colab": {
          "base_uri": "https://localhost:8080/"
        },
        "id": "EHCn9-iCCRb7",
        "outputId": "20028f28-fdd6-40ac-9e7d-4637de7be04b"
      },
      "execution_count": 3,
      "outputs": [
        {
          "output_type": "stream",
          "name": "stdout",
          "text": [
            "<class 'pandas.core.frame.DataFrame'>\n",
            "RangeIndex: 737570 entries, 0 to 737569\n",
            "Data columns (total 29 columns):\n",
            " #   Column                   Non-Null Count   Dtype  \n",
            "---  ------                   --------------   -----  \n",
            " 0   Name                     737570 non-null  object \n",
            " 1   Age                      737570 non-null  int64  \n",
            " 2   Birth Year               737570 non-null  int64  \n",
            " 3   Origin                   737570 non-null  object \n",
            " 4   Height                   737570 non-null  int64  \n",
            " 5   Weight                   737570 non-null  int64  \n",
            " 6   Category                 737570 non-null  object \n",
            " 7   Wins                     737570 non-null  int64  \n",
            " 8   Losses                   737570 non-null  int64  \n",
            " 9   Special Skills           737570 non-null  object \n",
            " 10  Weapon of Choice         737570 non-null  object \n",
            " 11  Patron Wealth            737570 non-null  object \n",
            " 12  Equipment Quality        737570 non-null  object \n",
            " 13  Public Favor             737570 non-null  float64\n",
            " 14  Injury History           737570 non-null  object \n",
            " 15  Mental Resilience        737570 non-null  float64\n",
            " 16  Diet and Nutrition       737570 non-null  object \n",
            " 17  Tactical Knowledge       737570 non-null  object \n",
            " 18  Allegiance Network       737570 non-null  object \n",
            " 19  Battle Experience        737570 non-null  int64  \n",
            " 20  Psychological Profile    737570 non-null  object \n",
            " 21  Health Status            737570 non-null  object \n",
            " 22  Personal Motivation      737570 non-null  object \n",
            " 23  Previous Occupation      737570 non-null  object \n",
            " 24  Training Intensity       737570 non-null  object \n",
            " 25  Battle Strategy          737570 non-null  object \n",
            " 26  Social Standing          737570 non-null  object \n",
            " 27  Crowd Appeal Techniques  737570 non-null  object \n",
            " 28  Survived                 737570 non-null  bool   \n",
            "dtypes: bool(1), float64(2), int64(7), object(19)\n",
            "memory usage: 158.3+ MB\n"
          ]
        }
      ]
    },
    {
      "cell_type": "markdown",
      "source": [
        "Seringkali faktor-faktor yang sangat berpengaruh pada survivabilitas gladiator adalah faktor-faktor yang dekat dengan arena bertarung mereka (peralatan, latihan, dll). Fitur yang berkaitan dengan hal-hal personal gladiator tidak akan digunakan dalam menyusun model. Berikut adalah fitur-fitur yang tidak akan dilibatkan: \\\n",
        "\n",
        "-`Birth Year` \\\n",
        "-`Special Skills` \\\n",
        "-`Patron Wealth` \\\n",
        "-`Public Favor` \\\n",
        "-`Diet and Nutrition` \\\n",
        "-`Allegiance Network` \\\n",
        "-`Psychological Profile` \\\n",
        "-`Personal Motivation` \\\n",
        "-`Previous Occupation` \\\n",
        "-`Social Standing` \\\n",
        "-`Crowd Appeal Techniques` \\"
      ],
      "metadata": {
        "id": "E066Al_nEC8h"
      }
    },
    {
      "cell_type": "code",
      "source": [
        "# Drop fitur-fitur yang tidak digunakan (seperti yang diberikan di atas)\n",
        "\n",
        "df.drop(['Birth Year', 'Special Skills', 'Patron Wealth', 'Public Favor', 'Diet and Nutrition',\n",
        "         'Allegiance Network', 'Psychological Profile', 'Personal Motivation', 'Previous Occupation',\n",
        "         'Social Standing', 'Crowd Appeal Techniques'], axis=1, inplace=True)"
      ],
      "metadata": {
        "id": "myS-EePWGz49"
      },
      "execution_count": 4,
      "outputs": []
    },
    {
      "cell_type": "code",
      "source": [
        "# Fitur-fitur telah didrop\n",
        "df.info()"
      ],
      "metadata": {
        "colab": {
          "base_uri": "https://localhost:8080/"
        },
        "id": "zL02DaTmHVq7",
        "outputId": "5d83b5b8-c603-4498-dbbf-eb37dae146a1"
      },
      "execution_count": 5,
      "outputs": [
        {
          "output_type": "stream",
          "name": "stdout",
          "text": [
            "<class 'pandas.core.frame.DataFrame'>\n",
            "RangeIndex: 737570 entries, 0 to 737569\n",
            "Data columns (total 18 columns):\n",
            " #   Column              Non-Null Count   Dtype  \n",
            "---  ------              --------------   -----  \n",
            " 0   Name                737570 non-null  object \n",
            " 1   Age                 737570 non-null  int64  \n",
            " 2   Origin              737570 non-null  object \n",
            " 3   Height              737570 non-null  int64  \n",
            " 4   Weight              737570 non-null  int64  \n",
            " 5   Category            737570 non-null  object \n",
            " 6   Wins                737570 non-null  int64  \n",
            " 7   Losses              737570 non-null  int64  \n",
            " 8   Weapon of Choice    737570 non-null  object \n",
            " 9   Equipment Quality   737570 non-null  object \n",
            " 10  Injury History      737570 non-null  object \n",
            " 11  Mental Resilience   737570 non-null  float64\n",
            " 12  Tactical Knowledge  737570 non-null  object \n",
            " 13  Battle Experience   737570 non-null  int64  \n",
            " 14  Health Status       737570 non-null  object \n",
            " 15  Training Intensity  737570 non-null  object \n",
            " 16  Battle Strategy     737570 non-null  object \n",
            " 17  Survived            737570 non-null  bool   \n",
            "dtypes: bool(1), float64(1), int64(6), object(10)\n",
            "memory usage: 96.4+ MB\n"
          ]
        }
      ]
    },
    {
      "cell_type": "markdown",
      "source": [
        "Setiap kolom memiliki 700000+ entry data yang akan menyebabkan waktu training sangat lama. Jumlah data akan dipotong menjadi hanya 3000 entry."
      ],
      "metadata": {
        "id": "x4SxF91Uwjxb"
      }
    },
    {
      "cell_type": "code",
      "source": [
        "dfcut = df.drop(df.index[2999:737569], inplace = False)\n",
        "dfcut.info()"
      ],
      "metadata": {
        "colab": {
          "base_uri": "https://localhost:8080/"
        },
        "id": "YjBx4Qe00Mwh",
        "outputId": "1e6f93d2-a233-4e62-88bf-e4ce2bdeb3cc"
      },
      "execution_count": 6,
      "outputs": [
        {
          "output_type": "stream",
          "name": "stdout",
          "text": [
            "<class 'pandas.core.frame.DataFrame'>\n",
            "Int64Index: 3000 entries, 0 to 737569\n",
            "Data columns (total 18 columns):\n",
            " #   Column              Non-Null Count  Dtype  \n",
            "---  ------              --------------  -----  \n",
            " 0   Name                3000 non-null   object \n",
            " 1   Age                 3000 non-null   int64  \n",
            " 2   Origin              3000 non-null   object \n",
            " 3   Height              3000 non-null   int64  \n",
            " 4   Weight              3000 non-null   int64  \n",
            " 5   Category            3000 non-null   object \n",
            " 6   Wins                3000 non-null   int64  \n",
            " 7   Losses              3000 non-null   int64  \n",
            " 8   Weapon of Choice    3000 non-null   object \n",
            " 9   Equipment Quality   3000 non-null   object \n",
            " 10  Injury History      3000 non-null   object \n",
            " 11  Mental Resilience   3000 non-null   float64\n",
            " 12  Tactical Knowledge  3000 non-null   object \n",
            " 13  Battle Experience   3000 non-null   int64  \n",
            " 14  Health Status       3000 non-null   object \n",
            " 15  Training Intensity  3000 non-null   object \n",
            " 16  Battle Strategy     3000 non-null   object \n",
            " 17  Survived            3000 non-null   bool   \n",
            "dtypes: bool(1), float64(1), int64(6), object(10)\n",
            "memory usage: 424.8+ KB\n"
          ]
        }
      ]
    },
    {
      "cell_type": "code",
      "source": [
        "dfcut.to_csv('gladiatorDataCut.csv')"
      ],
      "metadata": {
        "id": "pjzJukWSashU"
      },
      "execution_count": 7,
      "outputs": []
    },
    {
      "cell_type": "markdown",
      "source": [
        "# Exploratory Data Analysis (EDA)"
      ],
      "metadata": {
        "id": "p1aECi_zHr5O"
      }
    },
    {
      "cell_type": "markdown",
      "source": [
        "Pada bagian ini, setiap fitur akan ditelusuri lebih lanjut."
      ],
      "metadata": {
        "id": "TniYT9-zH1ph"
      }
    },
    {
      "cell_type": "code",
      "source": [
        "# Cek distribusi 'Age'\n",
        "\n",
        "sns.histplot(data = dfcut, x = 'Age')"
      ],
      "metadata": {
        "colab": {
          "base_uri": "https://localhost:8080/",
          "height": 466
        },
        "id": "CePUDEkoHuNP",
        "outputId": "9e3919e8-1119-4216-d0ac-1aede937f2e0"
      },
      "execution_count": null,
      "outputs": [
        {
          "output_type": "execute_result",
          "data": {
            "text/plain": [
              "<Axes: xlabel='Age', ylabel='Count'>"
            ]
          },
          "metadata": {},
          "execution_count": 8
        },
        {
          "output_type": "display_data",
          "data": {
            "text/plain": [
              "<Figure size 640x480 with 1 Axes>"
            ],
            "image/png": "[encoded data removed]"
          },
          "metadata": {}
        }
      ]
    },
    {
      "cell_type": "code",
      "source": [
        "# Cek skewness 'Age'\n",
        "\n",
        "print('Skewness Age:', dfcut['Age'].skew())"
      ],
      "metadata": {
        "colab": {
          "base_uri": "https://localhost:8080/"
        },
        "id": "1Z8wslhxIl7x",
        "outputId": "e1297076-ddc0-4fbb-9dd3-17354f2fd44f"
      },
      "execution_count": null,
      "outputs": [
        {
          "output_type": "stream",
          "name": "stdout",
          "text": [
            "Skewness Age: -0.02108067113759791\n"
          ]
        }
      ]
    },
    {
      "cell_type": "markdown",
      "source": [
        "Rentang usia gladiator adalah dari 20 hingga 45. Bahkan gladiator yang lebih muda dari 20, dan jumlahnya sebanyak entry usia-usia lainnya. Distribusi `Age` terhitung normal karena magnitude skewnessnya tidak lebih dari 0,5."
      ],
      "metadata": {
        "id": "eNF1lP31IpdE"
      }
    },
    {
      "cell_type": "code",
      "source": [
        "# Cek distribusi 'Height'\n",
        "\n",
        "sns.histplot(data=dfcut, x='Height')"
      ],
      "metadata": {
        "colab": {
          "base_uri": "https://localhost:8080/",
          "height": 466
        },
        "id": "gfAkt9ScNdj4",
        "outputId": "2fd3abcc-9306-44fb-d2ad-7195c9d093a9"
      },
      "execution_count": null,
      "outputs": [
        {
          "output_type": "execute_result",
          "data": {
            "text/plain": [
              "<Axes: xlabel='Height', ylabel='Count'>"
            ]
          },
          "metadata": {},
          "execution_count": 10
        },
        {
          "output_type": "display_data",
          "data": {
            "text/plain": [
              "<Figure size 640x480 with 1 Axes>"
            ],
            "image/png": "[encoded data removed]"
          },
          "metadata": {}
        }
      ]
    },
    {
      "cell_type": "code",
      "source": [
        "# Cek skewness 'Height'\n",
        "\n",
        "print('Skewness Height:', dfcut['Height'].skew())"
      ],
      "metadata": {
        "colab": {
          "base_uri": "https://localhost:8080/"
        },
        "id": "BxRz182sJOTw",
        "outputId": "b833316e-e741-4076-bd67-a37be7f65645"
      },
      "execution_count": null,
      "outputs": [
        {
          "output_type": "stream",
          "name": "stdout",
          "text": [
            "Skewness Height: 0.023923773350812173\n"
          ]
        }
      ]
    },
    {
      "cell_type": "markdown",
      "source": [
        "Distribusi `Height` normal. Tinggi gladiator berkisar dari 140cm hingga sekitar 210cm."
      ],
      "metadata": {
        "id": "QoirlYFpNkkH"
      }
    },
    {
      "cell_type": "code",
      "source": [
        "# Cek distribusi 'Weight'\n",
        "\n",
        "sns.histplot(data=dfcut, x='Weight')"
      ],
      "metadata": {
        "colab": {
          "base_uri": "https://localhost:8080/",
          "height": 469
        },
        "id": "A1Iwo8_hNv9e",
        "outputId": "f674de59-3ce6-4139-e54d-8691d646f9a0"
      },
      "execution_count": null,
      "outputs": [
        {
          "output_type": "execute_result",
          "data": {
            "text/plain": [
              "<Axes: xlabel='Weight', ylabel='Count'>"
            ]
          },
          "metadata": {},
          "execution_count": 12
        },
        {
          "output_type": "display_data",
          "data": {
            "text/plain": [
              "<Figure size 640x480 with 1 Axes>"
            ],
            "image/png": "[encoded data removed]"
          },
          "metadata": {}
        }
      ]
    },
    {
      "cell_type": "code",
      "source": [
        "# Cek skewness 'Weight'\n",
        "\n",
        "print('Skewness Weight:', dfcut['Weight'].skew())"
      ],
      "metadata": {
        "colab": {
          "base_uri": "https://localhost:8080/"
        },
        "id": "cAEWzQGhNzml",
        "outputId": "f531f5fc-bda3-4889-c123-16c0344249fd"
      },
      "execution_count": null,
      "outputs": [
        {
          "output_type": "stream",
          "name": "stdout",
          "text": [
            "Skewness Weight: 0.003053134658091038\n"
          ]
        }
      ]
    },
    {
      "cell_type": "markdown",
      "source": [
        "Distribusi `Weight` normal. Berat badan gladiator berkisar dari hampir 20 kg hingga 140kg."
      ],
      "metadata": {
        "id": "sMvPv19hN5Sr"
      }
    },
    {
      "cell_type": "code",
      "source": [
        "# Cek distribusi 'Wins'\n",
        "\n",
        "sns.histplot(data=dfcut, x='Wins')"
      ],
      "metadata": {
        "colab": {
          "base_uri": "https://localhost:8080/",
          "height": 466
        },
        "id": "9gUCR5KKOHbw",
        "outputId": "0d8440f9-1256-408d-ef00-9bd42d12a256"
      },
      "execution_count": null,
      "outputs": [
        {
          "output_type": "execute_result",
          "data": {
            "text/plain": [
              "<Axes: xlabel='Wins', ylabel='Count'>"
            ]
          },
          "metadata": {},
          "execution_count": 14
        },
        {
          "output_type": "display_data",
          "data": {
            "text/plain": [
              "<Figure size 640x480 with 1 Axes>"
            ],
            "image/png": "[encoded data removed]"
          },
          "metadata": {}
        }
      ]
    },
    {
      "cell_type": "code",
      "source": [
        "# Cek skewness 'Wins'\n",
        "\n",
        "print('Skewness Wins:', dfcut['Wins'].skew())"
      ],
      "metadata": {
        "colab": {
          "base_uri": "https://localhost:8080/"
        },
        "id": "djzpxz-wOOOG",
        "outputId": "35d56e1c-a925-431d-fd1d-cf6c25f6c754"
      },
      "execution_count": null,
      "outputs": [
        {
          "output_type": "stream",
          "name": "stdout",
          "text": [
            "Skewness Wins: 0.4712405257631691\n"
          ]
        }
      ]
    },
    {
      "cell_type": "markdown",
      "source": [
        "Distribusi `Wins` masih bisa dibilang normal karena magnitude skewnessnya tidak lebih dari 0,5. Jumlah kemenangan tertinggi yang diraih oleh gladiator-gladiator pada dataset adalah 22."
      ],
      "metadata": {
        "id": "M8HXY7ehOa-U"
      }
    },
    {
      "cell_type": "code",
      "source": [
        "# Cek distribusi 'Losses'\n",
        "\n",
        "sns.histplot(data=dfcut, x='Losses')"
      ],
      "metadata": {
        "colab": {
          "base_uri": "https://localhost:8080/",
          "height": 466
        },
        "id": "pdgPymg-OxEg",
        "outputId": "d46d8407-69f1-42f9-db52-cb10e285f38d"
      },
      "execution_count": null,
      "outputs": [
        {
          "output_type": "execute_result",
          "data": {
            "text/plain": [
              "<Axes: xlabel='Losses', ylabel='Count'>"
            ]
          },
          "metadata": {},
          "execution_count": 16
        },
        {
          "output_type": "display_data",
          "data": {
            "text/plain": [
              "<Figure size 640x480 with 1 Axes>"
            ],
            "image/png": "[encoded data removed]"
          },
          "metadata": {}
        }
      ]
    },
    {
      "cell_type": "code",
      "source": [
        "# Cek skewness 'Losses'\n",
        "\n",
        "print('Skewness Losses:', dfcut['Losses'].skew())"
      ],
      "metadata": {
        "colab": {
          "base_uri": "https://localhost:8080/"
        },
        "id": "27sZeH2jO0WK",
        "outputId": "b26dec3c-5c6a-4e51-fffa-ddd6f5e31a64"
      },
      "execution_count": null,
      "outputs": [
        {
          "output_type": "stream",
          "name": "stdout",
          "text": [
            "Skewness Losses: 1.5358712139541126\n"
          ]
        }
      ]
    },
    {
      "cell_type": "markdown",
      "source": [
        "Distribusi `Losses` highly skewed karena skewnessnya lebih besar dari 1. Ada gladiator yang telah kalah 15 kali."
      ],
      "metadata": {
        "id": "_0qBb91tO7Fo"
      }
    },
    {
      "cell_type": "code",
      "source": [
        "# Cek distribusi 'Mental Resilience'\n",
        "\n",
        "sns.histplot(data=dfcut, x='Mental Resilience')"
      ],
      "metadata": {
        "colab": {
          "base_uri": "https://localhost:8080/",
          "height": 466
        },
        "id": "yeWg_36UPY6N",
        "outputId": "276fe4b1-ef40-4ed0-9a97-8624df35fef0"
      },
      "execution_count": null,
      "outputs": [
        {
          "output_type": "execute_result",
          "data": {
            "text/plain": [
              "<Axes: xlabel='Mental Resilience', ylabel='Count'>"
            ]
          },
          "metadata": {},
          "execution_count": 18
        },
        {
          "output_type": "display_data",
          "data": {
            "text/plain": [
              "<Figure size 640x480 with 1 Axes>"
            ],
            "image/png": "[encoded data removed]"
          },
          "metadata": {}
        }
      ]
    },
    {
      "cell_type": "code",
      "source": [
        "# Cek skewness 'Mental Resilience'\n",
        "\n",
        "print('Skewness Mental Resilience:', dfcut['Mental Resilience'].skew())"
      ],
      "metadata": {
        "colab": {
          "base_uri": "https://localhost:8080/"
        },
        "id": "6S_RoWkOPebC",
        "outputId": "064c93ff-5dd9-465b-c151-6905b3b2fdc0"
      },
      "execution_count": null,
      "outputs": [
        {
          "output_type": "stream",
          "name": "stdout",
          "text": [
            "Skewness Mental Resilience: 0.29779680295405986\n"
          ]
        }
      ]
    },
    {
      "cell_type": "markdown",
      "source": [
        "Jumlah gladiator yang memiliki `Mental Resilience` rendah lebih banyak dibandingkan dengan yang lainnya. Distribusi `Mental Resilience` masih bisa dianggap normal."
      ],
      "metadata": {
        "id": "rmyChpRwPnQH"
      }
    },
    {
      "cell_type": "code",
      "source": [
        "# Cek distribusi 'Battle Experience'\n",
        "\n",
        "sns.histplot(data=dfcut, x='Battle Experience')"
      ],
      "metadata": {
        "colab": {
          "base_uri": "https://localhost:8080/",
          "height": 466
        },
        "id": "YhUC1qVRQAFa",
        "outputId": "105816c2-17bb-449f-e6cc-b95bdb588a45"
      },
      "execution_count": null,
      "outputs": [
        {
          "output_type": "execute_result",
          "data": {
            "text/plain": [
              "<Axes: xlabel='Battle Experience', ylabel='Count'>"
            ]
          },
          "metadata": {},
          "execution_count": 20
        },
        {
          "output_type": "display_data",
          "data": {
            "text/plain": [
              "<Figure size 640x480 with 1 Axes>"
            ],
            "image/png": "[encoded data removed]"
          },
          "metadata": {}
        }
      ]
    },
    {
      "cell_type": "code",
      "source": [
        "# Cek skewness 'Battle Experience'\n",
        "\n",
        "print('Skewness Battle Experience:', dfcut['Battle Experience'].skew())"
      ],
      "metadata": {
        "colab": {
          "base_uri": "https://localhost:8080/"
        },
        "id": "S-DFI2e-QGpv",
        "outputId": "94d0c231-a661-44f5-aa11-b4dfd217acdc"
      },
      "execution_count": null,
      "outputs": [
        {
          "output_type": "stream",
          "name": "stdout",
          "text": [
            "Skewness Battle Experience: 0.6803311016582776\n"
          ]
        }
      ]
    },
    {
      "cell_type": "markdown",
      "source": [
        "Distribusi `Battle Experience` moderately skewed. Jumlah pengalaman bertarung tertinggi dari semua gladiator adalah 33."
      ],
      "metadata": {
        "id": "NVUF7At_QPdB"
      }
    },
    {
      "cell_type": "code",
      "source": [
        "# Cek jumlah per 'Origin'\n",
        "\n",
        "sns.countplot(data=dfcut, x='Origin')"
      ],
      "metadata": {
        "colab": {
          "base_uri": "https://localhost:8080/",
          "height": 466
        },
        "id": "zspseEycSFi_",
        "outputId": "990306de-d933-4b01-931a-2eaf096f3dec"
      },
      "execution_count": null,
      "outputs": [
        {
          "output_type": "execute_result",
          "data": {
            "text/plain": [
              "<Axes: xlabel='Origin', ylabel='count'>"
            ]
          },
          "metadata": {},
          "execution_count": 22
        },
        {
          "output_type": "display_data",
          "data": {
            "text/plain": [
              "<Figure size 640x480 with 1 Axes>"
            ],
            "image/png": "[encoded data removed]"
          },
          "metadata": {}
        }
      ]
    },
    {
      "cell_type": "markdown",
      "source": [
        "Gladiator-gladiator berasal dari *Gaul*, *Greece*, *Rome*, *Thrace*, *Numidia*, dan *Germania*. Paling banyak berasal dari *Germania*"
      ],
      "metadata": {
        "id": "w5bjtqPSSRiw"
      }
    },
    {
      "cell_type": "code",
      "source": [
        "# Cek jumlah per 'Category'\n",
        "\n",
        "sns.countplot(data=dfcut, x='Category')"
      ],
      "metadata": {
        "colab": {
          "base_uri": "https://localhost:8080/",
          "height": 466
        },
        "id": "j21FEGodRGC0",
        "outputId": "fd804565-c6ba-446c-9167-cba5737a605f"
      },
      "execution_count": null,
      "outputs": [
        {
          "output_type": "execute_result",
          "data": {
            "text/plain": [
              "<Axes: xlabel='Category', ylabel='count'>"
            ]
          },
          "metadata": {},
          "execution_count": 23
        },
        {
          "output_type": "display_data",
          "data": {
            "text/plain": [
              "<Figure size 640x480 with 1 Axes>"
            ],
            "image/png": "[encoded data removed]"
          },
          "metadata": {}
        }
      ]
    },
    {
      "cell_type": "markdown",
      "source": [
        "*Hoplomachus*, *Provocator*, *Retiarius*, *Secutor*, *Murmillo*, dan *Thraex* adalah jenis gladiatornya. Setiap kategori ini memiliki jenis peralatan dan gaya bertarung masing-masing yang unik. Dalam dataset ini, *Hoplomachus* dan *Secutor* jumlahnya sama banyak."
      ],
      "metadata": {
        "id": "WNwxNIKPRaZb"
      }
    },
    {
      "cell_type": "code",
      "source": [
        "# Cek jumlah per 'Weapon of Choice'\n",
        "\n",
        "wepChoice = sns.countplot(data=dfcut, x='Weapon of Choice')\n",
        "wepChoice.set_xticklabels(wepChoice.get_xticklabels(), rotation=45)"
      ],
      "metadata": {
        "colab": {
          "base_uri": "https://localhost:8080/",
          "height": 649
        },
        "id": "ySui-f-ASiWF",
        "outputId": "bd13e7f7-00c9-4d54-b3f1-7e379260114e"
      },
      "execution_count": null,
      "outputs": [
        {
          "output_type": "execute_result",
          "data": {
            "text/plain": [
              "[Text(0, 0, 'Spear'),\n",
              " Text(1, 0, 'Dagger'),\n",
              " Text(2, 0, 'Net'),\n",
              " Text(3, 0, 'Gladius (Sword)'),\n",
              " Text(4, 0, 'Sica (Curved Sword)'),\n",
              " Text(5, 0, 'Trident')]"
            ]
          },
          "metadata": {},
          "execution_count": 24
        },
        {
          "output_type": "display_data",
          "data": {
            "text/plain": [
              "<Figure size 640x480 with 1 Axes>"
            ],
            "image/png": "[encoded data removed]"
          },
          "metadata": {}
        }
      ]
    },
    {
      "cell_type": "markdown",
      "source": [
        "*Dagger* adalah senjata pilihan terbanyak dari jenis-jenis senjata yang lain, dengan pedang *Gladius* sebagai senjata pilihan terbanyak kedua. Senjata-senjata yang lain terpilih sama rata."
      ],
      "metadata": {
        "id": "jOMaa5HYTI5Z"
      }
    },
    {
      "cell_type": "code",
      "source": [
        "# Cek jumlah per 'Equipment Quality'\n",
        "\n",
        "sns.countplot(data=dfcut, x='Equipment Quality')"
      ],
      "metadata": {
        "colab": {
          "base_uri": "https://localhost:8080/",
          "height": 466
        },
        "id": "gRYoC0rYTasR",
        "outputId": "c8d492e6-940b-4572-d40c-4f40d573a27f"
      },
      "execution_count": null,
      "outputs": [
        {
          "output_type": "execute_result",
          "data": {
            "text/plain": [
              "<Axes: xlabel='Equipment Quality', ylabel='count'>"
            ]
          },
          "metadata": {},
          "execution_count": 25
        },
        {
          "output_type": "display_data",
          "data": {
            "text/plain": [
              "<Figure size 640x480 with 1 Axes>"
            ],
            "image/png": "[encoded data removed]"
          },
          "metadata": {}
        }
      ]
    },
    {
      "cell_type": "markdown",
      "source": [
        "Gladiator paling banyak memiliki peralatan dasar."
      ],
      "metadata": {
        "id": "hmwCeEtKTiPg"
      }
    },
    {
      "cell_type": "code",
      "source": [
        "# Cek jumlah per 'Injury History'\n",
        "\n",
        "sns.countplot(data=dfcut, x='Injury History')"
      ],
      "metadata": {
        "colab": {
          "base_uri": "https://localhost:8080/",
          "height": 470
        },
        "id": "pqtbNTi0ToQ7",
        "outputId": "e71e6936-850f-4dd2-b4f1-8d4e7eff7973"
      },
      "execution_count": null,
      "outputs": [
        {
          "output_type": "execute_result",
          "data": {
            "text/plain": [
              "<Axes: xlabel='Injury History', ylabel='count'>"
            ]
          },
          "metadata": {},
          "execution_count": 26
        },
        {
          "output_type": "display_data",
          "data": {
            "text/plain": [
              "<Figure size 640x480 with 1 Axes>"
            ],
            "image/png": "[encoded data removed]"
          },
          "metadata": {}
        }
      ]
    },
    {
      "cell_type": "markdown",
      "source": [
        "Jumlah gladiator yang memiliki catatan cedera yang rendah lebih banyak dibandingkan catatan cedera yang tinggi."
      ],
      "metadata": {
        "id": "dzX2xVL9UJUx"
      }
    },
    {
      "cell_type": "code",
      "source": [
        "# Cek jumlah per 'Tactical Knowledge'\n",
        "\n",
        "sns.countplot(data=dfcut, x='Tactical Knowledge')"
      ],
      "metadata": {
        "colab": {
          "base_uri": "https://localhost:8080/",
          "height": 469
        },
        "id": "wnwfedvNUV-v",
        "outputId": "757b084d-2331-4326-e32b-6725f40af7b3"
      },
      "execution_count": null,
      "outputs": [
        {
          "output_type": "execute_result",
          "data": {
            "text/plain": [
              "<Axes: xlabel='Tactical Knowledge', ylabel='count'>"
            ]
          },
          "metadata": {},
          "execution_count": 27
        },
        {
          "output_type": "display_data",
          "data": {
            "text/plain": [
              "<Figure size 640x480 with 1 Axes>"
            ],
            "image/png": "[encoded data removed]"
          },
          "metadata": {}
        }
      ]
    },
    {
      "cell_type": "markdown",
      "source": [
        "Sebagian besar gladiator hanya memiliki pengetahuan taktis dasar. Semakin tinggi tingkat pengetahuannya, semakin sedikit gladiator yang memilikinya."
      ],
      "metadata": {
        "id": "hDaiX0uSUet6"
      }
    },
    {
      "cell_type": "code",
      "source": [
        "# Cek jumlah per 'Health Status'\n",
        "\n",
        "sns.countplot(data=dfcut, x='Health Status')"
      ],
      "metadata": {
        "colab": {
          "base_uri": "https://localhost:8080/",
          "height": 466
        },
        "id": "mouZM6ADVVds",
        "outputId": "4420dbff-1ead-472f-c4d0-a047b9a589fe"
      },
      "execution_count": null,
      "outputs": [
        {
          "output_type": "execute_result",
          "data": {
            "text/plain": [
              "<Axes: xlabel='Health Status', ylabel='count'>"
            ]
          },
          "metadata": {},
          "execution_count": 28
        },
        {
          "output_type": "display_data",
          "data": {
            "text/plain": [
              "<Figure size 640x480 with 1 Axes>"
            ],
            "image/png": "[encoded data removed]"
          },
          "metadata": {}
        }
      ]
    },
    {
      "cell_type": "markdown",
      "source": [
        "Gladiator-gladiator pada dataset sebagian besar memiliki kondisi kesehatan yang sangat baik."
      ],
      "metadata": {
        "id": "dXz_Vmd1VVsZ"
      }
    },
    {
      "cell_type": "code",
      "source": [
        "# Cek jumlah per 'Training Intensity'\n",
        "\n",
        "sns.countplot(data=dfcut, x='Training Intensity')"
      ],
      "metadata": {
        "colab": {
          "base_uri": "https://localhost:8080/",
          "height": 466
        },
        "id": "XJ3hQD_hU6NS",
        "outputId": "8f22a74a-8e41-4f70-852e-ecbc4fde674a"
      },
      "execution_count": null,
      "outputs": [
        {
          "output_type": "execute_result",
          "data": {
            "text/plain": [
              "<Axes: xlabel='Training Intensity', ylabel='count'>"
            ]
          },
          "metadata": {},
          "execution_count": 29
        },
        {
          "output_type": "display_data",
          "data": {
            "text/plain": [
              "<Figure size 640x480 with 1 Axes>"
            ],
            "image/png": "[encoded data removed]"
          },
          "metadata": {}
        }
      ]
    },
    {
      "cell_type": "markdown",
      "source": [
        "Sebagian besar gladiator memiliki intensitas latihan yang moderat. Gladiator dengan tingkat latihan rendah jumlahnya terbanyak kedua."
      ],
      "metadata": {
        "id": "pXdzhNkqVA2n"
      }
    },
    {
      "cell_type": "code",
      "source": [
        "# Cek jumlah per 'Battle Strategy'\n",
        "\n",
        "sns.countplot(data=dfcut, x='Battle Strategy')"
      ],
      "metadata": {
        "colab": {
          "base_uri": "https://localhost:8080/",
          "height": 466
        },
        "id": "k1jE_oCSVo1j",
        "outputId": "e094023e-bbeb-46d9-e2df-e255e39811e9"
      },
      "execution_count": null,
      "outputs": [
        {
          "output_type": "execute_result",
          "data": {
            "text/plain": [
              "<Axes: xlabel='Battle Strategy', ylabel='count'>"
            ]
          },
          "metadata": {},
          "execution_count": 30
        },
        {
          "output_type": "display_data",
          "data": {
            "text/plain": [
              "<Figure size 640x480 with 1 Axes>"
            ],
            "image/png": "[encoded data removed]"
          },
          "metadata": {}
        }
      ]
    },
    {
      "cell_type": "markdown",
      "source": [
        "Gladiator-gladiator pada dataset cenderung memilih strategi yang seimbang antara aggresif dan defensif. Jumlah gladiator yang murni aggresif terbanyak kedua, dan jumlah gladiator yang murni defensif paling sedikit."
      ],
      "metadata": {
        "id": "ohH5FFndVv1p"
      }
    },
    {
      "cell_type": "code",
      "source": [
        "# Cek jumlah per 'Survived'\n",
        "\n",
        "sns.countplot(data=dfcut, x='Survived')"
      ],
      "metadata": {
        "colab": {
          "base_uri": "https://localhost:8080/",
          "height": 466
        },
        "id": "4s-8XL-hWF5h",
        "outputId": "719dee3d-a498-45fe-8bbe-52023e2c300b"
      },
      "execution_count": null,
      "outputs": [
        {
          "output_type": "execute_result",
          "data": {
            "text/plain": [
              "<Axes: xlabel='Survived', ylabel='count'>"
            ]
          },
          "metadata": {},
          "execution_count": 31
        },
        {
          "output_type": "display_data",
          "data": {
            "text/plain": [
              "<Figure size 640x480 with 1 Axes>"
            ],
            "image/png": "[encoded data removed]"
          },
          "metadata": {}
        }
      ]
    },
    {
      "cell_type": "markdown",
      "source": [
        "Jumlah gladiator yang bertahan hidup dari pertarungan lebih banyak daripada yang tidak."
      ],
      "metadata": {
        "id": "XHa3_oHRWLOM"
      }
    },
    {
      "cell_type": "markdown",
      "source": [
        "# Feature Engineering"
      ],
      "metadata": {
        "id": "ZLQsEBGPWqC4"
      }
    },
    {
      "cell_type": "markdown",
      "source": [
        "Data telah bersih dari missing value dan outlier sehingga mereka tidak akan dihandle di bagian ini. Scaling akan dilakukan ke semua fitur numerik. OrdinalEncoder akan diterapkan pada `Equipment Quality`, `Injury History`, `Tactical Knowledge`, `Health Status`, dan `Training Intensity`. Kolom-kolom kategorik `Origin`, `Category`, `Weapon of Choice`, `Battle Strategy`, dan `Survived` akan dipetakan menjadi angka secara manual. Pemisahan dataset menjadi data train dan test akan dilakukan dengan rasio 70:30."
      ],
      "metadata": {
        "id": "KvISEC3JWsyy"
      }
    },
    {
      "cell_type": "code",
      "source": [
        "# Backup dataframe\n",
        "\n",
        "df1 = dfcut.copy()"
      ],
      "metadata": {
        "id": "NaSYUT_7e0JV"
      },
      "execution_count": 8,
      "outputs": []
    },
    {
      "cell_type": "code",
      "source": [
        "# Ubah Origin menjadi angka\n",
        "originMap = {\n",
        "    'Gaul': 1,\n",
        "    'Greece': 2,\n",
        "    'Rome': 3,\n",
        "    'Thrace': 4,\n",
        "    'Numidia': 5,\n",
        "    'Germania': 6\n",
        "}\n",
        "\n",
        "# Ubah Category menjadi angka\n",
        "catMap = {\n",
        "    'Hoplomachus': 1,\n",
        "    'Provocator': 2,\n",
        "    'Retiarius': 3,\n",
        "    'Secutor': 4,\n",
        "    'Murmillo': 5,\n",
        "    'Thraex': 6\n",
        "}\n",
        "\n",
        "# Ubah Weapon of Choice menjadi angka\n",
        "wepMap = {\n",
        "    'Spear': 1,\n",
        "    'Dagger': 2,\n",
        "    'Net': 3,\n",
        "    'Gladius (Sword)': 4,\n",
        "    'Sica (Curved Sword)': 5,\n",
        "    'Trident': 6\n",
        "}\n",
        "\n",
        "# Ubah Battle Strategy menjadi angka\n",
        "stratMap = {\n",
        "    'Balanced': 1,\n",
        "    'Aggressive': 2,\n",
        "    'Defensive': 3,\n",
        "}\n",
        "\n",
        "df1['Origin'] = df1['Origin'].map(originMap)\n",
        "df1['Category'] = df1['Category'].map(catMap)\n",
        "df1['Weapon of Choice'] = df1['Weapon of Choice'].map(wepMap)\n",
        "df1['Battle Strategy'] = df1['Battle Strategy'].map(stratMap)"
      ],
      "metadata": {
        "id": "HuQJ1nM1bnUj"
      },
      "execution_count": 9,
      "outputs": []
    },
    {
      "cell_type": "code",
      "source": [
        "# Mengubah Survived menjadi 0 dan 1\n",
        "\n",
        "survivedEnc = []\n",
        "\n",
        "for i in df1['Survived']:\n",
        "  if i == True:\n",
        "    survivedEnc.append(1)\n",
        "  elif i == False:\n",
        "    survivedEnc.append(0)\n",
        "\n",
        "# Membuat kolom baru dari survivedEnc\n",
        "df1['Survived Enc'] = survivedEnc"
      ],
      "metadata": {
        "id": "f5sPHNbViDpu"
      },
      "execution_count": 10,
      "outputs": []
    },
    {
      "cell_type": "code",
      "source": [
        "# Membuang kolom 'Survived' yang lama\n",
        "df1.drop(['Survived'], axis=1, inplace=True)"
      ],
      "metadata": {
        "id": "LuKzJrKHipG0"
      },
      "execution_count": 11,
      "outputs": []
    },
    {
      "cell_type": "code",
      "source": [
        "df1.head(10)"
      ],
      "metadata": {
        "colab": {
          "base_uri": "https://localhost:8080/",
          "height": 591
        },
        "id": "0vyuNV8fhKtn",
        "outputId": "0ab8a8f3-216a-4919-d6b9-75e28e4f12c3"
      },
      "execution_count": 12,
      "outputs": [
        {
          "output_type": "execute_result",
          "data": {
            "text/plain": [
              "                 Name  Age  Origin  Height  Weight  Category  Wins  Losses  \\\n",
              "0   Cosconius Hostius   42       1     176      54         1    10       2   \n",
              "1  Caecilius Valerius   30       2     173      67         2     6       0   \n",
              "2    Sempronius Aulus   30       1     171      81         1     8       4   \n",
              "3   Lacerius Laberius   32       3     172      72         3     8       3   \n",
              "4      Blaesus Modius   29       1     177      87         4    12       5   \n",
              "5    Hortensius Gaius   23       1     158      77         5     7       1   \n",
              "6   Lollius Nasennius   43       2     168      74         1     7       1   \n",
              "7      Gaius Caninius   36       3     185      62         4    13       8   \n",
              "8    Petreius Memmius   33       4     186      50         2     7       0   \n",
              "9     Numerius Sextus   32       2     171      56         2     8       1   \n",
              "\n",
              "   Weapon of Choice Equipment Quality Injury History  Mental Resilience  \\\n",
              "0                 1             Basic            Low           2.309622   \n",
              "1                 2          Superior            Low           2.609512   \n",
              "2                 1             Basic            Low           8.770731   \n",
              "3                 3          Superior            Low           1.047568   \n",
              "4                 2          Standard           High           4.524769   \n",
              "5                 4             Basic            Low           7.885911   \n",
              "6                 2             Basic            Low           3.026551   \n",
              "7                 2          Superior           High           2.772185   \n",
              "8                 2             Basic            Low           8.687004   \n",
              "9                 4          Superior            Low           6.284513   \n",
              "\n",
              "  Tactical Knowledge  Battle Experience Health Status Training Intensity  \\\n",
              "0              Basic                 12          Good             Medium   \n",
              "1             Expert                  6     Excellent             Medium   \n",
              "2           Advanced                 12     Excellent             Medium   \n",
              "3       Intermediate                 11     Excellent             Medium   \n",
              "4           Advanced                 17          Good             Medium   \n",
              "5             Expert                  8     Excellent             Medium   \n",
              "6           Advanced                  8          Good                Low   \n",
              "7       Intermediate                 21          Good                Low   \n",
              "8           Advanced                  7     Excellent             Medium   \n",
              "9           Advanced                  9     Excellent             Medium   \n",
              "\n",
              "   Battle Strategy  Survived Enc  \n",
              "0                1             1  \n",
              "1                2             0  \n",
              "2                1             1  \n",
              "3                2             1  \n",
              "4                1             1  \n",
              "5                2             1  \n",
              "6                2             1  \n",
              "7                1             1  \n",
              "8                2             1  \n",
              "9                3             1  "
            ],
            "text/html": [
              "\n",
              "  <div id=\"df-34b63279-6ddd-4a71-a6d3-3f9b3c9c54e9\" class=\"colab-df-container\">\n",
              "    <div>\n",
              "<style scoped>\n",
              "    .dataframe tbody tr th:only-of-type {\n",
              "        vertical-align: middle;\n",
              "    }\n",
              "\n",
              "    .dataframe tbody tr th {\n",
              "        vertical-align: top;\n",
              "    }\n",
              "\n",
              "    .dataframe thead th {\n",
              "        text-align: right;\n",
              "    }\n",
              "</style>\n",
              "<table border=\"1\" class=\"dataframe\">\n",
              "  <thead>\n",
              "    <tr style=\"text-align: right;\">\n",
              "      <th></th>\n",
              "      <th>Name</th>\n",
              "      <th>Age</th>\n",
              "      <th>Origin</th>\n",
              "      <th>Height</th>\n",
              "      <th>Weight</th>\n",
              "      <th>Category</th>\n",
              "      <th>Wins</th>\n",
              "      <th>Losses</th>\n",
              "      <th>Weapon of Choice</th>\n",
              "      <th>Equipment Quality</th>\n",
              "      <th>Injury History</th>\n",
              "      <th>Mental Resilience</th>\n",
              "      <th>Tactical Knowledge</th>\n",
              "      <th>Battle Experience</th>\n",
              "      <th>Health Status</th>\n",
              "      <th>Training Intensity</th>\n",
              "      <th>Battle Strategy</th>\n",
              "      <th>Survived Enc</th>\n",
              "    </tr>\n",
              "  </thead>\n",
              "  <tbody>\n",
              "    <tr>\n",
              "      <th>0</th>\n",
              "      <td>Cosconius Hostius</td>\n",
              "      <td>42</td>\n",
              "      <td>1</td>\n",
              "      <td>176</td>\n",
              "      <td>54</td>\n",
              "      <td>1</td>\n",
              "      <td>10</td>\n",
              "      <td>2</td>\n",
              "      <td>1</td>\n",
              "      <td>Basic</td>\n",
              "      <td>Low</td>\n",
              "      <td>2.309622</td>\n",
              "      <td>Basic</td>\n",
              "      <td>12</td>\n",
              "      <td>Good</td>\n",
              "      <td>Medium</td>\n",
              "      <td>1</td>\n",
              "      <td>1</td>\n",
              "    </tr>\n",
              "    <tr>\n",
              "      <th>1</th>\n",
              "      <td>Caecilius Valerius</td>\n",
              "      <td>30</td>\n",
              "      <td>2</td>\n",
              "      <td>173</td>\n",
              "      <td>67</td>\n",
              "      <td>2</td>\n",
              "      <td>6</td>\n",
              "      <td>0</td>\n",
              "      <td>2</td>\n",
              "      <td>Superior</td>\n",
              "      <td>Low</td>\n",
              "      <td>2.609512</td>\n",
              "      <td>Expert</td>\n",
              "      <td>6</td>\n",
              "      <td>Excellent</td>\n",
              "      <td>Medium</td>\n",
              "      <td>2</td>\n",
              "      <td>0</td>\n",
              "    </tr>\n",
              "    <tr>\n",
              "      <th>2</th>\n",
              "      <td>Sempronius Aulus</td>\n",
              "      <td>30</td>\n",
              "      <td>1</td>\n",
              "      <td>171</td>\n",
              "      <td>81</td>\n",
              "      <td>1</td>\n",
              "      <td>8</td>\n",
              "      <td>4</td>\n",
              "      <td>1</td>\n",
              "      <td>Basic</td>\n",
              "      <td>Low</td>\n",
              "      <td>8.770731</td>\n",
              "      <td>Advanced</td>\n",
              "      <td>12</td>\n",
              "      <td>Excellent</td>\n",
              "      <td>Medium</td>\n",
              "      <td>1</td>\n",
              "      <td>1</td>\n",
              "    </tr>\n",
              "    <tr>\n",
              "      <th>3</th>\n",
              "      <td>Lacerius Laberius</td>\n",
              "      <td>32</td>\n",
              "      <td>3</td>\n",
              "      <td>172</td>\n",
              "      <td>72</td>\n",
              "      <td>3</td>\n",
              "      <td>8</td>\n",
              "      <td>3</td>\n",
              "      <td>3</td>\n",
              "      <td>Superior</td>\n",
              "      <td>Low</td>\n",
              "      <td>1.047568</td>\n",
              "      <td>Intermediate</td>\n",
              "      <td>11</td>\n",
              "      <td>Excellent</td>\n",
              "      <td>Medium</td>\n",
              "      <td>2</td>\n",
              "      <td>1</td>\n",
              "    </tr>\n",
              "    <tr>\n",
              "      <th>4</th>\n",
              "      <td>Blaesus Modius</td>\n",
              "      <td>29</td>\n",
              "      <td>1</td>\n",
              "      <td>177</td>\n",
              "      <td>87</td>\n",
              "      <td>4</td>\n",
              "      <td>12</td>\n",
              "      <td>5</td>\n",
              "      <td>2</td>\n",
              "      <td>Standard</td>\n",
              "      <td>High</td>\n",
              "      <td>4.524769</td>\n",
              "      <td>Advanced</td>\n",
              "      <td>17</td>\n",
              "      <td>Good</td>\n",
              "      <td>Medium</td>\n",
              "      <td>1</td>\n",
              "      <td>1</td>\n",
              "    </tr>\n",
              "    <tr>\n",
              "      <th>5</th>\n",
              "      <td>Hortensius Gaius</td>\n",
              "      <td>23</td>\n",
              "      <td>1</td>\n",
              "      <td>158</td>\n",
              "      <td>77</td>\n",
              "      <td>5</td>\n",
              "      <td>7</td>\n",
              "      <td>1</td>\n",
              "      <td>4</td>\n",
              "      <td>Basic</td>\n",
              "      <td>Low</td>\n",
              "      <td>7.885911</td>\n",
              "      <td>Expert</td>\n",
              "      <td>8</td>\n",
              "      <td>Excellent</td>\n",
              "      <td>Medium</td>\n",
              "      <td>2</td>\n",
              "      <td>1</td>\n",
              "    </tr>\n",
              "    <tr>\n",
              "      <th>6</th>\n",
              "      <td>Lollius Nasennius</td>\n",
              "      <td>43</td>\n",
              "      <td>2</td>\n",
              "      <td>168</td>\n",
              "      <td>74</td>\n",
              "      <td>1</td>\n",
              "      <td>7</td>\n",
              "      <td>1</td>\n",
              "      <td>2</td>\n",
              "      <td>Basic</td>\n",
              "      <td>Low</td>\n",
              "      <td>3.026551</td>\n",
              "      <td>Advanced</td>\n",
              "      <td>8</td>\n",
              "      <td>Good</td>\n",
              "      <td>Low</td>\n",
              "      <td>2</td>\n",
              "      <td>1</td>\n",
              "    </tr>\n",
              "    <tr>\n",
              "      <th>7</th>\n",
              "      <td>Gaius Caninius</td>\n",
              "      <td>36</td>\n",
              "      <td>3</td>\n",
              "      <td>185</td>\n",
              "      <td>62</td>\n",
              "      <td>4</td>\n",
              "      <td>13</td>\n",
              "      <td>8</td>\n",
              "      <td>2</td>\n",
              "      <td>Superior</td>\n",
              "      <td>High</td>\n",
              "      <td>2.772185</td>\n",
              "      <td>Intermediate</td>\n",
              "      <td>21</td>\n",
              "      <td>Good</td>\n",
              "      <td>Low</td>\n",
              "      <td>1</td>\n",
              "      <td>1</td>\n",
              "    </tr>\n",
              "    <tr>\n",
              "      <th>8</th>\n",
              "      <td>Petreius Memmius</td>\n",
              "      <td>33</td>\n",
              "      <td>4</td>\n",
              "      <td>186</td>\n",
              "      <td>50</td>\n",
              "      <td>2</td>\n",
              "      <td>7</td>\n",
              "      <td>0</td>\n",
              "      <td>2</td>\n",
              "      <td>Basic</td>\n",
              "      <td>Low</td>\n",
              "      <td>8.687004</td>\n",
              "      <td>Advanced</td>\n",
              "      <td>7</td>\n",
              "      <td>Excellent</td>\n",
              "      <td>Medium</td>\n",
              "      <td>2</td>\n",
              "      <td>1</td>\n",
              "    </tr>\n",
              "    <tr>\n",
              "      <th>9</th>\n",
              "      <td>Numerius Sextus</td>\n",
              "      <td>32</td>\n",
              "      <td>2</td>\n",
              "      <td>171</td>\n",
              "      <td>56</td>\n",
              "      <td>2</td>\n",
              "      <td>8</td>\n",
              "      <td>1</td>\n",
              "      <td>4</td>\n",
              "      <td>Superior</td>\n",
              "      <td>Low</td>\n",
              "      <td>6.284513</td>\n",
              "      <td>Advanced</td>\n",
              "      <td>9</td>\n",
              "      <td>Excellent</td>\n",
              "      <td>Medium</td>\n",
              "      <td>3</td>\n",
              "      <td>1</td>\n",
              "    </tr>\n",
              "  </tbody>\n",
              "</table>\n",
              "</div>\n",
              "    <div class=\"colab-df-buttons\">\n",
              "\n",
              "  <div class=\"colab-df-container\">\n",
              "    <button class=\"colab-df-convert\" onclick=\"convertToInteractive('df-34b63279-6ddd-4a71-a6d3-3f9b3c9c54e9')\"\n",
              "            title=\"Convert this dataframe to an interactive table.\"\n",
              "            style=\"display:none;\">\n",
              "\n",
              "  <svg xmlns=\"http://www.w3.org/2000/svg\" height=\"24px\" viewBox=\"0 -960 960 960\">\n",
              "    <path d=\"M120-120v-720h720v720H120Zm60-500h600v-160H180v160Zm220 220h160v-160H400v160Zm0 220h160v-160H400v160ZM180-400h160v-160H180v160Zm440 0h160v-160H620v160ZM180-180h160v-160H180v160Zm440 0h160v-160H620v160Z\"/>\n",
              "  </svg>\n",
              "    </button>\n",
              "\n",
              "  <style>\n",
              "    .colab-df-container {\n",
              "      display:flex;\n",
              "      gap: 12px;\n",
              "    }\n",
              "\n",
              "    .colab-df-convert {\n",
              "      background-color: #E8F0FE;\n",
              "      border: none;\n",
              "      border-radius: 50%;\n",
              "      cursor: pointer;\n",
              "      display: none;\n",
              "      fill: #1967D2;\n",
              "      height: 32px;\n",
              "      padding: 0 0 0 0;\n",
              "      width: 32px;\n",
              "    }\n",
              "\n",
              "    .colab-df-convert:hover {\n",
              "      background-color: #E2EBFA;\n",
              "      box-shadow: 0px 1px 2px rgba(60, 64, 67, 0.3), 0px 1px 3px 1px rgba(60, 64, 67, 0.15);\n",
              "      fill: #174EA6;\n",
              "    }\n",
              "\n",
              "    .colab-df-buttons div {\n",
              "      margin-bottom: 4px;\n",
              "    }\n",
              "\n",
              "    [theme=dark] .colab-df-convert {\n",
              "      background-color: #3B4455;\n",
              "      fill: #D2E3FC;\n",
              "    }\n",
              "\n",
              "    [theme=dark] .colab-df-convert:hover {\n",
              "      background-color: #434B5C;\n",
              "      box-shadow: 0px 1px 3px 1px rgba(0, 0, 0, 0.15);\n",
              "      filter: drop-shadow(0px 1px 2px rgba(0, 0, 0, 0.3));\n",
              "      fill: #FFFFFF;\n",
              "    }\n",
              "  </style>\n",
              "\n",
              "    <script>\n",
              "      const buttonEl =\n",
              "        document.querySelector('#df-34b63279-6ddd-4a71-a6d3-3f9b3c9c54e9 button.colab-df-convert');\n",
              "      buttonEl.style.display =\n",
              "        google.colab.kernel.accessAllowed ? 'block' : 'none';\n",
              "\n",
              "      async function convertToInteractive(key) {\n",
              "        const element = document.querySelector('#df-34b63279-6ddd-4a71-a6d3-3f9b3c9c54e9');\n",
              "        const dataTable =\n",
              "          await google.colab.kernel.invokeFunction('convertToInteractive',\n",
              "                                                    [key], {});\n",
              "        if (!dataTable) return;\n",
              "\n",
              "        const docLinkHtml = 'Like what you see? Visit the ' +\n",
              "          '<a target=\"_blank\" href=https://colab.research.google.com/notebooks/data_table.ipynb>data table notebook</a>'\n",
              "          + ' to learn more about interactive tables.';\n",
              "        element.innerHTML = '';\n",
              "        dataTable['output_type'] = 'display_data';\n",
              "        await google.colab.output.renderOutput(dataTable, element);\n",
              "        const docLink = document.createElement('div');\n",
              "        docLink.innerHTML = docLinkHtml;\n",
              "        element.appendChild(docLink);\n",
              "      }\n",
              "    </script>\n",
              "  </div>\n",
              "\n",
              "\n",
              "<div id=\"df-f5c4bf92-3ae5-410f-ab30-6a100f8b2fb3\">\n",
              "  <button class=\"colab-df-quickchart\" onclick=\"quickchart('df-f5c4bf92-3ae5-410f-ab30-6a100f8b2fb3')\"\n",
              "            title=\"Suggest charts\"\n",
              "            style=\"display:none;\">\n",
              "\n",
              "<svg xmlns=\"http://www.w3.org/2000/svg\" height=\"24px\"viewBox=\"0 0 24 24\"\n",
              "     width=\"24px\">\n",
              "    <g>\n",
              "        <path d=\"M19 3H5c-1.1 0-2 .9-2 2v14c0 1.1.9 2 2 2h14c1.1 0 2-.9 2-2V5c0-1.1-.9-2-2-2zM9 17H7v-7h2v7zm4 0h-2V7h2v10zm4 0h-2v-4h2v4z\"/>\n",
              "    </g>\n",
              "</svg>\n",
              "  </button>\n",
              "\n",
              "<style>\n",
              "  .colab-df-quickchart {\n",
              "      --bg-color: #E8F0FE;\n",
              "      --fill-color: #1967D2;\n",
              "      --hover-bg-color: #E2EBFA;\n",
              "      --hover-fill-color: #174EA6;\n",
              "      --disabled-fill-color: #AAA;\n",
              "      --disabled-bg-color: #DDD;\n",
              "  }\n",
              "\n",
              "  [theme=dark] .colab-df-quickchart {\n",
              "      --bg-color: #3B4455;\n",
              "      --fill-color: #D2E3FC;\n",
              "      --hover-bg-color: #434B5C;\n",
              "      --hover-fill-color: #FFFFFF;\n",
              "      --disabled-bg-color: #3B4455;\n",
              "      --disabled-fill-color: #666;\n",
              "  }\n",
              "\n",
              "  .colab-df-quickchart {\n",
              "    background-color: var(--bg-color);\n",
              "    border: none;\n",
              "    border-radius: 50%;\n",
              "    cursor: pointer;\n",
              "    display: none;\n",
              "    fill: var(--fill-color);\n",
              "    height: 32px;\n",
              "    padding: 0;\n",
              "    width: 32px;\n",
              "  }\n",
              "\n",
              "  .colab-df-quickchart:hover {\n",
              "    background-color: var(--hover-bg-color);\n",
              "    box-shadow: 0 1px 2px rgba(60, 64, 67, 0.3), 0 1px 3px 1px rgba(60, 64, 67, 0.15);\n",
              "    fill: var(--button-hover-fill-color);\n",
              "  }\n",
              "\n",
              "  .colab-df-quickchart-complete:disabled,\n",
              "  .colab-df-quickchart-complete:disabled:hover {\n",
              "    background-color: var(--disabled-bg-color);\n",
              "    fill: var(--disabled-fill-color);\n",
              "    box-shadow: none;\n",
              "  }\n",
              "\n",
              "  .colab-df-spinner {\n",
              "    border: 2px solid var(--fill-color);\n",
              "    border-color: transparent;\n",
              "    border-bottom-color: var(--fill-color);\n",
              "    animation:\n",
              "      spin 1s steps(1) infinite;\n",
              "  }\n",
              "\n",
              "  @keyframes spin {\n",
              "    0% {\n",
              "      border-color: transparent;\n",
              "      border-bottom-color: var(--fill-color);\n",
              "      border-left-color: var(--fill-color);\n",
              "    }\n",
              "    20% {\n",
              "      border-color: transparent;\n",
              "      border-left-color: var(--fill-color);\n",
              "      border-top-color: var(--fill-color);\n",
              "    }\n",
              "    30% {\n",
              "      border-color: transparent;\n",
              "      border-left-color: var(--fill-color);\n",
              "      border-top-color: var(--fill-color);\n",
              "      border-right-color: var(--fill-color);\n",
              "    }\n",
              "    40% {\n",
              "      border-color: transparent;\n",
              "      border-right-color: var(--fill-color);\n",
              "      border-top-color: var(--fill-color);\n",
              "    }\n",
              "    60% {\n",
              "      border-color: transparent;\n",
              "      border-right-color: var(--fill-color);\n",
              "    }\n",
              "    80% {\n",
              "      border-color: transparent;\n",
              "      border-right-color: var(--fill-color);\n",
              "      border-bottom-color: var(--fill-color);\n",
              "    }\n",
              "    90% {\n",
              "      border-color: transparent;\n",
              "      border-bottom-color: var(--fill-color);\n",
              "    }\n",
              "  }\n",
              "</style>\n",
              "\n",
              "  <script>\n",
              "    async function quickchart(key) {\n",
              "      const quickchartButtonEl =\n",
              "        document.querySelector('#' + key + ' button');\n",
              "      quickchartButtonEl.disabled = true;  // To prevent multiple clicks.\n",
              "      quickchartButtonEl.classList.add('colab-df-spinner');\n",
              "      try {\n",
              "        const charts = await google.colab.kernel.invokeFunction(\n",
              "            'suggestCharts', [key], {});\n",
              "      } catch (error) {\n",
              "        console.error('Error during call to suggestCharts:', error);\n",
              "      }\n",
              "      quickchartButtonEl.classList.remove('colab-df-spinner');\n",
              "      quickchartButtonEl.classList.add('colab-df-quickchart-complete');\n",
              "    }\n",
              "    (() => {\n",
              "      let quickchartButtonEl =\n",
              "        document.querySelector('#df-f5c4bf92-3ae5-410f-ab30-6a100f8b2fb3 button');\n",
              "      quickchartButtonEl.style.display =\n",
              "        google.colab.kernel.accessAllowed ? 'block' : 'none';\n",
              "    })();\n",
              "  </script>\n",
              "</div>\n",
              "    </div>\n",
              "  </div>\n"
            ]
          },
          "metadata": {},
          "execution_count": 12
        }
      ]
    },
    {
      "cell_type": "code",
      "source": [
        "# Backup menjadi dataset baru\n",
        "\n",
        "df2 = df1.copy()\n",
        "df2.head()"
      ],
      "metadata": {
        "colab": {
          "base_uri": "https://localhost:8080/",
          "height": 348
        },
        "id": "9rRKVnwEgGdI",
        "outputId": "ac7b0250-23cb-4003-a388-7e46a98d17c7"
      },
      "execution_count": 13,
      "outputs": [
        {
          "output_type": "execute_result",
          "data": {
            "text/plain": [
              "                 Name  Age  Origin  Height  Weight  Category  Wins  Losses  \\\n",
              "0   Cosconius Hostius   42       1     176      54         1    10       2   \n",
              "1  Caecilius Valerius   30       2     173      67         2     6       0   \n",
              "2    Sempronius Aulus   30       1     171      81         1     8       4   \n",
              "3   Lacerius Laberius   32       3     172      72         3     8       3   \n",
              "4      Blaesus Modius   29       1     177      87         4    12       5   \n",
              "\n",
              "   Weapon of Choice Equipment Quality Injury History  Mental Resilience  \\\n",
              "0                 1             Basic            Low           2.309622   \n",
              "1                 2          Superior            Low           2.609512   \n",
              "2                 1             Basic            Low           8.770731   \n",
              "3                 3          Superior            Low           1.047568   \n",
              "4                 2          Standard           High           4.524769   \n",
              "\n",
              "  Tactical Knowledge  Battle Experience Health Status Training Intensity  \\\n",
              "0              Basic                 12          Good             Medium   \n",
              "1             Expert                  6     Excellent             Medium   \n",
              "2           Advanced                 12     Excellent             Medium   \n",
              "3       Intermediate                 11     Excellent             Medium   \n",
              "4           Advanced                 17          Good             Medium   \n",
              "\n",
              "   Battle Strategy  Survived Enc  \n",
              "0                1             1  \n",
              "1                2             0  \n",
              "2                1             1  \n",
              "3                2             1  \n",
              "4                1             1  "
            ],
            "text/html": [
              "\n",
              "  <div id=\"df-16fde804-4d1d-41e8-84bb-ceeea3c5adf7\" class=\"colab-df-container\">\n",
              "    <div>\n",
              "<style scoped>\n",
              "    .dataframe tbody tr th:only-of-type {\n",
              "        vertical-align: middle;\n",
              "    }\n",
              "\n",
              "    .dataframe tbody tr th {\n",
              "        vertical-align: top;\n",
              "    }\n",
              "\n",
              "    .dataframe thead th {\n",
              "        text-align: right;\n",
              "    }\n",
              "</style>\n",
              "<table border=\"1\" class=\"dataframe\">\n",
              "  <thead>\n",
              "    <tr style=\"text-align: right;\">\n",
              "      <th></th>\n",
              "      <th>Name</th>\n",
              "      <th>Age</th>\n",
              "      <th>Origin</th>\n",
              "      <th>Height</th>\n",
              "      <th>Weight</th>\n",
              "      <th>Category</th>\n",
              "      <th>Wins</th>\n",
              "      <th>Losses</th>\n",
              "      <th>Weapon of Choice</th>\n",
              "      <th>Equipment Quality</th>\n",
              "      <th>Injury History</th>\n",
              "      <th>Mental Resilience</th>\n",
              "      <th>Tactical Knowledge</th>\n",
              "      <th>Battle Experience</th>\n",
              "      <th>Health Status</th>\n",
              "      <th>Training Intensity</th>\n",
              "      <th>Battle Strategy</th>\n",
              "      <th>Survived Enc</th>\n",
              "    </tr>\n",
              "  </thead>\n",
              "  <tbody>\n",
              "    <tr>\n",
              "      <th>0</th>\n",
              "      <td>Cosconius Hostius</td>\n",
              "      <td>42</td>\n",
              "      <td>1</td>\n",
              "      <td>176</td>\n",
              "      <td>54</td>\n",
              "      <td>1</td>\n",
              "      <td>10</td>\n",
              "      <td>2</td>\n",
              "      <td>1</td>\n",
              "      <td>Basic</td>\n",
              "      <td>Low</td>\n",
              "      <td>2.309622</td>\n",
              "      <td>Basic</td>\n",
              "      <td>12</td>\n",
              "      <td>Good</td>\n",
              "      <td>Medium</td>\n",
              "      <td>1</td>\n",
              "      <td>1</td>\n",
              "    </tr>\n",
              "    <tr>\n",
              "      <th>1</th>\n",
              "      <td>Caecilius Valerius</td>\n",
              "      <td>30</td>\n",
              "      <td>2</td>\n",
              "      <td>173</td>\n",
              "      <td>67</td>\n",
              "      <td>2</td>\n",
              "      <td>6</td>\n",
              "      <td>0</td>\n",
              "      <td>2</td>\n",
              "      <td>Superior</td>\n",
              "      <td>Low</td>\n",
              "      <td>2.609512</td>\n",
              "      <td>Expert</td>\n",
              "      <td>6</td>\n",
              "      <td>Excellent</td>\n",
              "      <td>Medium</td>\n",
              "      <td>2</td>\n",
              "      <td>0</td>\n",
              "    </tr>\n",
              "    <tr>\n",
              "      <th>2</th>\n",
              "      <td>Sempronius Aulus</td>\n",
              "      <td>30</td>\n",
              "      <td>1</td>\n",
              "      <td>171</td>\n",
              "      <td>81</td>\n",
              "      <td>1</td>\n",
              "      <td>8</td>\n",
              "      <td>4</td>\n",
              "      <td>1</td>\n",
              "      <td>Basic</td>\n",
              "      <td>Low</td>\n",
              "      <td>8.770731</td>\n",
              "      <td>Advanced</td>\n",
              "      <td>12</td>\n",
              "      <td>Excellent</td>\n",
              "      <td>Medium</td>\n",
              "      <td>1</td>\n",
              "      <td>1</td>\n",
              "    </tr>\n",
              "    <tr>\n",
              "      <th>3</th>\n",
              "      <td>Lacerius Laberius</td>\n",
              "      <td>32</td>\n",
              "      <td>3</td>\n",
              "      <td>172</td>\n",
              "      <td>72</td>\n",
              "      <td>3</td>\n",
              "      <td>8</td>\n",
              "      <td>3</td>\n",
              "      <td>3</td>\n",
              "      <td>Superior</td>\n",
              "      <td>Low</td>\n",
              "      <td>1.047568</td>\n",
              "      <td>Intermediate</td>\n",
              "      <td>11</td>\n",
              "      <td>Excellent</td>\n",
              "      <td>Medium</td>\n",
              "      <td>2</td>\n",
              "      <td>1</td>\n",
              "    </tr>\n",
              "    <tr>\n",
              "      <th>4</th>\n",
              "      <td>Blaesus Modius</td>\n",
              "      <td>29</td>\n",
              "      <td>1</td>\n",
              "      <td>177</td>\n",
              "      <td>87</td>\n",
              "      <td>4</td>\n",
              "      <td>12</td>\n",
              "      <td>5</td>\n",
              "      <td>2</td>\n",
              "      <td>Standard</td>\n",
              "      <td>High</td>\n",
              "      <td>4.524769</td>\n",
              "      <td>Advanced</td>\n",
              "      <td>17</td>\n",
              "      <td>Good</td>\n",
              "      <td>Medium</td>\n",
              "      <td>1</td>\n",
              "      <td>1</td>\n",
              "    </tr>\n",
              "  </tbody>\n",
              "</table>\n",
              "</div>\n",
              "    <div class=\"colab-df-buttons\">\n",
              "\n",
              "  <div class=\"colab-df-container\">\n",
              "    <button class=\"colab-df-convert\" onclick=\"convertToInteractive('df-16fde804-4d1d-41e8-84bb-ceeea3c5adf7')\"\n",
              "            title=\"Convert this dataframe to an interactive table.\"\n",
              "            style=\"display:none;\">\n",
              "\n",
              "  <svg xmlns=\"http://www.w3.org/2000/svg\" height=\"24px\" viewBox=\"0 -960 960 960\">\n",
              "    <path d=\"M120-120v-720h720v720H120Zm60-500h600v-160H180v160Zm220 220h160v-160H400v160Zm0 220h160v-160H400v160ZM180-400h160v-160H180v160Zm440 0h160v-160H620v160ZM180-180h160v-160H180v160Zm440 0h160v-160H620v160Z\"/>\n",
              "  </svg>\n",
              "    </button>\n",
              "\n",
              "  <style>\n",
              "    .colab-df-container {\n",
              "      display:flex;\n",
              "      gap: 12px;\n",
              "    }\n",
              "\n",
              "    .colab-df-convert {\n",
              "      background-color: #E8F0FE;\n",
              "      border: none;\n",
              "      border-radius: 50%;\n",
              "      cursor: pointer;\n",
              "      display: none;\n",
              "      fill: #1967D2;\n",
              "      height: 32px;\n",
              "      padding: 0 0 0 0;\n",
              "      width: 32px;\n",
              "    }\n",
              "\n",
              "    .colab-df-convert:hover {\n",
              "      background-color: #E2EBFA;\n",
              "      box-shadow: 0px 1px 2px rgba(60, 64, 67, 0.3), 0px 1px 3px 1px rgba(60, 64, 67, 0.15);\n",
              "      fill: #174EA6;\n",
              "    }\n",
              "\n",
              "    .colab-df-buttons div {\n",
              "      margin-bottom: 4px;\n",
              "    }\n",
              "\n",
              "    [theme=dark] .colab-df-convert {\n",
              "      background-color: #3B4455;\n",
              "      fill: #D2E3FC;\n",
              "    }\n",
              "\n",
              "    [theme=dark] .colab-df-convert:hover {\n",
              "      background-color: #434B5C;\n",
              "      box-shadow: 0px 1px 3px 1px rgba(0, 0, 0, 0.15);\n",
              "      filter: drop-shadow(0px 1px 2px rgba(0, 0, 0, 0.3));\n",
              "      fill: #FFFFFF;\n",
              "    }\n",
              "  </style>\n",
              "\n",
              "    <script>\n",
              "      const buttonEl =\n",
              "        document.querySelector('#df-16fde804-4d1d-41e8-84bb-ceeea3c5adf7 button.colab-df-convert');\n",
              "      buttonEl.style.display =\n",
              "        google.colab.kernel.accessAllowed ? 'block' : 'none';\n",
              "\n",
              "      async function convertToInteractive(key) {\n",
              "        const element = document.querySelector('#df-16fde804-4d1d-41e8-84bb-ceeea3c5adf7');\n",
              "        const dataTable =\n",
              "          await google.colab.kernel.invokeFunction('convertToInteractive',\n",
              "                                                    [key], {});\n",
              "        if (!dataTable) return;\n",
              "\n",
              "        const docLinkHtml = 'Like what you see? Visit the ' +\n",
              "          '<a target=\"_blank\" href=https://colab.research.google.com/notebooks/data_table.ipynb>data table notebook</a>'\n",
              "          + ' to learn more about interactive tables.';\n",
              "        element.innerHTML = '';\n",
              "        dataTable['output_type'] = 'display_data';\n",
              "        await google.colab.output.renderOutput(dataTable, element);\n",
              "        const docLink = document.createElement('div');\n",
              "        docLink.innerHTML = docLinkHtml;\n",
              "        element.appendChild(docLink);\n",
              "      }\n",
              "    </script>\n",
              "  </div>\n",
              "\n",
              "\n",
              "<div id=\"df-3169ccf1-0801-4481-a083-47f713ff1fce\">\n",
              "  <button class=\"colab-df-quickchart\" onclick=\"quickchart('df-3169ccf1-0801-4481-a083-47f713ff1fce')\"\n",
              "            title=\"Suggest charts\"\n",
              "            style=\"display:none;\">\n",
              "\n",
              "<svg xmlns=\"http://www.w3.org/2000/svg\" height=\"24px\"viewBox=\"0 0 24 24\"\n",
              "     width=\"24px\">\n",
              "    <g>\n",
              "        <path d=\"M19 3H5c-1.1 0-2 .9-2 2v14c0 1.1.9 2 2 2h14c1.1 0 2-.9 2-2V5c0-1.1-.9-2-2-2zM9 17H7v-7h2v7zm4 0h-2V7h2v10zm4 0h-2v-4h2v4z\"/>\n",
              "    </g>\n",
              "</svg>\n",
              "  </button>\n",
              "\n",
              "<style>\n",
              "  .colab-df-quickchart {\n",
              "      --bg-color: #E8F0FE;\n",
              "      --fill-color: #1967D2;\n",
              "      --hover-bg-color: #E2EBFA;\n",
              "      --hover-fill-color: #174EA6;\n",
              "      --disabled-fill-color: #AAA;\n",
              "      --disabled-bg-color: #DDD;\n",
              "  }\n",
              "\n",
              "  [theme=dark] .colab-df-quickchart {\n",
              "      --bg-color: #3B4455;\n",
              "      --fill-color: #D2E3FC;\n",
              "      --hover-bg-color: #434B5C;\n",
              "      --hover-fill-color: #FFFFFF;\n",
              "      --disabled-bg-color: #3B4455;\n",
              "      --disabled-fill-color: #666;\n",
              "  }\n",
              "\n",
              "  .colab-df-quickchart {\n",
              "    background-color: var(--bg-color);\n",
              "    border: none;\n",
              "    border-radius: 50%;\n",
              "    cursor: pointer;\n",
              "    display: none;\n",
              "    fill: var(--fill-color);\n",
              "    height: 32px;\n",
              "    padding: 0;\n",
              "    width: 32px;\n",
              "  }\n",
              "\n",
              "  .colab-df-quickchart:hover {\n",
              "    background-color: var(--hover-bg-color);\n",
              "    box-shadow: 0 1px 2px rgba(60, 64, 67, 0.3), 0 1px 3px 1px rgba(60, 64, 67, 0.15);\n",
              "    fill: var(--button-hover-fill-color);\n",
              "  }\n",
              "\n",
              "  .colab-df-quickchart-complete:disabled,\n",
              "  .colab-df-quickchart-complete:disabled:hover {\n",
              "    background-color: var(--disabled-bg-color);\n",
              "    fill: var(--disabled-fill-color);\n",
              "    box-shadow: none;\n",
              "  }\n",
              "\n",
              "  .colab-df-spinner {\n",
              "    border: 2px solid var(--fill-color);\n",
              "    border-color: transparent;\n",
              "    border-bottom-color: var(--fill-color);\n",
              "    animation:\n",
              "      spin 1s steps(1) infinite;\n",
              "  }\n",
              "\n",
              "  @keyframes spin {\n",
              "    0% {\n",
              "      border-color: transparent;\n",
              "      border-bottom-color: var(--fill-color);\n",
              "      border-left-color: var(--fill-color);\n",
              "    }\n",
              "    20% {\n",
              "      border-color: transparent;\n",
              "      border-left-color: var(--fill-color);\n",
              "      border-top-color: var(--fill-color);\n",
              "    }\n",
              "    30% {\n",
              "      border-color: transparent;\n",
              "      border-left-color: var(--fill-color);\n",
              "      border-top-color: var(--fill-color);\n",
              "      border-right-color: var(--fill-color);\n",
              "    }\n",
              "    40% {\n",
              "      border-color: transparent;\n",
              "      border-right-color: var(--fill-color);\n",
              "      border-top-color: var(--fill-color);\n",
              "    }\n",
              "    60% {\n",
              "      border-color: transparent;\n",
              "      border-right-color: var(--fill-color);\n",
              "    }\n",
              "    80% {\n",
              "      border-color: transparent;\n",
              "      border-right-color: var(--fill-color);\n",
              "      border-bottom-color: var(--fill-color);\n",
              "    }\n",
              "    90% {\n",
              "      border-color: transparent;\n",
              "      border-bottom-color: var(--fill-color);\n",
              "    }\n",
              "  }\n",
              "</style>\n",
              "\n",
              "  <script>\n",
              "    async function quickchart(key) {\n",
              "      const quickchartButtonEl =\n",
              "        document.querySelector('#' + key + ' button');\n",
              "      quickchartButtonEl.disabled = true;  // To prevent multiple clicks.\n",
              "      quickchartButtonEl.classList.add('colab-df-spinner');\n",
              "      try {\n",
              "        const charts = await google.colab.kernel.invokeFunction(\n",
              "            'suggestCharts', [key], {});\n",
              "      } catch (error) {\n",
              "        console.error('Error during call to suggestCharts:', error);\n",
              "      }\n",
              "      quickchartButtonEl.classList.remove('colab-df-spinner');\n",
              "      quickchartButtonEl.classList.add('colab-df-quickchart-complete');\n",
              "    }\n",
              "    (() => {\n",
              "      let quickchartButtonEl =\n",
              "        document.querySelector('#df-3169ccf1-0801-4481-a083-47f713ff1fce button');\n",
              "      quickchartButtonEl.style.display =\n",
              "        google.colab.kernel.accessAllowed ? 'block' : 'none';\n",
              "    })();\n",
              "  </script>\n",
              "</div>\n",
              "    </div>\n",
              "  </div>\n"
            ]
          },
          "metadata": {},
          "execution_count": 13
        }
      ]
    },
    {
      "cell_type": "markdown",
      "source": [
        "Sebelum dataset displit menjadi data train dan test, dataset akan diencode terlebih dahulu. Kolom-kolom `Equipment Quality`, `Injury History`, `Tactical Knowledge`, `Health Status`, dan `Training Intensity` akan diencode dengan OrdinalEncoder."
      ],
      "metadata": {
        "id": "1Y7D79t_ngfX"
      }
    },
    {
      "cell_type": "code",
      "source": [
        "# Define OrdinalEncoder\n",
        "\n",
        "qualityEnc = OrdinalEncoder(categories=[['Basic', 'Standard', 'Superior']])\n",
        "injuryEnc = OrdinalEncoder(categories=[['Low', 'High']])\n",
        "tactEnc = OrdinalEncoder(categories=[['Basic', 'Intermediate', 'Expert', 'Advanced']])\n",
        "healthEnc = OrdinalEncoder(categories=[['Fair', 'Good', 'Excellent']])\n",
        "trainEnc = OrdinalEncoder(categories=[['Low', 'Medium', 'High']])"
      ],
      "metadata": {
        "id": "1d2gR7PJn_Wm"
      },
      "execution_count": 14,
      "outputs": []
    },
    {
      "cell_type": "code",
      "source": [
        "# Eksekusi encoding\n",
        "\n",
        "df1[['Equipment Quality']] = qualityEnc.fit_transform(dfcut[['Equipment Quality']])\n",
        "df1[['Injury History']] = injuryEnc.fit_transform(dfcut[['Injury History']])\n",
        "df1[['Tactical Knowledge']] = tactEnc.fit_transform(dfcut[['Tactical Knowledge']])\n",
        "df1[['Health Status']] = healthEnc.fit_transform(dfcut[['Health Status']])\n",
        "df1[['Training Intensity']] = trainEnc.fit_transform(dfcut[['Training Intensity']])"
      ],
      "metadata": {
        "id": "MyeFTB3Jqamg"
      },
      "execution_count": 15,
      "outputs": []
    },
    {
      "cell_type": "code",
      "source": [
        "df1.head(10)"
      ],
      "metadata": {
        "colab": {
          "base_uri": "https://localhost:8080/",
          "height": 591
        },
        "id": "f3L7pzZjrFEf",
        "outputId": "199b3399-9a50-4be9-8170-3edbe3e0d9db"
      },
      "execution_count": 16,
      "outputs": [
        {
          "output_type": "execute_result",
          "data": {
            "text/plain": [
              "                 Name  Age  Origin  Height  Weight  Category  Wins  Losses  \\\n",
              "0   Cosconius Hostius   42       1     176      54         1    10       2   \n",
              "1  Caecilius Valerius   30       2     173      67         2     6       0   \n",
              "2    Sempronius Aulus   30       1     171      81         1     8       4   \n",
              "3   Lacerius Laberius   32       3     172      72         3     8       3   \n",
              "4      Blaesus Modius   29       1     177      87         4    12       5   \n",
              "5    Hortensius Gaius   23       1     158      77         5     7       1   \n",
              "6   Lollius Nasennius   43       2     168      74         1     7       1   \n",
              "7      Gaius Caninius   36       3     185      62         4    13       8   \n",
              "8    Petreius Memmius   33       4     186      50         2     7       0   \n",
              "9     Numerius Sextus   32       2     171      56         2     8       1   \n",
              "\n",
              "   Weapon of Choice  Equipment Quality  Injury History  Mental Resilience  \\\n",
              "0                 1                0.0             0.0           2.309622   \n",
              "1                 2                2.0             0.0           2.609512   \n",
              "2                 1                0.0             0.0           8.770731   \n",
              "3                 3                2.0             0.0           1.047568   \n",
              "4                 2                1.0             1.0           4.524769   \n",
              "5                 4                0.0             0.0           7.885911   \n",
              "6                 2                0.0             0.0           3.026551   \n",
              "7                 2                2.0             1.0           2.772185   \n",
              "8                 2                0.0             0.0           8.687004   \n",
              "9                 4                2.0             0.0           6.284513   \n",
              "\n",
              "   Tactical Knowledge  Battle Experience  Health Status  Training Intensity  \\\n",
              "0                 0.0                 12            1.0                 1.0   \n",
              "1                 2.0                  6            2.0                 1.0   \n",
              "2                 3.0                 12            2.0                 1.0   \n",
              "3                 1.0                 11            2.0                 1.0   \n",
              "4                 3.0                 17            1.0                 1.0   \n",
              "5                 2.0                  8            2.0                 1.0   \n",
              "6                 3.0                  8            1.0                 0.0   \n",
              "7                 1.0                 21            1.0                 0.0   \n",
              "8                 3.0                  7            2.0                 1.0   \n",
              "9                 3.0                  9            2.0                 1.0   \n",
              "\n",
              "   Battle Strategy  Survived Enc  \n",
              "0                1             1  \n",
              "1                2             0  \n",
              "2                1             1  \n",
              "3                2             1  \n",
              "4                1             1  \n",
              "5                2             1  \n",
              "6                2             1  \n",
              "7                1             1  \n",
              "8                2             1  \n",
              "9                3             1  "
            ],
            "text/html": [
              "\n",
              "  <div id=\"df-4a46f301-007a-43e4-9abf-0ed4aaf23f1b\" class=\"colab-df-container\">\n",
              "    <div>\n",
              "<style scoped>\n",
              "    .dataframe tbody tr th:only-of-type {\n",
              "        vertical-align: middle;\n",
              "    }\n",
              "\n",
              "    .dataframe tbody tr th {\n",
              "        vertical-align: top;\n",
              "    }\n",
              "\n",
              "    .dataframe thead th {\n",
              "        text-align: right;\n",
              "    }\n",
              "</style>\n",
              "<table border=\"1\" class=\"dataframe\">\n",
              "  <thead>\n",
              "    <tr style=\"text-align: right;\">\n",
              "      <th></th>\n",
              "      <th>Name</th>\n",
              "      <th>Age</th>\n",
              "      <th>Origin</th>\n",
              "      <th>Height</th>\n",
              "      <th>Weight</th>\n",
              "      <th>Category</th>\n",
              "      <th>Wins</th>\n",
              "      <th>Losses</th>\n",
              "      <th>Weapon of Choice</th>\n",
              "      <th>Equipment Quality</th>\n",
              "      <th>Injury History</th>\n",
              "      <th>Mental Resilience</th>\n",
              "      <th>Tactical Knowledge</th>\n",
              "      <th>Battle Experience</th>\n",
              "      <th>Health Status</th>\n",
              "      <th>Training Intensity</th>\n",
              "      <th>Battle Strategy</th>\n",
              "      <th>Survived Enc</th>\n",
              "    </tr>\n",
              "  </thead>\n",
              "  <tbody>\n",
              "    <tr>\n",
              "      <th>0</th>\n",
              "      <td>Cosconius Hostius</td>\n",
              "      <td>42</td>\n",
              "      <td>1</td>\n",
              "      <td>176</td>\n",
              "      <td>54</td>\n",
              "      <td>1</td>\n",
              "      <td>10</td>\n",
              "      <td>2</td>\n",
              "      <td>1</td>\n",
              "      <td>0.0</td>\n",
              "      <td>0.0</td>\n",
              "      <td>2.309622</td>\n",
              "      <td>0.0</td>\n",
              "      <td>12</td>\n",
              "      <td>1.0</td>\n",
              "      <td>1.0</td>\n",
              "      <td>1</td>\n",
              "      <td>1</td>\n",
              "    </tr>\n",
              "    <tr>\n",
              "      <th>1</th>\n",
              "      <td>Caecilius Valerius</td>\n",
              "      <td>30</td>\n",
              "      <td>2</td>\n",
              "      <td>173</td>\n",
              "      <td>67</td>\n",
              "      <td>2</td>\n",
              "      <td>6</td>\n",
              "      <td>0</td>\n",
              "      <td>2</td>\n",
              "      <td>2.0</td>\n",
              "      <td>0.0</td>\n",
              "      <td>2.609512</td>\n",
              "      <td>2.0</td>\n",
              "      <td>6</td>\n",
              "      <td>2.0</td>\n",
              "      <td>1.0</td>\n",
              "      <td>2</td>\n",
              "      <td>0</td>\n",
              "    </tr>\n",
              "    <tr>\n",
              "      <th>2</th>\n",
              "      <td>Sempronius Aulus</td>\n",
              "      <td>30</td>\n",
              "      <td>1</td>\n",
              "      <td>171</td>\n",
              "      <td>81</td>\n",
              "      <td>1</td>\n",
              "      <td>8</td>\n",
              "      <td>4</td>\n",
              "      <td>1</td>\n",
              "      <td>0.0</td>\n",
              "      <td>0.0</td>\n",
              "      <td>8.770731</td>\n",
              "      <td>3.0</td>\n",
              "      <td>12</td>\n",
              "      <td>2.0</td>\n",
              "      <td>1.0</td>\n",
              "      <td>1</td>\n",
              "      <td>1</td>\n",
              "    </tr>\n",
              "    <tr>\n",
              "      <th>3</th>\n",
              "      <td>Lacerius Laberius</td>\n",
              "      <td>32</td>\n",
              "      <td>3</td>\n",
              "      <td>172</td>\n",
              "      <td>72</td>\n",
              "      <td>3</td>\n",
              "      <td>8</td>\n",
              "      <td>3</td>\n",
              "      <td>3</td>\n",
              "      <td>2.0</td>\n",
              "      <td>0.0</td>\n",
              "      <td>1.047568</td>\n",
              "      <td>1.0</td>\n",
              "      <td>11</td>\n",
              "      <td>2.0</td>\n",
              "      <td>1.0</td>\n",
              "      <td>2</td>\n",
              "      <td>1</td>\n",
              "    </tr>\n",
              "    <tr>\n",
              "      <th>4</th>\n",
              "      <td>Blaesus Modius</td>\n",
              "      <td>29</td>\n",
              "      <td>1</td>\n",
              "      <td>177</td>\n",
              "      <td>87</td>\n",
              "      <td>4</td>\n",
              "      <td>12</td>\n",
              "      <td>5</td>\n",
              "      <td>2</td>\n",
              "      <td>1.0</td>\n",
              "      <td>1.0</td>\n",
              "      <td>4.524769</td>\n",
              "      <td>3.0</td>\n",
              "      <td>17</td>\n",
              "      <td>1.0</td>\n",
              "      <td>1.0</td>\n",
              "      <td>1</td>\n",
              "      <td>1</td>\n",
              "    </tr>\n",
              "    <tr>\n",
              "      <th>5</th>\n",
              "      <td>Hortensius Gaius</td>\n",
              "      <td>23</td>\n",
              "      <td>1</td>\n",
              "      <td>158</td>\n",
              "      <td>77</td>\n",
              "      <td>5</td>\n",
              "      <td>7</td>\n",
              "      <td>1</td>\n",
              "      <td>4</td>\n",
              "      <td>0.0</td>\n",
              "      <td>0.0</td>\n",
              "      <td>7.885911</td>\n",
              "      <td>2.0</td>\n",
              "      <td>8</td>\n",
              "      <td>2.0</td>\n",
              "      <td>1.0</td>\n",
              "      <td>2</td>\n",
              "      <td>1</td>\n",
              "    </tr>\n",
              "    <tr>\n",
              "      <th>6</th>\n",
              "      <td>Lollius Nasennius</td>\n",
              "      <td>43</td>\n",
              "      <td>2</td>\n",
              "      <td>168</td>\n",
              "      <td>74</td>\n",
              "      <td>1</td>\n",
              "      <td>7</td>\n",
              "      <td>1</td>\n",
              "      <td>2</td>\n",
              "      <td>0.0</td>\n",
              "      <td>0.0</td>\n",
              "      <td>3.026551</td>\n",
              "      <td>3.0</td>\n",
              "      <td>8</td>\n",
              "      <td>1.0</td>\n",
              "      <td>0.0</td>\n",
              "      <td>2</td>\n",
              "      <td>1</td>\n",
              "    </tr>\n",
              "    <tr>\n",
              "      <th>7</th>\n",
              "      <td>Gaius Caninius</td>\n",
              "      <td>36</td>\n",
              "      <td>3</td>\n",
              "      <td>185</td>\n",
              "      <td>62</td>\n",
              "      <td>4</td>\n",
              "      <td>13</td>\n",
              "      <td>8</td>\n",
              "      <td>2</td>\n",
              "      <td>2.0</td>\n",
              "      <td>1.0</td>\n",
              "      <td>2.772185</td>\n",
              "      <td>1.0</td>\n",
              "      <td>21</td>\n",
              "      <td>1.0</td>\n",
              "      <td>0.0</td>\n",
              "      <td>1</td>\n",
              "      <td>1</td>\n",
              "    </tr>\n",
              "    <tr>\n",
              "      <th>8</th>\n",
              "      <td>Petreius Memmius</td>\n",
              "      <td>33</td>\n",
              "      <td>4</td>\n",
              "      <td>186</td>\n",
              "      <td>50</td>\n",
              "      <td>2</td>\n",
              "      <td>7</td>\n",
              "      <td>0</td>\n",
              "      <td>2</td>\n",
              "      <td>0.0</td>\n",
              "      <td>0.0</td>\n",
              "      <td>8.687004</td>\n",
              "      <td>3.0</td>\n",
              "      <td>7</td>\n",
              "      <td>2.0</td>\n",
              "      <td>1.0</td>\n",
              "      <td>2</td>\n",
              "      <td>1</td>\n",
              "    </tr>\n",
              "    <tr>\n",
              "      <th>9</th>\n",
              "      <td>Numerius Sextus</td>\n",
              "      <td>32</td>\n",
              "      <td>2</td>\n",
              "      <td>171</td>\n",
              "      <td>56</td>\n",
              "      <td>2</td>\n",
              "      <td>8</td>\n",
              "      <td>1</td>\n",
              "      <td>4</td>\n",
              "      <td>2.0</td>\n",
              "      <td>0.0</td>\n",
              "      <td>6.284513</td>\n",
              "      <td>3.0</td>\n",
              "      <td>9</td>\n",
              "      <td>2.0</td>\n",
              "      <td>1.0</td>\n",
              "      <td>3</td>\n",
              "      <td>1</td>\n",
              "    </tr>\n",
              "  </tbody>\n",
              "</table>\n",
              "</div>\n",
              "    <div class=\"colab-df-buttons\">\n",
              "\n",
              "  <div class=\"colab-df-container\">\n",
              "    <button class=\"colab-df-convert\" onclick=\"convertToInteractive('df-4a46f301-007a-43e4-9abf-0ed4aaf23f1b')\"\n",
              "            title=\"Convert this dataframe to an interactive table.\"\n",
              "            style=\"display:none;\">\n",
              "\n",
              "  <svg xmlns=\"http://www.w3.org/2000/svg\" height=\"24px\" viewBox=\"0 -960 960 960\">\n",
              "    <path d=\"M120-120v-720h720v720H120Zm60-500h600v-160H180v160Zm220 220h160v-160H400v160Zm0 220h160v-160H400v160ZM180-400h160v-160H180v160Zm440 0h160v-160H620v160ZM180-180h160v-160H180v160Zm440 0h160v-160H620v160Z\"/>\n",
              "  </svg>\n",
              "    </button>\n",
              "\n",
              "  <style>\n",
              "    .colab-df-container {\n",
              "      display:flex;\n",
              "      gap: 12px;\n",
              "    }\n",
              "\n",
              "    .colab-df-convert {\n",
              "      background-color: #E8F0FE;\n",
              "      border: none;\n",
              "      border-radius: 50%;\n",
              "      cursor: pointer;\n",
              "      display: none;\n",
              "      fill: #1967D2;\n",
              "      height: 32px;\n",
              "      padding: 0 0 0 0;\n",
              "      width: 32px;\n",
              "    }\n",
              "\n",
              "    .colab-df-convert:hover {\n",
              "      background-color: #E2EBFA;\n",
              "      box-shadow: 0px 1px 2px rgba(60, 64, 67, 0.3), 0px 1px 3px 1px rgba(60, 64, 67, 0.15);\n",
              "      fill: #174EA6;\n",
              "    }\n",
              "\n",
              "    .colab-df-buttons div {\n",
              "      margin-bottom: 4px;\n",
              "    }\n",
              "\n",
              "    [theme=dark] .colab-df-convert {\n",
              "      background-color: #3B4455;\n",
              "      fill: #D2E3FC;\n",
              "    }\n",
              "\n",
              "    [theme=dark] .colab-df-convert:hover {\n",
              "      background-color: #434B5C;\n",
              "      box-shadow: 0px 1px 3px 1px rgba(0, 0, 0, 0.15);\n",
              "      filter: drop-shadow(0px 1px 2px rgba(0, 0, 0, 0.3));\n",
              "      fill: #FFFFFF;\n",
              "    }\n",
              "  </style>\n",
              "\n",
              "    <script>\n",
              "      const buttonEl =\n",
              "        document.querySelector('#df-4a46f301-007a-43e4-9abf-0ed4aaf23f1b button.colab-df-convert');\n",
              "      buttonEl.style.display =\n",
              "        google.colab.kernel.accessAllowed ? 'block' : 'none';\n",
              "\n",
              "      async function convertToInteractive(key) {\n",
              "        const element = document.querySelector('#df-4a46f301-007a-43e4-9abf-0ed4aaf23f1b');\n",
              "        const dataTable =\n",
              "          await google.colab.kernel.invokeFunction('convertToInteractive',\n",
              "                                                    [key], {});\n",
              "        if (!dataTable) return;\n",
              "\n",
              "        const docLinkHtml = 'Like what you see? Visit the ' +\n",
              "          '<a target=\"_blank\" href=https://colab.research.google.com/notebooks/data_table.ipynb>data table notebook</a>'\n",
              "          + ' to learn more about interactive tables.';\n",
              "        element.innerHTML = '';\n",
              "        dataTable['output_type'] = 'display_data';\n",
              "        await google.colab.output.renderOutput(dataTable, element);\n",
              "        const docLink = document.createElement('div');\n",
              "        docLink.innerHTML = docLinkHtml;\n",
              "        element.appendChild(docLink);\n",
              "      }\n",
              "    </script>\n",
              "  </div>\n",
              "\n",
              "\n",
              "<div id=\"df-a8a7cd46-3d36-4f43-bbe1-c37ce9b38b76\">\n",
              "  <button class=\"colab-df-quickchart\" onclick=\"quickchart('df-a8a7cd46-3d36-4f43-bbe1-c37ce9b38b76')\"\n",
              "            title=\"Suggest charts\"\n",
              "            style=\"display:none;\">\n",
              "\n",
              "<svg xmlns=\"http://www.w3.org/2000/svg\" height=\"24px\"viewBox=\"0 0 24 24\"\n",
              "     width=\"24px\">\n",
              "    <g>\n",
              "        <path d=\"M19 3H5c-1.1 0-2 .9-2 2v14c0 1.1.9 2 2 2h14c1.1 0 2-.9 2-2V5c0-1.1-.9-2-2-2zM9 17H7v-7h2v7zm4 0h-2V7h2v10zm4 0h-2v-4h2v4z\"/>\n",
              "    </g>\n",
              "</svg>\n",
              "  </button>\n",
              "\n",
              "<style>\n",
              "  .colab-df-quickchart {\n",
              "      --bg-color: #E8F0FE;\n",
              "      --fill-color: #1967D2;\n",
              "      --hover-bg-color: #E2EBFA;\n",
              "      --hover-fill-color: #174EA6;\n",
              "      --disabled-fill-color: #AAA;\n",
              "      --disabled-bg-color: #DDD;\n",
              "  }\n",
              "\n",
              "  [theme=dark] .colab-df-quickchart {\n",
              "      --bg-color: #3B4455;\n",
              "      --fill-color: #D2E3FC;\n",
              "      --hover-bg-color: #434B5C;\n",
              "      --hover-fill-color: #FFFFFF;\n",
              "      --disabled-bg-color: #3B4455;\n",
              "      --disabled-fill-color: #666;\n",
              "  }\n",
              "\n",
              "  .colab-df-quickchart {\n",
              "    background-color: var(--bg-color);\n",
              "    border: none;\n",
              "    border-radius: 50%;\n",
              "    cursor: pointer;\n",
              "    display: none;\n",
              "    fill: var(--fill-color);\n",
              "    height: 32px;\n",
              "    padding: 0;\n",
              "    width: 32px;\n",
              "  }\n",
              "\n",
              "  .colab-df-quickchart:hover {\n",
              "    background-color: var(--hover-bg-color);\n",
              "    box-shadow: 0 1px 2px rgba(60, 64, 67, 0.3), 0 1px 3px 1px rgba(60, 64, 67, 0.15);\n",
              "    fill: var(--button-hover-fill-color);\n",
              "  }\n",
              "\n",
              "  .colab-df-quickchart-complete:disabled,\n",
              "  .colab-df-quickchart-complete:disabled:hover {\n",
              "    background-color: var(--disabled-bg-color);\n",
              "    fill: var(--disabled-fill-color);\n",
              "    box-shadow: none;\n",
              "  }\n",
              "\n",
              "  .colab-df-spinner {\n",
              "    border: 2px solid var(--fill-color);\n",
              "    border-color: transparent;\n",
              "    border-bottom-color: var(--fill-color);\n",
              "    animation:\n",
              "      spin 1s steps(1) infinite;\n",
              "  }\n",
              "\n",
              "  @keyframes spin {\n",
              "    0% {\n",
              "      border-color: transparent;\n",
              "      border-bottom-color: var(--fill-color);\n",
              "      border-left-color: var(--fill-color);\n",
              "    }\n",
              "    20% {\n",
              "      border-color: transparent;\n",
              "      border-left-color: var(--fill-color);\n",
              "      border-top-color: var(--fill-color);\n",
              "    }\n",
              "    30% {\n",
              "      border-color: transparent;\n",
              "      border-left-color: var(--fill-color);\n",
              "      border-top-color: var(--fill-color);\n",
              "      border-right-color: var(--fill-color);\n",
              "    }\n",
              "    40% {\n",
              "      border-color: transparent;\n",
              "      border-right-color: var(--fill-color);\n",
              "      border-top-color: var(--fill-color);\n",
              "    }\n",
              "    60% {\n",
              "      border-color: transparent;\n",
              "      border-right-color: var(--fill-color);\n",
              "    }\n",
              "    80% {\n",
              "      border-color: transparent;\n",
              "      border-right-color: var(--fill-color);\n",
              "      border-bottom-color: var(--fill-color);\n",
              "    }\n",
              "    90% {\n",
              "      border-color: transparent;\n",
              "      border-bottom-color: var(--fill-color);\n",
              "    }\n",
              "  }\n",
              "</style>\n",
              "\n",
              "  <script>\n",
              "    async function quickchart(key) {\n",
              "      const quickchartButtonEl =\n",
              "        document.querySelector('#' + key + ' button');\n",
              "      quickchartButtonEl.disabled = true;  // To prevent multiple clicks.\n",
              "      quickchartButtonEl.classList.add('colab-df-spinner');\n",
              "      try {\n",
              "        const charts = await google.colab.kernel.invokeFunction(\n",
              "            'suggestCharts', [key], {});\n",
              "      } catch (error) {\n",
              "        console.error('Error during call to suggestCharts:', error);\n",
              "      }\n",
              "      quickchartButtonEl.classList.remove('colab-df-spinner');\n",
              "      quickchartButtonEl.classList.add('colab-df-quickchart-complete');\n",
              "    }\n",
              "    (() => {\n",
              "      let quickchartButtonEl =\n",
              "        document.querySelector('#df-a8a7cd46-3d36-4f43-bbe1-c37ce9b38b76 button');\n",
              "      quickchartButtonEl.style.display =\n",
              "        google.colab.kernel.accessAllowed ? 'block' : 'none';\n",
              "    })();\n",
              "  </script>\n",
              "</div>\n",
              "    </div>\n",
              "  </div>\n"
            ]
          },
          "metadata": {},
          "execution_count": 16
        }
      ]
    },
    {
      "cell_type": "markdown",
      "source": [
        "Sekarang data akan dipisah menjadi fitur dan label. Kolom nama tidak akan dilibatkan dalam fitur dan akan disendirikan."
      ],
      "metadata": {
        "id": "LU8jkg4UrR_o"
      }
    },
    {
      "cell_type": "code",
      "source": [
        "# Pemisahan dataset menjadi fitur dan label\n",
        "\n",
        "# Nama\n",
        "names = df1[['Name']]\n",
        "\n",
        "# Fitur\n",
        "x = df1.drop(['Name', 'Survived Enc'], axis=1)\n",
        "\n",
        "# Label\n",
        "y = df1[['Survived Enc']]\n",
        "\n",
        "x.head()"
      ],
      "metadata": {
        "colab": {
          "base_uri": "https://localhost:8080/",
          "height": 261
        },
        "id": "MdTt911erXIv",
        "outputId": "7a54f187-4a2e-4766-d743-a88eeaa73391"
      },
      "execution_count": 17,
      "outputs": [
        {
          "output_type": "execute_result",
          "data": {
            "text/plain": [
              "   Age  Origin  Height  Weight  Category  Wins  Losses  Weapon of Choice  \\\n",
              "0   42       1     176      54         1    10       2                 1   \n",
              "1   30       2     173      67         2     6       0                 2   \n",
              "2   30       1     171      81         1     8       4                 1   \n",
              "3   32       3     172      72         3     8       3                 3   \n",
              "4   29       1     177      87         4    12       5                 2   \n",
              "\n",
              "   Equipment Quality  Injury History  Mental Resilience  Tactical Knowledge  \\\n",
              "0                0.0             0.0           2.309622                 0.0   \n",
              "1                2.0             0.0           2.609512                 2.0   \n",
              "2                0.0             0.0           8.770731                 3.0   \n",
              "3                2.0             0.0           1.047568                 1.0   \n",
              "4                1.0             1.0           4.524769                 3.0   \n",
              "\n",
              "   Battle Experience  Health Status  Training Intensity  Battle Strategy  \n",
              "0                 12            1.0                 1.0                1  \n",
              "1                  6            2.0                 1.0                2  \n",
              "2                 12            2.0                 1.0                1  \n",
              "3                 11            2.0                 1.0                2  \n",
              "4                 17            1.0                 1.0                1  "
            ],
            "text/html": [
              "\n",
              "  <div id=\"df-412a1764-626d-44e6-b76a-224f42c4b871\" class=\"colab-df-container\">\n",
              "    <div>\n",
              "<style scoped>\n",
              "    .dataframe tbody tr th:only-of-type {\n",
              "        vertical-align: middle;\n",
              "    }\n",
              "\n",
              "    .dataframe tbody tr th {\n",
              "        vertical-align: top;\n",
              "    }\n",
              "\n",
              "    .dataframe thead th {\n",
              "        text-align: right;\n",
              "    }\n",
              "</style>\n",
              "<table border=\"1\" class=\"dataframe\">\n",
              "  <thead>\n",
              "    <tr style=\"text-align: right;\">\n",
              "      <th></th>\n",
              "      <th>Age</th>\n",
              "      <th>Origin</th>\n",
              "      <th>Height</th>\n",
              "      <th>Weight</th>\n",
              "      <th>Category</th>\n",
              "      <th>Wins</th>\n",
              "      <th>Losses</th>\n",
              "      <th>Weapon of Choice</th>\n",
              "      <th>Equipment Quality</th>\n",
              "      <th>Injury History</th>\n",
              "      <th>Mental Resilience</th>\n",
              "      <th>Tactical Knowledge</th>\n",
              "      <th>Battle Experience</th>\n",
              "      <th>Health Status</th>\n",
              "      <th>Training Intensity</th>\n",
              "      <th>Battle Strategy</th>\n",
              "    </tr>\n",
              "  </thead>\n",
              "  <tbody>\n",
              "    <tr>\n",
              "      <th>0</th>\n",
              "      <td>42</td>\n",
              "      <td>1</td>\n",
              "      <td>176</td>\n",
              "      <td>54</td>\n",
              "      <td>1</td>\n",
              "      <td>10</td>\n",
              "      <td>2</td>\n",
              "      <td>1</td>\n",
              "      <td>0.0</td>\n",
              "      <td>0.0</td>\n",
              "      <td>2.309622</td>\n",
              "      <td>0.0</td>\n",
              "      <td>12</td>\n",
              "      <td>1.0</td>\n",
              "      <td>1.0</td>\n",
              "      <td>1</td>\n",
              "    </tr>\n",
              "    <tr>\n",
              "      <th>1</th>\n",
              "      <td>30</td>\n",
              "      <td>2</td>\n",
              "      <td>173</td>\n",
              "      <td>67</td>\n",
              "      <td>2</td>\n",
              "      <td>6</td>\n",
              "      <td>0</td>\n",
              "      <td>2</td>\n",
              "      <td>2.0</td>\n",
              "      <td>0.0</td>\n",
              "      <td>2.609512</td>\n",
              "      <td>2.0</td>\n",
              "      <td>6</td>\n",
              "      <td>2.0</td>\n",
              "      <td>1.0</td>\n",
              "      <td>2</td>\n",
              "    </tr>\n",
              "    <tr>\n",
              "      <th>2</th>\n",
              "      <td>30</td>\n",
              "      <td>1</td>\n",
              "      <td>171</td>\n",
              "      <td>81</td>\n",
              "      <td>1</td>\n",
              "      <td>8</td>\n",
              "      <td>4</td>\n",
              "      <td>1</td>\n",
              "      <td>0.0</td>\n",
              "      <td>0.0</td>\n",
              "      <td>8.770731</td>\n",
              "      <td>3.0</td>\n",
              "      <td>12</td>\n",
              "      <td>2.0</td>\n",
              "      <td>1.0</td>\n",
              "      <td>1</td>\n",
              "    </tr>\n",
              "    <tr>\n",
              "      <th>3</th>\n",
              "      <td>32</td>\n",
              "      <td>3</td>\n",
              "      <td>172</td>\n",
              "      <td>72</td>\n",
              "      <td>3</td>\n",
              "      <td>8</td>\n",
              "      <td>3</td>\n",
              "      <td>3</td>\n",
              "      <td>2.0</td>\n",
              "      <td>0.0</td>\n",
              "      <td>1.047568</td>\n",
              "      <td>1.0</td>\n",
              "      <td>11</td>\n",
              "      <td>2.0</td>\n",
              "      <td>1.0</td>\n",
              "      <td>2</td>\n",
              "    </tr>\n",
              "    <tr>\n",
              "      <th>4</th>\n",
              "      <td>29</td>\n",
              "      <td>1</td>\n",
              "      <td>177</td>\n",
              "      <td>87</td>\n",
              "      <td>4</td>\n",
              "      <td>12</td>\n",
              "      <td>5</td>\n",
              "      <td>2</td>\n",
              "      <td>1.0</td>\n",
              "      <td>1.0</td>\n",
              "      <td>4.524769</td>\n",
              "      <td>3.0</td>\n",
              "      <td>17</td>\n",
              "      <td>1.0</td>\n",
              "      <td>1.0</td>\n",
              "      <td>1</td>\n",
              "    </tr>\n",
              "  </tbody>\n",
              "</table>\n",
              "</div>\n",
              "    <div class=\"colab-df-buttons\">\n",
              "\n",
              "  <div class=\"colab-df-container\">\n",
              "    <button class=\"colab-df-convert\" onclick=\"convertToInteractive('df-412a1764-626d-44e6-b76a-224f42c4b871')\"\n",
              "            title=\"Convert this dataframe to an interactive table.\"\n",
              "            style=\"display:none;\">\n",
              "\n",
              "  <svg xmlns=\"http://www.w3.org/2000/svg\" height=\"24px\" viewBox=\"0 -960 960 960\">\n",
              "    <path d=\"M120-120v-720h720v720H120Zm60-500h600v-160H180v160Zm220 220h160v-160H400v160Zm0 220h160v-160H400v160ZM180-400h160v-160H180v160Zm440 0h160v-160H620v160ZM180-180h160v-160H180v160Zm440 0h160v-160H620v160Z\"/>\n",
              "  </svg>\n",
              "    </button>\n",
              "\n",
              "  <style>\n",
              "    .colab-df-container {\n",
              "      display:flex;\n",
              "      gap: 12px;\n",
              "    }\n",
              "\n",
              "    .colab-df-convert {\n",
              "      background-color: #E8F0FE;\n",
              "      border: none;\n",
              "      border-radius: 50%;\n",
              "      cursor: pointer;\n",
              "      display: none;\n",
              "      fill: #1967D2;\n",
              "      height: 32px;\n",
              "      padding: 0 0 0 0;\n",
              "      width: 32px;\n",
              "    }\n",
              "\n",
              "    .colab-df-convert:hover {\n",
              "      background-color: #E2EBFA;\n",
              "      box-shadow: 0px 1px 2px rgba(60, 64, 67, 0.3), 0px 1px 3px 1px rgba(60, 64, 67, 0.15);\n",
              "      fill: #174EA6;\n",
              "    }\n",
              "\n",
              "    .colab-df-buttons div {\n",
              "      margin-bottom: 4px;\n",
              "    }\n",
              "\n",
              "    [theme=dark] .colab-df-convert {\n",
              "      background-color: #3B4455;\n",
              "      fill: #D2E3FC;\n",
              "    }\n",
              "\n",
              "    [theme=dark] .colab-df-convert:hover {\n",
              "      background-color: #434B5C;\n",
              "      box-shadow: 0px 1px 3px 1px rgba(0, 0, 0, 0.15);\n",
              "      filter: drop-shadow(0px 1px 2px rgba(0, 0, 0, 0.3));\n",
              "      fill: #FFFFFF;\n",
              "    }\n",
              "  </style>\n",
              "\n",
              "    <script>\n",
              "      const buttonEl =\n",
              "        document.querySelector('#df-412a1764-626d-44e6-b76a-224f42c4b871 button.colab-df-convert');\n",
              "      buttonEl.style.display =\n",
              "        google.colab.kernel.accessAllowed ? 'block' : 'none';\n",
              "\n",
              "      async function convertToInteractive(key) {\n",
              "        const element = document.querySelector('#df-412a1764-626d-44e6-b76a-224f42c4b871');\n",
              "        const dataTable =\n",
              "          await google.colab.kernel.invokeFunction('convertToInteractive',\n",
              "                                                    [key], {});\n",
              "        if (!dataTable) return;\n",
              "\n",
              "        const docLinkHtml = 'Like what you see? Visit the ' +\n",
              "          '<a target=\"_blank\" href=https://colab.research.google.com/notebooks/data_table.ipynb>data table notebook</a>'\n",
              "          + ' to learn more about interactive tables.';\n",
              "        element.innerHTML = '';\n",
              "        dataTable['output_type'] = 'display_data';\n",
              "        await google.colab.output.renderOutput(dataTable, element);\n",
              "        const docLink = document.createElement('div');\n",
              "        docLink.innerHTML = docLinkHtml;\n",
              "        element.appendChild(docLink);\n",
              "      }\n",
              "    </script>\n",
              "  </div>\n",
              "\n",
              "\n",
              "<div id=\"df-0a1bef2b-6929-453b-9886-3a30598dd86d\">\n",
              "  <button class=\"colab-df-quickchart\" onclick=\"quickchart('df-0a1bef2b-6929-453b-9886-3a30598dd86d')\"\n",
              "            title=\"Suggest charts\"\n",
              "            style=\"display:none;\">\n",
              "\n",
              "<svg xmlns=\"http://www.w3.org/2000/svg\" height=\"24px\"viewBox=\"0 0 24 24\"\n",
              "     width=\"24px\">\n",
              "    <g>\n",
              "        <path d=\"M19 3H5c-1.1 0-2 .9-2 2v14c0 1.1.9 2 2 2h14c1.1 0 2-.9 2-2V5c0-1.1-.9-2-2-2zM9 17H7v-7h2v7zm4 0h-2V7h2v10zm4 0h-2v-4h2v4z\"/>\n",
              "    </g>\n",
              "</svg>\n",
              "  </button>\n",
              "\n",
              "<style>\n",
              "  .colab-df-quickchart {\n",
              "      --bg-color: #E8F0FE;\n",
              "      --fill-color: #1967D2;\n",
              "      --hover-bg-color: #E2EBFA;\n",
              "      --hover-fill-color: #174EA6;\n",
              "      --disabled-fill-color: #AAA;\n",
              "      --disabled-bg-color: #DDD;\n",
              "  }\n",
              "\n",
              "  [theme=dark] .colab-df-quickchart {\n",
              "      --bg-color: #3B4455;\n",
              "      --fill-color: #D2E3FC;\n",
              "      --hover-bg-color: #434B5C;\n",
              "      --hover-fill-color: #FFFFFF;\n",
              "      --disabled-bg-color: #3B4455;\n",
              "      --disabled-fill-color: #666;\n",
              "  }\n",
              "\n",
              "  .colab-df-quickchart {\n",
              "    background-color: var(--bg-color);\n",
              "    border: none;\n",
              "    border-radius: 50%;\n",
              "    cursor: pointer;\n",
              "    display: none;\n",
              "    fill: var(--fill-color);\n",
              "    height: 32px;\n",
              "    padding: 0;\n",
              "    width: 32px;\n",
              "  }\n",
              "\n",
              "  .colab-df-quickchart:hover {\n",
              "    background-color: var(--hover-bg-color);\n",
              "    box-shadow: 0 1px 2px rgba(60, 64, 67, 0.3), 0 1px 3px 1px rgba(60, 64, 67, 0.15);\n",
              "    fill: var(--button-hover-fill-color);\n",
              "  }\n",
              "\n",
              "  .colab-df-quickchart-complete:disabled,\n",
              "  .colab-df-quickchart-complete:disabled:hover {\n",
              "    background-color: var(--disabled-bg-color);\n",
              "    fill: var(--disabled-fill-color);\n",
              "    box-shadow: none;\n",
              "  }\n",
              "\n",
              "  .colab-df-spinner {\n",
              "    border: 2px solid var(--fill-color);\n",
              "    border-color: transparent;\n",
              "    border-bottom-color: var(--fill-color);\n",
              "    animation:\n",
              "      spin 1s steps(1) infinite;\n",
              "  }\n",
              "\n",
              "  @keyframes spin {\n",
              "    0% {\n",
              "      border-color: transparent;\n",
              "      border-bottom-color: var(--fill-color);\n",
              "      border-left-color: var(--fill-color);\n",
              "    }\n",
              "    20% {\n",
              "      border-color: transparent;\n",
              "      border-left-color: var(--fill-color);\n",
              "      border-top-color: var(--fill-color);\n",
              "    }\n",
              "    30% {\n",
              "      border-color: transparent;\n",
              "      border-left-color: var(--fill-color);\n",
              "      border-top-color: var(--fill-color);\n",
              "      border-right-color: var(--fill-color);\n",
              "    }\n",
              "    40% {\n",
              "      border-color: transparent;\n",
              "      border-right-color: var(--fill-color);\n",
              "      border-top-color: var(--fill-color);\n",
              "    }\n",
              "    60% {\n",
              "      border-color: transparent;\n",
              "      border-right-color: var(--fill-color);\n",
              "    }\n",
              "    80% {\n",
              "      border-color: transparent;\n",
              "      border-right-color: var(--fill-color);\n",
              "      border-bottom-color: var(--fill-color);\n",
              "    }\n",
              "    90% {\n",
              "      border-color: transparent;\n",
              "      border-bottom-color: var(--fill-color);\n",
              "    }\n",
              "  }\n",
              "</style>\n",
              "\n",
              "  <script>\n",
              "    async function quickchart(key) {\n",
              "      const quickchartButtonEl =\n",
              "        document.querySelector('#' + key + ' button');\n",
              "      quickchartButtonEl.disabled = true;  // To prevent multiple clicks.\n",
              "      quickchartButtonEl.classList.add('colab-df-spinner');\n",
              "      try {\n",
              "        const charts = await google.colab.kernel.invokeFunction(\n",
              "            'suggestCharts', [key], {});\n",
              "      } catch (error) {\n",
              "        console.error('Error during call to suggestCharts:', error);\n",
              "      }\n",
              "      quickchartButtonEl.classList.remove('colab-df-spinner');\n",
              "      quickchartButtonEl.classList.add('colab-df-quickchart-complete');\n",
              "    }\n",
              "    (() => {\n",
              "      let quickchartButtonEl =\n",
              "        document.querySelector('#df-0a1bef2b-6929-453b-9886-3a30598dd86d button');\n",
              "      quickchartButtonEl.style.display =\n",
              "        google.colab.kernel.accessAllowed ? 'block' : 'none';\n",
              "    })();\n",
              "  </script>\n",
              "</div>\n",
              "    </div>\n",
              "  </div>\n"
            ]
          },
          "metadata": {},
          "execution_count": 17
        }
      ]
    },
    {
      "cell_type": "code",
      "source": [
        "# Split data menjadi train dan test\n",
        "\n",
        "xTrain, xTest, yTrain, yTest = train_test_split(x,y, test_size=0.3, random_state=21)"
      ],
      "metadata": {
        "id": "gUw1IeOlsBS7"
      },
      "execution_count": 18,
      "outputs": []
    },
    {
      "cell_type": "markdown",
      "source": [
        "Akan dilakukan pemisahan antara fitur numerik dan fitur kategorik untuk scaling pada fitur numerik."
      ],
      "metadata": {
        "id": "XNMBe5rYsH30"
      }
    },
    {
      "cell_type": "code",
      "source": [
        "xTrain.head()"
      ],
      "metadata": {
        "colab": {
          "base_uri": "https://localhost:8080/",
          "height": 261
        },
        "id": "QGp7vfD7snsb",
        "outputId": "948e3027-47d5-4891-b88d-4b3b468cdda5"
      },
      "execution_count": 19,
      "outputs": [
        {
          "output_type": "execute_result",
          "data": {
            "text/plain": [
              "      Age  Origin  Height  Weight  Category  Wins  Losses  Weapon of Choice  \\\n",
              "456    41       5     164      68         5    11       2                 2   \n",
              "1345   33       4     146      96         5     5       1                 2   \n",
              "839    23       2     163      51         3     4       0                 6   \n",
              "746    26       3     174      75         3     5       0                 6   \n",
              "1227   24       3     178      95         6    11       3                 5   \n",
              "\n",
              "      Equipment Quality  Injury History  Mental Resilience  \\\n",
              "456                 0.0             0.0           2.752270   \n",
              "1345                0.0             0.0           2.640284   \n",
              "839                 0.0             0.0          10.751115   \n",
              "746                 2.0             0.0           3.014763   \n",
              "1227                0.0             0.0           4.846066   \n",
              "\n",
              "      Tactical Knowledge  Battle Experience  Health Status  \\\n",
              "456                  0.0                 13            1.0   \n",
              "1345                 2.0                  6            2.0   \n",
              "839                  2.0                  4            2.0   \n",
              "746                  1.0                  5            2.0   \n",
              "1227                 0.0                 14            2.0   \n",
              "\n",
              "      Training Intensity  Battle Strategy  \n",
              "456                  1.0                1  \n",
              "1345                 1.0                1  \n",
              "839                  2.0                3  \n",
              "746                  1.0                2  \n",
              "1227                 1.0                2  "
            ],
            "text/html": [
              "\n",
              "  <div id=\"df-f5054bfc-5178-47e7-ac42-3422fa9dc3f4\" class=\"colab-df-container\">\n",
              "    <div>\n",
              "<style scoped>\n",
              "    .dataframe tbody tr th:only-of-type {\n",
              "        vertical-align: middle;\n",
              "    }\n",
              "\n",
              "    .dataframe tbody tr th {\n",
              "        vertical-align: top;\n",
              "    }\n",
              "\n",
              "    .dataframe thead th {\n",
              "        text-align: right;\n",
              "    }\n",
              "</style>\n",
              "<table border=\"1\" class=\"dataframe\">\n",
              "  <thead>\n",
              "    <tr style=\"text-align: right;\">\n",
              "      <th></th>\n",
              "      <th>Age</th>\n",
              "      <th>Origin</th>\n",
              "      <th>Height</th>\n",
              "      <th>Weight</th>\n",
              "      <th>Category</th>\n",
              "      <th>Wins</th>\n",
              "      <th>Losses</th>\n",
              "      <th>Weapon of Choice</th>\n",
              "      <th>Equipment Quality</th>\n",
              "      <th>Injury History</th>\n",
              "      <th>Mental Resilience</th>\n",
              "      <th>Tactical Knowledge</th>\n",
              "      <th>Battle Experience</th>\n",
              "      <th>Health Status</th>\n",
              "      <th>Training Intensity</th>\n",
              "      <th>Battle Strategy</th>\n",
              "    </tr>\n",
              "  </thead>\n",
              "  <tbody>\n",
              "    <tr>\n",
              "      <th>456</th>\n",
              "      <td>41</td>\n",
              "      <td>5</td>\n",
              "      <td>164</td>\n",
              "      <td>68</td>\n",
              "      <td>5</td>\n",
              "      <td>11</td>\n",
              "      <td>2</td>\n",
              "      <td>2</td>\n",
              "      <td>0.0</td>\n",
              "      <td>0.0</td>\n",
              "      <td>2.752270</td>\n",
              "      <td>0.0</td>\n",
              "      <td>13</td>\n",
              "      <td>1.0</td>\n",
              "      <td>1.0</td>\n",
              "      <td>1</td>\n",
              "    </tr>\n",
              "    <tr>\n",
              "      <th>1345</th>\n",
              "      <td>33</td>\n",
              "      <td>4</td>\n",
              "      <td>146</td>\n",
              "      <td>96</td>\n",
              "      <td>5</td>\n",
              "      <td>5</td>\n",
              "      <td>1</td>\n",
              "      <td>2</td>\n",
              "      <td>0.0</td>\n",
              "      <td>0.0</td>\n",
              "      <td>2.640284</td>\n",
              "      <td>2.0</td>\n",
              "      <td>6</td>\n",
              "      <td>2.0</td>\n",
              "      <td>1.0</td>\n",
              "      <td>1</td>\n",
              "    </tr>\n",
              "    <tr>\n",
              "      <th>839</th>\n",
              "      <td>23</td>\n",
              "      <td>2</td>\n",
              "      <td>163</td>\n",
              "      <td>51</td>\n",
              "      <td>3</td>\n",
              "      <td>4</td>\n",
              "      <td>0</td>\n",
              "      <td>6</td>\n",
              "      <td>0.0</td>\n",
              "      <td>0.0</td>\n",
              "      <td>10.751115</td>\n",
              "      <td>2.0</td>\n",
              "      <td>4</td>\n",
              "      <td>2.0</td>\n",
              "      <td>2.0</td>\n",
              "      <td>3</td>\n",
              "    </tr>\n",
              "    <tr>\n",
              "      <th>746</th>\n",
              "      <td>26</td>\n",
              "      <td>3</td>\n",
              "      <td>174</td>\n",
              "      <td>75</td>\n",
              "      <td>3</td>\n",
              "      <td>5</td>\n",
              "      <td>0</td>\n",
              "      <td>6</td>\n",
              "      <td>2.0</td>\n",
              "      <td>0.0</td>\n",
              "      <td>3.014763</td>\n",
              "      <td>1.0</td>\n",
              "      <td>5</td>\n",
              "      <td>2.0</td>\n",
              "      <td>1.0</td>\n",
              "      <td>2</td>\n",
              "    </tr>\n",
              "    <tr>\n",
              "      <th>1227</th>\n",
              "      <td>24</td>\n",
              "      <td>3</td>\n",
              "      <td>178</td>\n",
              "      <td>95</td>\n",
              "      <td>6</td>\n",
              "      <td>11</td>\n",
              "      <td>3</td>\n",
              "      <td>5</td>\n",
              "      <td>0.0</td>\n",
              "      <td>0.0</td>\n",
              "      <td>4.846066</td>\n",
              "      <td>0.0</td>\n",
              "      <td>14</td>\n",
              "      <td>2.0</td>\n",
              "      <td>1.0</td>\n",
              "      <td>2</td>\n",
              "    </tr>\n",
              "  </tbody>\n",
              "</table>\n",
              "</div>\n",
              "    <div class=\"colab-df-buttons\">\n",
              "\n",
              "  <div class=\"colab-df-container\">\n",
              "    <button class=\"colab-df-convert\" onclick=\"convertToInteractive('df-f5054bfc-5178-47e7-ac42-3422fa9dc3f4')\"\n",
              "            title=\"Convert this dataframe to an interactive table.\"\n",
              "            style=\"display:none;\">\n",
              "\n",
              "  <svg xmlns=\"http://www.w3.org/2000/svg\" height=\"24px\" viewBox=\"0 -960 960 960\">\n",
              "    <path d=\"M120-120v-720h720v720H120Zm60-500h600v-160H180v160Zm220 220h160v-160H400v160Zm0 220h160v-160H400v160ZM180-400h160v-160H180v160Zm440 0h160v-160H620v160ZM180-180h160v-160H180v160Zm440 0h160v-160H620v160Z\"/>\n",
              "  </svg>\n",
              "    </button>\n",
              "\n",
              "  <style>\n",
              "    .colab-df-container {\n",
              "      display:flex;\n",
              "      gap: 12px;\n",
              "    }\n",
              "\n",
              "    .colab-df-convert {\n",
              "      background-color: #E8F0FE;\n",
              "      border: none;\n",
              "      border-radius: 50%;\n",
              "      cursor: pointer;\n",
              "      display: none;\n",
              "      fill: #1967D2;\n",
              "      height: 32px;\n",
              "      padding: 0 0 0 0;\n",
              "      width: 32px;\n",
              "    }\n",
              "\n",
              "    .colab-df-convert:hover {\n",
              "      background-color: #E2EBFA;\n",
              "      box-shadow: 0px 1px 2px rgba(60, 64, 67, 0.3), 0px 1px 3px 1px rgba(60, 64, 67, 0.15);\n",
              "      fill: #174EA6;\n",
              "    }\n",
              "\n",
              "    .colab-df-buttons div {\n",
              "      margin-bottom: 4px;\n",
              "    }\n",
              "\n",
              "    [theme=dark] .colab-df-convert {\n",
              "      background-color: #3B4455;\n",
              "      fill: #D2E3FC;\n",
              "    }\n",
              "\n",
              "    [theme=dark] .colab-df-convert:hover {\n",
              "      background-color: #434B5C;\n",
              "      box-shadow: 0px 1px 3px 1px rgba(0, 0, 0, 0.15);\n",
              "      filter: drop-shadow(0px 1px 2px rgba(0, 0, 0, 0.3));\n",
              "      fill: #FFFFFF;\n",
              "    }\n",
              "  </style>\n",
              "\n",
              "    <script>\n",
              "      const buttonEl =\n",
              "        document.querySelector('#df-f5054bfc-5178-47e7-ac42-3422fa9dc3f4 button.colab-df-convert');\n",
              "      buttonEl.style.display =\n",
              "        google.colab.kernel.accessAllowed ? 'block' : 'none';\n",
              "\n",
              "      async function convertToInteractive(key) {\n",
              "        const element = document.querySelector('#df-f5054bfc-5178-47e7-ac42-3422fa9dc3f4');\n",
              "        const dataTable =\n",
              "          await google.colab.kernel.invokeFunction('convertToInteractive',\n",
              "                                                    [key], {});\n",
              "        if (!dataTable) return;\n",
              "\n",
              "        const docLinkHtml = 'Like what you see? Visit the ' +\n",
              "          '<a target=\"_blank\" href=https://colab.research.google.com/notebooks/data_table.ipynb>data table notebook</a>'\n",
              "          + ' to learn more about interactive tables.';\n",
              "        element.innerHTML = '';\n",
              "        dataTable['output_type'] = 'display_data';\n",
              "        await google.colab.output.renderOutput(dataTable, element);\n",
              "        const docLink = document.createElement('div');\n",
              "        docLink.innerHTML = docLinkHtml;\n",
              "        element.appendChild(docLink);\n",
              "      }\n",
              "    </script>\n",
              "  </div>\n",
              "\n",
              "\n",
              "<div id=\"df-33dad23a-1ae9-40db-8f38-52db54ac54cb\">\n",
              "  <button class=\"colab-df-quickchart\" onclick=\"quickchart('df-33dad23a-1ae9-40db-8f38-52db54ac54cb')\"\n",
              "            title=\"Suggest charts\"\n",
              "            style=\"display:none;\">\n",
              "\n",
              "<svg xmlns=\"http://www.w3.org/2000/svg\" height=\"24px\"viewBox=\"0 0 24 24\"\n",
              "     width=\"24px\">\n",
              "    <g>\n",
              "        <path d=\"M19 3H5c-1.1 0-2 .9-2 2v14c0 1.1.9 2 2 2h14c1.1 0 2-.9 2-2V5c0-1.1-.9-2-2-2zM9 17H7v-7h2v7zm4 0h-2V7h2v10zm4 0h-2v-4h2v4z\"/>\n",
              "    </g>\n",
              "</svg>\n",
              "  </button>\n",
              "\n",
              "<style>\n",
              "  .colab-df-quickchart {\n",
              "      --bg-color: #E8F0FE;\n",
              "      --fill-color: #1967D2;\n",
              "      --hover-bg-color: #E2EBFA;\n",
              "      --hover-fill-color: #174EA6;\n",
              "      --disabled-fill-color: #AAA;\n",
              "      --disabled-bg-color: #DDD;\n",
              "  }\n",
              "\n",
              "  [theme=dark] .colab-df-quickchart {\n",
              "      --bg-color: #3B4455;\n",
              "      --fill-color: #D2E3FC;\n",
              "      --hover-bg-color: #434B5C;\n",
              "      --hover-fill-color: #FFFFFF;\n",
              "      --disabled-bg-color: #3B4455;\n",
              "      --disabled-fill-color: #666;\n",
              "  }\n",
              "\n",
              "  .colab-df-quickchart {\n",
              "    background-color: var(--bg-color);\n",
              "    border: none;\n",
              "    border-radius: 50%;\n",
              "    cursor: pointer;\n",
              "    display: none;\n",
              "    fill: var(--fill-color);\n",
              "    height: 32px;\n",
              "    padding: 0;\n",
              "    width: 32px;\n",
              "  }\n",
              "\n",
              "  .colab-df-quickchart:hover {\n",
              "    background-color: var(--hover-bg-color);\n",
              "    box-shadow: 0 1px 2px rgba(60, 64, 67, 0.3), 0 1px 3px 1px rgba(60, 64, 67, 0.15);\n",
              "    fill: var(--button-hover-fill-color);\n",
              "  }\n",
              "\n",
              "  .colab-df-quickchart-complete:disabled,\n",
              "  .colab-df-quickchart-complete:disabled:hover {\n",
              "    background-color: var(--disabled-bg-color);\n",
              "    fill: var(--disabled-fill-color);\n",
              "    box-shadow: none;\n",
              "  }\n",
              "\n",
              "  .colab-df-spinner {\n",
              "    border: 2px solid var(--fill-color);\n",
              "    border-color: transparent;\n",
              "    border-bottom-color: var(--fill-color);\n",
              "    animation:\n",
              "      spin 1s steps(1) infinite;\n",
              "  }\n",
              "\n",
              "  @keyframes spin {\n",
              "    0% {\n",
              "      border-color: transparent;\n",
              "      border-bottom-color: var(--fill-color);\n",
              "      border-left-color: var(--fill-color);\n",
              "    }\n",
              "    20% {\n",
              "      border-color: transparent;\n",
              "      border-left-color: var(--fill-color);\n",
              "      border-top-color: var(--fill-color);\n",
              "    }\n",
              "    30% {\n",
              "      border-color: transparent;\n",
              "      border-left-color: var(--fill-color);\n",
              "      border-top-color: var(--fill-color);\n",
              "      border-right-color: var(--fill-color);\n",
              "    }\n",
              "    40% {\n",
              "      border-color: transparent;\n",
              "      border-right-color: var(--fill-color);\n",
              "      border-top-color: var(--fill-color);\n",
              "    }\n",
              "    60% {\n",
              "      border-color: transparent;\n",
              "      border-right-color: var(--fill-color);\n",
              "    }\n",
              "    80% {\n",
              "      border-color: transparent;\n",
              "      border-right-color: var(--fill-color);\n",
              "      border-bottom-color: var(--fill-color);\n",
              "    }\n",
              "    90% {\n",
              "      border-color: transparent;\n",
              "      border-bottom-color: var(--fill-color);\n",
              "    }\n",
              "  }\n",
              "</style>\n",
              "\n",
              "  <script>\n",
              "    async function quickchart(key) {\n",
              "      const quickchartButtonEl =\n",
              "        document.querySelector('#' + key + ' button');\n",
              "      quickchartButtonEl.disabled = true;  // To prevent multiple clicks.\n",
              "      quickchartButtonEl.classList.add('colab-df-spinner');\n",
              "      try {\n",
              "        const charts = await google.colab.kernel.invokeFunction(\n",
              "            'suggestCharts', [key], {});\n",
              "      } catch (error) {\n",
              "        console.error('Error during call to suggestCharts:', error);\n",
              "      }\n",
              "      quickchartButtonEl.classList.remove('colab-df-spinner');\n",
              "      quickchartButtonEl.classList.add('colab-df-quickchart-complete');\n",
              "    }\n",
              "    (() => {\n",
              "      let quickchartButtonEl =\n",
              "        document.querySelector('#df-33dad23a-1ae9-40db-8f38-52db54ac54cb button');\n",
              "      quickchartButtonEl.style.display =\n",
              "        google.colab.kernel.accessAllowed ? 'block' : 'none';\n",
              "    })();\n",
              "  </script>\n",
              "</div>\n",
              "    </div>\n",
              "  </div>\n"
            ]
          },
          "metadata": {},
          "execution_count": 19
        }
      ]
    },
    {
      "cell_type": "code",
      "source": [
        "xTest.head()"
      ],
      "metadata": {
        "colab": {
          "base_uri": "https://localhost:8080/",
          "height": 261
        },
        "id": "2Ox-uKUYsotD",
        "outputId": "035d4a5a-f2f7-4a8a-f3d6-bec6ca50fb2f"
      },
      "execution_count": 20,
      "outputs": [
        {
          "output_type": "execute_result",
          "data": {
            "text/plain": [
              "      Age  Origin  Height  Weight  Category  Wins  Losses  Weapon of Choice  \\\n",
              "465    41       2     193      70         2     9       1                 4   \n",
              "904    30       2     190      94         2     5       0                 2   \n",
              "2639   33       2     178      82         4     3       0                 4   \n",
              "2125   22       2     169      49         1     5       0                 1   \n",
              "1962   37       2     169      93         1     9       0                 2   \n",
              "\n",
              "      Equipment Quality  Injury History  Mental Resilience  \\\n",
              "465                 2.0             0.0           4.078828   \n",
              "904                 2.0             0.0           9.519584   \n",
              "2639                2.0             0.0           7.563419   \n",
              "2125                0.0             0.0           9.062920   \n",
              "1962                2.0             0.0           2.264693   \n",
              "\n",
              "      Tactical Knowledge  Battle Experience  Health Status  \\\n",
              "465                  0.0                 10            2.0   \n",
              "904                  0.0                  5            2.0   \n",
              "2639                 1.0                  3            2.0   \n",
              "2125                 2.0                  5            2.0   \n",
              "1962                 0.0                  9            2.0   \n",
              "\n",
              "      Training Intensity  Battle Strategy  \n",
              "465                  1.0                1  \n",
              "904                  1.0                2  \n",
              "2639                 1.0                2  \n",
              "2125                 2.0                1  \n",
              "1962                 1.0                1  "
            ],
            "text/html": [
              "\n",
              "  <div id=\"df-2c69cf0f-5a6b-419f-b117-77824dbf2d26\" class=\"colab-df-container\">\n",
              "    <div>\n",
              "<style scoped>\n",
              "    .dataframe tbody tr th:only-of-type {\n",
              "        vertical-align: middle;\n",
              "    }\n",
              "\n",
              "    .dataframe tbody tr th {\n",
              "        vertical-align: top;\n",
              "    }\n",
              "\n",
              "    .dataframe thead th {\n",
              "        text-align: right;\n",
              "    }\n",
              "</style>\n",
              "<table border=\"1\" class=\"dataframe\">\n",
              "  <thead>\n",
              "    <tr style=\"text-align: right;\">\n",
              "      <th></th>\n",
              "      <th>Age</th>\n",
              "      <th>Origin</th>\n",
              "      <th>Height</th>\n",
              "      <th>Weight</th>\n",
              "      <th>Category</th>\n",
              "      <th>Wins</th>\n",
              "      <th>Losses</th>\n",
              "      <th>Weapon of Choice</th>\n",
              "      <th>Equipment Quality</th>\n",
              "      <th>Injury History</th>\n",
              "      <th>Mental Resilience</th>\n",
              "      <th>Tactical Knowledge</th>\n",
              "      <th>Battle Experience</th>\n",
              "      <th>Health Status</th>\n",
              "      <th>Training Intensity</th>\n",
              "      <th>Battle Strategy</th>\n",
              "    </tr>\n",
              "  </thead>\n",
              "  <tbody>\n",
              "    <tr>\n",
              "      <th>465</th>\n",
              "      <td>41</td>\n",
              "      <td>2</td>\n",
              "      <td>193</td>\n",
              "      <td>70</td>\n",
              "      <td>2</td>\n",
              "      <td>9</td>\n",
              "      <td>1</td>\n",
              "      <td>4</td>\n",
              "      <td>2.0</td>\n",
              "      <td>0.0</td>\n",
              "      <td>4.078828</td>\n",
              "      <td>0.0</td>\n",
              "      <td>10</td>\n",
              "      <td>2.0</td>\n",
              "      <td>1.0</td>\n",
              "      <td>1</td>\n",
              "    </tr>\n",
              "    <tr>\n",
              "      <th>904</th>\n",
              "      <td>30</td>\n",
              "      <td>2</td>\n",
              "      <td>190</td>\n",
              "      <td>94</td>\n",
              "      <td>2</td>\n",
              "      <td>5</td>\n",
              "      <td>0</td>\n",
              "      <td>2</td>\n",
              "      <td>2.0</td>\n",
              "      <td>0.0</td>\n",
              "      <td>9.519584</td>\n",
              "      <td>0.0</td>\n",
              "      <td>5</td>\n",
              "      <td>2.0</td>\n",
              "      <td>1.0</td>\n",
              "      <td>2</td>\n",
              "    </tr>\n",
              "    <tr>\n",
              "      <th>2639</th>\n",
              "      <td>33</td>\n",
              "      <td>2</td>\n",
              "      <td>178</td>\n",
              "      <td>82</td>\n",
              "      <td>4</td>\n",
              "      <td>3</td>\n",
              "      <td>0</td>\n",
              "      <td>4</td>\n",
              "      <td>2.0</td>\n",
              "      <td>0.0</td>\n",
              "      <td>7.563419</td>\n",
              "      <td>1.0</td>\n",
              "      <td>3</td>\n",
              "      <td>2.0</td>\n",
              "      <td>1.0</td>\n",
              "      <td>2</td>\n",
              "    </tr>\n",
              "    <tr>\n",
              "      <th>2125</th>\n",
              "      <td>22</td>\n",
              "      <td>2</td>\n",
              "      <td>169</td>\n",
              "      <td>49</td>\n",
              "      <td>1</td>\n",
              "      <td>5</td>\n",
              "      <td>0</td>\n",
              "      <td>1</td>\n",
              "      <td>0.0</td>\n",
              "      <td>0.0</td>\n",
              "      <td>9.062920</td>\n",
              "      <td>2.0</td>\n",
              "      <td>5</td>\n",
              "      <td>2.0</td>\n",
              "      <td>2.0</td>\n",
              "      <td>1</td>\n",
              "    </tr>\n",
              "    <tr>\n",
              "      <th>1962</th>\n",
              "      <td>37</td>\n",
              "      <td>2</td>\n",
              "      <td>169</td>\n",
              "      <td>93</td>\n",
              "      <td>1</td>\n",
              "      <td>9</td>\n",
              "      <td>0</td>\n",
              "      <td>2</td>\n",
              "      <td>2.0</td>\n",
              "      <td>0.0</td>\n",
              "      <td>2.264693</td>\n",
              "      <td>0.0</td>\n",
              "      <td>9</td>\n",
              "      <td>2.0</td>\n",
              "      <td>1.0</td>\n",
              "      <td>1</td>\n",
              "    </tr>\n",
              "  </tbody>\n",
              "</table>\n",
              "</div>\n",
              "    <div class=\"colab-df-buttons\">\n",
              "\n",
              "  <div class=\"colab-df-container\">\n",
              "    <button class=\"colab-df-convert\" onclick=\"convertToInteractive('df-2c69cf0f-5a6b-419f-b117-77824dbf2d26')\"\n",
              "            title=\"Convert this dataframe to an interactive table.\"\n",
              "            style=\"display:none;\">\n",
              "\n",
              "  <svg xmlns=\"http://www.w3.org/2000/svg\" height=\"24px\" viewBox=\"0 -960 960 960\">\n",
              "    <path d=\"M120-120v-720h720v720H120Zm60-500h600v-160H180v160Zm220 220h160v-160H400v160Zm0 220h160v-160H400v160ZM180-400h160v-160H180v160Zm440 0h160v-160H620v160ZM180-180h160v-160H180v160Zm440 0h160v-160H620v160Z\"/>\n",
              "  </svg>\n",
              "    </button>\n",
              "\n",
              "  <style>\n",
              "    .colab-df-container {\n",
              "      display:flex;\n",
              "      gap: 12px;\n",
              "    }\n",
              "\n",
              "    .colab-df-convert {\n",
              "      background-color: #E8F0FE;\n",
              "      border: none;\n",
              "      border-radius: 50%;\n",
              "      cursor: pointer;\n",
              "      display: none;\n",
              "      fill: #1967D2;\n",
              "      height: 32px;\n",
              "      padding: 0 0 0 0;\n",
              "      width: 32px;\n",
              "    }\n",
              "\n",
              "    .colab-df-convert:hover {\n",
              "      background-color: #E2EBFA;\n",
              "      box-shadow: 0px 1px 2px rgba(60, 64, 67, 0.3), 0px 1px 3px 1px rgba(60, 64, 67, 0.15);\n",
              "      fill: #174EA6;\n",
              "    }\n",
              "\n",
              "    .colab-df-buttons div {\n",
              "      margin-bottom: 4px;\n",
              "    }\n",
              "\n",
              "    [theme=dark] .colab-df-convert {\n",
              "      background-color: #3B4455;\n",
              "      fill: #D2E3FC;\n",
              "    }\n",
              "\n",
              "    [theme=dark] .colab-df-convert:hover {\n",
              "      background-color: #434B5C;\n",
              "      box-shadow: 0px 1px 3px 1px rgba(0, 0, 0, 0.15);\n",
              "      filter: drop-shadow(0px 1px 2px rgba(0, 0, 0, 0.3));\n",
              "      fill: #FFFFFF;\n",
              "    }\n",
              "  </style>\n",
              "\n",
              "    <script>\n",
              "      const buttonEl =\n",
              "        document.querySelector('#df-2c69cf0f-5a6b-419f-b117-77824dbf2d26 button.colab-df-convert');\n",
              "      buttonEl.style.display =\n",
              "        google.colab.kernel.accessAllowed ? 'block' : 'none';\n",
              "\n",
              "      async function convertToInteractive(key) {\n",
              "        const element = document.querySelector('#df-2c69cf0f-5a6b-419f-b117-77824dbf2d26');\n",
              "        const dataTable =\n",
              "          await google.colab.kernel.invokeFunction('convertToInteractive',\n",
              "                                                    [key], {});\n",
              "        if (!dataTable) return;\n",
              "\n",
              "        const docLinkHtml = 'Like what you see? Visit the ' +\n",
              "          '<a target=\"_blank\" href=https://colab.research.google.com/notebooks/data_table.ipynb>data table notebook</a>'\n",
              "          + ' to learn more about interactive tables.';\n",
              "        element.innerHTML = '';\n",
              "        dataTable['output_type'] = 'display_data';\n",
              "        await google.colab.output.renderOutput(dataTable, element);\n",
              "        const docLink = document.createElement('div');\n",
              "        docLink.innerHTML = docLinkHtml;\n",
              "        element.appendChild(docLink);\n",
              "      }\n",
              "    </script>\n",
              "  </div>\n",
              "\n",
              "\n",
              "<div id=\"df-67ced000-c145-4c9d-95ca-df6b02fefb89\">\n",
              "  <button class=\"colab-df-quickchart\" onclick=\"quickchart('df-67ced000-c145-4c9d-95ca-df6b02fefb89')\"\n",
              "            title=\"Suggest charts\"\n",
              "            style=\"display:none;\">\n",
              "\n",
              "<svg xmlns=\"http://www.w3.org/2000/svg\" height=\"24px\"viewBox=\"0 0 24 24\"\n",
              "     width=\"24px\">\n",
              "    <g>\n",
              "        <path d=\"M19 3H5c-1.1 0-2 .9-2 2v14c0 1.1.9 2 2 2h14c1.1 0 2-.9 2-2V5c0-1.1-.9-2-2-2zM9 17H7v-7h2v7zm4 0h-2V7h2v10zm4 0h-2v-4h2v4z\"/>\n",
              "    </g>\n",
              "</svg>\n",
              "  </button>\n",
              "\n",
              "<style>\n",
              "  .colab-df-quickchart {\n",
              "      --bg-color: #E8F0FE;\n",
              "      --fill-color: #1967D2;\n",
              "      --hover-bg-color: #E2EBFA;\n",
              "      --hover-fill-color: #174EA6;\n",
              "      --disabled-fill-color: #AAA;\n",
              "      --disabled-bg-color: #DDD;\n",
              "  }\n",
              "\n",
              "  [theme=dark] .colab-df-quickchart {\n",
              "      --bg-color: #3B4455;\n",
              "      --fill-color: #D2E3FC;\n",
              "      --hover-bg-color: #434B5C;\n",
              "      --hover-fill-color: #FFFFFF;\n",
              "      --disabled-bg-color: #3B4455;\n",
              "      --disabled-fill-color: #666;\n",
              "  }\n",
              "\n",
              "  .colab-df-quickchart {\n",
              "    background-color: var(--bg-color);\n",
              "    border: none;\n",
              "    border-radius: 50%;\n",
              "    cursor: pointer;\n",
              "    display: none;\n",
              "    fill: var(--fill-color);\n",
              "    height: 32px;\n",
              "    padding: 0;\n",
              "    width: 32px;\n",
              "  }\n",
              "\n",
              "  .colab-df-quickchart:hover {\n",
              "    background-color: var(--hover-bg-color);\n",
              "    box-shadow: 0 1px 2px rgba(60, 64, 67, 0.3), 0 1px 3px 1px rgba(60, 64, 67, 0.15);\n",
              "    fill: var(--button-hover-fill-color);\n",
              "  }\n",
              "\n",
              "  .colab-df-quickchart-complete:disabled,\n",
              "  .colab-df-quickchart-complete:disabled:hover {\n",
              "    background-color: var(--disabled-bg-color);\n",
              "    fill: var(--disabled-fill-color);\n",
              "    box-shadow: none;\n",
              "  }\n",
              "\n",
              "  .colab-df-spinner {\n",
              "    border: 2px solid var(--fill-color);\n",
              "    border-color: transparent;\n",
              "    border-bottom-color: var(--fill-color);\n",
              "    animation:\n",
              "      spin 1s steps(1) infinite;\n",
              "  }\n",
              "\n",
              "  @keyframes spin {\n",
              "    0% {\n",
              "      border-color: transparent;\n",
              "      border-bottom-color: var(--fill-color);\n",
              "      border-left-color: var(--fill-color);\n",
              "    }\n",
              "    20% {\n",
              "      border-color: transparent;\n",
              "      border-left-color: var(--fill-color);\n",
              "      border-top-color: var(--fill-color);\n",
              "    }\n",
              "    30% {\n",
              "      border-color: transparent;\n",
              "      border-left-color: var(--fill-color);\n",
              "      border-top-color: var(--fill-color);\n",
              "      border-right-color: var(--fill-color);\n",
              "    }\n",
              "    40% {\n",
              "      border-color: transparent;\n",
              "      border-right-color: var(--fill-color);\n",
              "      border-top-color: var(--fill-color);\n",
              "    }\n",
              "    60% {\n",
              "      border-color: transparent;\n",
              "      border-right-color: var(--fill-color);\n",
              "    }\n",
              "    80% {\n",
              "      border-color: transparent;\n",
              "      border-right-color: var(--fill-color);\n",
              "      border-bottom-color: var(--fill-color);\n",
              "    }\n",
              "    90% {\n",
              "      border-color: transparent;\n",
              "      border-bottom-color: var(--fill-color);\n",
              "    }\n",
              "  }\n",
              "</style>\n",
              "\n",
              "  <script>\n",
              "    async function quickchart(key) {\n",
              "      const quickchartButtonEl =\n",
              "        document.querySelector('#' + key + ' button');\n",
              "      quickchartButtonEl.disabled = true;  // To prevent multiple clicks.\n",
              "      quickchartButtonEl.classList.add('colab-df-spinner');\n",
              "      try {\n",
              "        const charts = await google.colab.kernel.invokeFunction(\n",
              "            'suggestCharts', [key], {});\n",
              "      } catch (error) {\n",
              "        console.error('Error during call to suggestCharts:', error);\n",
              "      }\n",
              "      quickchartButtonEl.classList.remove('colab-df-spinner');\n",
              "      quickchartButtonEl.classList.add('colab-df-quickchart-complete');\n",
              "    }\n",
              "    (() => {\n",
              "      let quickchartButtonEl =\n",
              "        document.querySelector('#df-67ced000-c145-4c9d-95ca-df6b02fefb89 button');\n",
              "      quickchartButtonEl.style.display =\n",
              "        google.colab.kernel.accessAllowed ? 'block' : 'none';\n",
              "    })();\n",
              "  </script>\n",
              "</div>\n",
              "    </div>\n",
              "  </div>\n"
            ]
          },
          "metadata": {},
          "execution_count": 20
        }
      ]
    },
    {
      "cell_type": "code",
      "source": [
        "xTrain.info()"
      ],
      "metadata": {
        "colab": {
          "base_uri": "https://localhost:8080/"
        },
        "id": "vQ3ezFY4sQ1T",
        "outputId": "c042267e-4aaa-4c39-fed7-01a4ce3f3e0a"
      },
      "execution_count": null,
      "outputs": [
        {
          "output_type": "stream",
          "name": "stdout",
          "text": [
            "<class 'pandas.core.frame.DataFrame'>\n",
            "Int64Index: 2100 entries, 456 to 1231\n",
            "Data columns (total 16 columns):\n",
            " #   Column              Non-Null Count  Dtype  \n",
            "---  ------              --------------  -----  \n",
            " 0   Age                 2100 non-null   int64  \n",
            " 1   Origin              2100 non-null   int64  \n",
            " 2   Height              2100 non-null   int64  \n",
            " 3   Weight              2100 non-null   int64  \n",
            " 4   Category            2100 non-null   int64  \n",
            " 5   Wins                2100 non-null   int64  \n",
            " 6   Losses              2100 non-null   int64  \n",
            " 7   Weapon of Choice    2100 non-null   int64  \n",
            " 8   Equipment Quality   2100 non-null   float64\n",
            " 9   Injury History      2100 non-null   float64\n",
            " 10  Mental Resilience   2100 non-null   float64\n",
            " 11  Tactical Knowledge  2100 non-null   float64\n",
            " 12  Battle Experience   2100 non-null   int64  \n",
            " 13  Health Status       2100 non-null   float64\n",
            " 14  Training Intensity  2100 non-null   float64\n",
            " 15  Battle Strategy     2100 non-null   int64  \n",
            "dtypes: float64(6), int64(10)\n",
            "memory usage: 278.9 KB\n"
          ]
        }
      ]
    },
    {
      "cell_type": "code",
      "source": [
        "# Pemisahan fitur numerik dan kategorik\n",
        "\n",
        "catFeature = ['Origin', 'Category', 'Weapon of Choice', 'Equipment Quality', 'Injury History',\n",
        "              'Tactical Knowledge', 'Health Status', 'Training Intensity',\n",
        "              'Battle Strategy']\n",
        "\n",
        "numFeature = ['Age', 'Height', 'Weight', 'Wins', 'Losses', 'Battle Experience', 'Mental Resilience']\n",
        "\n",
        "xTrainCat = xTrain.drop(numFeature, axis=1)\n",
        "xTestCat = xTest.drop(numFeature, axis=1)\n",
        "xTrainNum = xTrain.drop(catFeature, axis=1)\n",
        "xTestNum = xTest.drop(catFeature, axis=1)\n",
        "\n",
        "# Penyimpanan index-index data train dan test untuk dikembalikan setelah scaling\n",
        "\n",
        "origTrainIndex = xTrain.index.tolist()\n",
        "origTestIndex = xTest.index.tolist()\n"
      ],
      "metadata": {
        "id": "klpShocmsO52"
      },
      "execution_count": 21,
      "outputs": []
    },
    {
      "cell_type": "code",
      "source": [
        "xTrainNum.head()"
      ],
      "metadata": {
        "colab": {
          "base_uri": "https://localhost:8080/",
          "height": 206
        },
        "id": "nAXaknSWuX73",
        "outputId": "aab319e8-2159-4741-c83e-85dba37bb90b"
      },
      "execution_count": 22,
      "outputs": [
        {
          "output_type": "execute_result",
          "data": {
            "text/plain": [
              "      Age  Height  Weight  Wins  Losses  Mental Resilience  Battle Experience\n",
              "456    41     164      68    11       2           2.752270                 13\n",
              "1345   33     146      96     5       1           2.640284                  6\n",
              "839    23     163      51     4       0          10.751115                  4\n",
              "746    26     174      75     5       0           3.014763                  5\n",
              "1227   24     178      95    11       3           4.846066                 14"
            ],
            "text/html": [
              "\n",
              "  <div id=\"df-efd7c11b-472e-414a-bce1-00e99bbdd4d1\" class=\"colab-df-container\">\n",
              "    <div>\n",
              "<style scoped>\n",
              "    .dataframe tbody tr th:only-of-type {\n",
              "        vertical-align: middle;\n",
              "    }\n",
              "\n",
              "    .dataframe tbody tr th {\n",
              "        vertical-align: top;\n",
              "    }\n",
              "\n",
              "    .dataframe thead th {\n",
              "        text-align: right;\n",
              "    }\n",
              "</style>\n",
              "<table border=\"1\" class=\"dataframe\">\n",
              "  <thead>\n",
              "    <tr style=\"text-align: right;\">\n",
              "      <th></th>\n",
              "      <th>Age</th>\n",
              "      <th>Height</th>\n",
              "      <th>Weight</th>\n",
              "      <th>Wins</th>\n",
              "      <th>Losses</th>\n",
              "      <th>Mental Resilience</th>\n",
              "      <th>Battle Experience</th>\n",
              "    </tr>\n",
              "  </thead>\n",
              "  <tbody>\n",
              "    <tr>\n",
              "      <th>456</th>\n",
              "      <td>41</td>\n",
              "      <td>164</td>\n",
              "      <td>68</td>\n",
              "      <td>11</td>\n",
              "      <td>2</td>\n",
              "      <td>2.752270</td>\n",
              "      <td>13</td>\n",
              "    </tr>\n",
              "    <tr>\n",
              "      <th>1345</th>\n",
              "      <td>33</td>\n",
              "      <td>146</td>\n",
              "      <td>96</td>\n",
              "      <td>5</td>\n",
              "      <td>1</td>\n",
              "      <td>2.640284</td>\n",
              "      <td>6</td>\n",
              "    </tr>\n",
              "    <tr>\n",
              "      <th>839</th>\n",
              "      <td>23</td>\n",
              "      <td>163</td>\n",
              "      <td>51</td>\n",
              "      <td>4</td>\n",
              "      <td>0</td>\n",
              "      <td>10.751115</td>\n",
              "      <td>4</td>\n",
              "    </tr>\n",
              "    <tr>\n",
              "      <th>746</th>\n",
              "      <td>26</td>\n",
              "      <td>174</td>\n",
              "      <td>75</td>\n",
              "      <td>5</td>\n",
              "      <td>0</td>\n",
              "      <td>3.014763</td>\n",
              "      <td>5</td>\n",
              "    </tr>\n",
              "    <tr>\n",
              "      <th>1227</th>\n",
              "      <td>24</td>\n",
              "      <td>178</td>\n",
              "      <td>95</td>\n",
              "      <td>11</td>\n",
              "      <td>3</td>\n",
              "      <td>4.846066</td>\n",
              "      <td>14</td>\n",
              "    </tr>\n",
              "  </tbody>\n",
              "</table>\n",
              "</div>\n",
              "    <div class=\"colab-df-buttons\">\n",
              "\n",
              "  <div class=\"colab-df-container\">\n",
              "    <button class=\"colab-df-convert\" onclick=\"convertToInteractive('df-efd7c11b-472e-414a-bce1-00e99bbdd4d1')\"\n",
              "            title=\"Convert this dataframe to an interactive table.\"\n",
              "            style=\"display:none;\">\n",
              "\n",
              "  <svg xmlns=\"http://www.w3.org/2000/svg\" height=\"24px\" viewBox=\"0 -960 960 960\">\n",
              "    <path d=\"M120-120v-720h720v720H120Zm60-500h600v-160H180v160Zm220 220h160v-160H400v160Zm0 220h160v-160H400v160ZM180-400h160v-160H180v160Zm440 0h160v-160H620v160ZM180-180h160v-160H180v160Zm440 0h160v-160H620v160Z\"/>\n",
              "  </svg>\n",
              "    </button>\n",
              "\n",
              "  <style>\n",
              "    .colab-df-container {\n",
              "      display:flex;\n",
              "      gap: 12px;\n",
              "    }\n",
              "\n",
              "    .colab-df-convert {\n",
              "      background-color: #E8F0FE;\n",
              "      border: none;\n",
              "      border-radius: 50%;\n",
              "      cursor: pointer;\n",
              "      display: none;\n",
              "      fill: #1967D2;\n",
              "      height: 32px;\n",
              "      padding: 0 0 0 0;\n",
              "      width: 32px;\n",
              "    }\n",
              "\n",
              "    .colab-df-convert:hover {\n",
              "      background-color: #E2EBFA;\n",
              "      box-shadow: 0px 1px 2px rgba(60, 64, 67, 0.3), 0px 1px 3px 1px rgba(60, 64, 67, 0.15);\n",
              "      fill: #174EA6;\n",
              "    }\n",
              "\n",
              "    .colab-df-buttons div {\n",
              "      margin-bottom: 4px;\n",
              "    }\n",
              "\n",
              "    [theme=dark] .colab-df-convert {\n",
              "      background-color: #3B4455;\n",
              "      fill: #D2E3FC;\n",
              "    }\n",
              "\n",
              "    [theme=dark] .colab-df-convert:hover {\n",
              "      background-color: #434B5C;\n",
              "      box-shadow: 0px 1px 3px 1px rgba(0, 0, 0, 0.15);\n",
              "      filter: drop-shadow(0px 1px 2px rgba(0, 0, 0, 0.3));\n",
              "      fill: #FFFFFF;\n",
              "    }\n",
              "  </style>\n",
              "\n",
              "    <script>\n",
              "      const buttonEl =\n",
              "        document.querySelector('#df-efd7c11b-472e-414a-bce1-00e99bbdd4d1 button.colab-df-convert');\n",
              "      buttonEl.style.display =\n",
              "        google.colab.kernel.accessAllowed ? 'block' : 'none';\n",
              "\n",
              "      async function convertToInteractive(key) {\n",
              "        const element = document.querySelector('#df-efd7c11b-472e-414a-bce1-00e99bbdd4d1');\n",
              "        const dataTable =\n",
              "          await google.colab.kernel.invokeFunction('convertToInteractive',\n",
              "                                                    [key], {});\n",
              "        if (!dataTable) return;\n",
              "\n",
              "        const docLinkHtml = 'Like what you see? Visit the ' +\n",
              "          '<a target=\"_blank\" href=https://colab.research.google.com/notebooks/data_table.ipynb>data table notebook</a>'\n",
              "          + ' to learn more about interactive tables.';\n",
              "        element.innerHTML = '';\n",
              "        dataTable['output_type'] = 'display_data';\n",
              "        await google.colab.output.renderOutput(dataTable, element);\n",
              "        const docLink = document.createElement('div');\n",
              "        docLink.innerHTML = docLinkHtml;\n",
              "        element.appendChild(docLink);\n",
              "      }\n",
              "    </script>\n",
              "  </div>\n",
              "\n",
              "\n",
              "<div id=\"df-6e6f0312-73ce-496d-bfd8-1835c929c854\">\n",
              "  <button class=\"colab-df-quickchart\" onclick=\"quickchart('df-6e6f0312-73ce-496d-bfd8-1835c929c854')\"\n",
              "            title=\"Suggest charts\"\n",
              "            style=\"display:none;\">\n",
              "\n",
              "<svg xmlns=\"http://www.w3.org/2000/svg\" height=\"24px\"viewBox=\"0 0 24 24\"\n",
              "     width=\"24px\">\n",
              "    <g>\n",
              "        <path d=\"M19 3H5c-1.1 0-2 .9-2 2v14c0 1.1.9 2 2 2h14c1.1 0 2-.9 2-2V5c0-1.1-.9-2-2-2zM9 17H7v-7h2v7zm4 0h-2V7h2v10zm4 0h-2v-4h2v4z\"/>\n",
              "    </g>\n",
              "</svg>\n",
              "  </button>\n",
              "\n",
              "<style>\n",
              "  .colab-df-quickchart {\n",
              "      --bg-color: #E8F0FE;\n",
              "      --fill-color: #1967D2;\n",
              "      --hover-bg-color: #E2EBFA;\n",
              "      --hover-fill-color: #174EA6;\n",
              "      --disabled-fill-color: #AAA;\n",
              "      --disabled-bg-color: #DDD;\n",
              "  }\n",
              "\n",
              "  [theme=dark] .colab-df-quickchart {\n",
              "      --bg-color: #3B4455;\n",
              "      --fill-color: #D2E3FC;\n",
              "      --hover-bg-color: #434B5C;\n",
              "      --hover-fill-color: #FFFFFF;\n",
              "      --disabled-bg-color: #3B4455;\n",
              "      --disabled-fill-color: #666;\n",
              "  }\n",
              "\n",
              "  .colab-df-quickchart {\n",
              "    background-color: var(--bg-color);\n",
              "    border: none;\n",
              "    border-radius: 50%;\n",
              "    cursor: pointer;\n",
              "    display: none;\n",
              "    fill: var(--fill-color);\n",
              "    height: 32px;\n",
              "    padding: 0;\n",
              "    width: 32px;\n",
              "  }\n",
              "\n",
              "  .colab-df-quickchart:hover {\n",
              "    background-color: var(--hover-bg-color);\n",
              "    box-shadow: 0 1px 2px rgba(60, 64, 67, 0.3), 0 1px 3px 1px rgba(60, 64, 67, 0.15);\n",
              "    fill: var(--button-hover-fill-color);\n",
              "  }\n",
              "\n",
              "  .colab-df-quickchart-complete:disabled,\n",
              "  .colab-df-quickchart-complete:disabled:hover {\n",
              "    background-color: var(--disabled-bg-color);\n",
              "    fill: var(--disabled-fill-color);\n",
              "    box-shadow: none;\n",
              "  }\n",
              "\n",
              "  .colab-df-spinner {\n",
              "    border: 2px solid var(--fill-color);\n",
              "    border-color: transparent;\n",
              "    border-bottom-color: var(--fill-color);\n",
              "    animation:\n",
              "      spin 1s steps(1) infinite;\n",
              "  }\n",
              "\n",
              "  @keyframes spin {\n",
              "    0% {\n",
              "      border-color: transparent;\n",
              "      border-bottom-color: var(--fill-color);\n",
              "      border-left-color: var(--fill-color);\n",
              "    }\n",
              "    20% {\n",
              "      border-color: transparent;\n",
              "      border-left-color: var(--fill-color);\n",
              "      border-top-color: var(--fill-color);\n",
              "    }\n",
              "    30% {\n",
              "      border-color: transparent;\n",
              "      border-left-color: var(--fill-color);\n",
              "      border-top-color: var(--fill-color);\n",
              "      border-right-color: var(--fill-color);\n",
              "    }\n",
              "    40% {\n",
              "      border-color: transparent;\n",
              "      border-right-color: var(--fill-color);\n",
              "      border-top-color: var(--fill-color);\n",
              "    }\n",
              "    60% {\n",
              "      border-color: transparent;\n",
              "      border-right-color: var(--fill-color);\n",
              "    }\n",
              "    80% {\n",
              "      border-color: transparent;\n",
              "      border-right-color: var(--fill-color);\n",
              "      border-bottom-color: var(--fill-color);\n",
              "    }\n",
              "    90% {\n",
              "      border-color: transparent;\n",
              "      border-bottom-color: var(--fill-color);\n",
              "    }\n",
              "  }\n",
              "</style>\n",
              "\n",
              "  <script>\n",
              "    async function quickchart(key) {\n",
              "      const quickchartButtonEl =\n",
              "        document.querySelector('#' + key + ' button');\n",
              "      quickchartButtonEl.disabled = true;  // To prevent multiple clicks.\n",
              "      quickchartButtonEl.classList.add('colab-df-spinner');\n",
              "      try {\n",
              "        const charts = await google.colab.kernel.invokeFunction(\n",
              "            'suggestCharts', [key], {});\n",
              "      } catch (error) {\n",
              "        console.error('Error during call to suggestCharts:', error);\n",
              "      }\n",
              "      quickchartButtonEl.classList.remove('colab-df-spinner');\n",
              "      quickchartButtonEl.classList.add('colab-df-quickchart-complete');\n",
              "    }\n",
              "    (() => {\n",
              "      let quickchartButtonEl =\n",
              "        document.querySelector('#df-6e6f0312-73ce-496d-bfd8-1835c929c854 button');\n",
              "      quickchartButtonEl.style.display =\n",
              "        google.colab.kernel.accessAllowed ? 'block' : 'none';\n",
              "    })();\n",
              "  </script>\n",
              "</div>\n",
              "    </div>\n",
              "  </div>\n"
            ]
          },
          "metadata": {},
          "execution_count": 22
        }
      ]
    },
    {
      "cell_type": "markdown",
      "source": [
        "Untuk scaling, `Age`, `Height`, `Weight`, `Wins`, dan `Mental Resilience` akan discale dengan StandardScaler. `Losses` akan discale dengan RobustScaler sedangkan `Battle Experience` akan discale dengan MinMaxScaler."
      ],
      "metadata": {
        "id": "66vSlzCyt9SG"
      }
    },
    {
      "cell_type": "code",
      "source": [
        "# Define scaler\n",
        "\n",
        "standScale = StandardScaler()\n",
        "minMaxScale = MinMaxScaler()\n",
        "robustScale = RobustScaler()"
      ],
      "metadata": {
        "id": "HnA8elPot87X"
      },
      "execution_count": 23,
      "outputs": []
    },
    {
      "cell_type": "code",
      "source": [
        "# Split feature numerik untuk scaling\n",
        "\n",
        "xTrainStnd = xTrainNum.drop(['Losses', 'Battle Experience'], axis=1)\n",
        "xTrainMiMa = xTrainNum[['Battle Experience']]\n",
        "xTrainRob = xTrainNum[['Losses']]\n",
        "\n",
        "xTestStnd = xTestNum.drop(['Losses', 'Battle Experience'], axis=1)\n",
        "xTestMiMa = xTestNum[['Battle Experience']]\n",
        "xTestRob = xTestNum[['Losses']]"
      ],
      "metadata": {
        "id": "iDvczRpovzpg"
      },
      "execution_count": 24,
      "outputs": []
    },
    {
      "cell_type": "code",
      "source": [
        "# Scaling feature\n",
        "\n",
        "standScale.fit(xTrainStnd)\n",
        "minMaxScale.fit(xTrainMiMa)\n",
        "robustScale.fit(xTrainRob)\n",
        "\n",
        "# Scaling dengan standard scaler\n",
        "xTrainStndScled = standScale.transform(xTrainStnd)\n",
        "xTestStndScled = standScale.transform(xTestStnd)\n",
        "\n",
        "# Scaling dengan min max scaler\n",
        "xTrainMiMaScled = minMaxScale.transform(xTrainMiMa)\n",
        "xTestMiMaScled = minMaxScale.transform(xTestMiMa)\n",
        "\n",
        "# Scaling dengan robust scaler\n",
        "xTrainRobScled = robustScale.transform(xTrainRob)\n",
        "xTestRobScled = robustScale.transform(xTestRob)\n"
      ],
      "metadata": {
        "id": "lUeP6LFZyDGO"
      },
      "execution_count": 25,
      "outputs": []
    },
    {
      "cell_type": "code",
      "source": [
        "# Pembuatan dataframe baru untuk feature yang telah discale\n",
        "\n",
        "xTrainStndScledDF = pd.DataFrame(xTrainStndScled, columns = ['Age', 'Height', 'Weight', 'Wins', 'Mental Resilience'], index = origTrainIndex)\n",
        "xTrainMiMaScledDF = pd.DataFrame(xTrainMiMaScled, columns = ['Battle Experience'], index = origTrainIndex)\n",
        "xTrainRobScledDF = pd.DataFrame(xTrainRobScled, columns = ['Losses'], index = origTrainIndex)\n",
        "\n",
        "xTestStndScledDF = pd.DataFrame(xTestStndScled, columns = ['Age', 'Height', 'Weight', 'Wins', 'Mental Resilience'], index = origTestIndex)\n",
        "xTestMiMaScledDF = pd.DataFrame(xTestMiMaScled, columns = ['Battle Experience'], index = origTestIndex)\n",
        "xTestRobScledDF = pd.DataFrame(xTestRobScled, columns = ['Losses'], index = origTestIndex)"
      ],
      "metadata": {
        "id": "lhb5EONK0ATj"
      },
      "execution_count": 26,
      "outputs": []
    },
    {
      "cell_type": "code",
      "source": [
        "# Penggabungan dataframe train dan test numerik menjadi satu\n",
        "\n",
        "xTrainNumScled = pd.concat([xTrainStndScledDF, xTrainMiMaScledDF, xTrainRobScledDF], axis=1)\n",
        "xTestNumScled = pd.concat([xTestStndScledDF, xTestMiMaScledDF, xTestRobScledDF], axis=1)\n",
        "\n",
        "xTestNumScled"
      ],
      "metadata": {
        "colab": {
          "base_uri": "https://localhost:8080/",
          "height": 424
        },
        "id": "7o6TroMf1P7x",
        "outputId": "d4458a82-1a19-4c92-eca8-d37009b546e7"
      },
      "execution_count": 27,
      "outputs": [
        {
          "output_type": "execute_result",
          "data": {
            "text/plain": [
              "           Age    Height    Weight      Wins  Mental Resilience  \\\n",
              "465   1.170787  1.757728 -0.745276  0.301851          -0.186916   \n",
              "904  -0.192652  1.459342  0.762387 -0.835166           2.127291   \n",
              "2639  0.179195  0.265800  0.008555 -1.403674           1.295243   \n",
              "2125 -1.184245 -0.629357 -2.064481 -0.835166           1.933051   \n",
              "1962  0.674991 -0.629357  0.699568  0.301851          -0.958551   \n",
              "...        ...       ...       ...       ...                ...   \n",
              "2985 -1.432143  0.265800 -0.808095  0.301851          -0.085542   \n",
              "1121  0.674991 -1.425052 -0.556818  1.438868          -1.502973   \n",
              "1193  0.179195 -1.126666  1.830315 -0.835166          -0.278349   \n",
              "2948  1.542634 -0.132047  0.888025  1.154614           0.414705   \n",
              "561   0.798940 -0.629357  1.327760  0.870359          -1.077133   \n",
              "\n",
              "      Battle Experience  Losses  \n",
              "465            0.322581     0.0  \n",
              "904            0.161290    -0.5  \n",
              "2639           0.096774    -0.5  \n",
              "2125           0.161290    -0.5  \n",
              "1962           0.290323    -0.5  \n",
              "...                 ...     ...  \n",
              "2985           0.387097     1.0  \n",
              "1121           0.548387     1.5  \n",
              "1193           0.258065     1.0  \n",
              "2948           0.483871     1.0  \n",
              "561            0.387097     0.0  \n",
              "\n",
              "[900 rows x 7 columns]"
            ],
            "text/html": [
              "\n",
              "  <div id=\"df-c8adb4b8-8659-4dfa-9bd7-f34e6d7057c3\" class=\"colab-df-container\">\n",
              "    <div>\n",
              "<style scoped>\n",
              "    .dataframe tbody tr th:only-of-type {\n",
              "        vertical-align: middle;\n",
              "    }\n",
              "\n",
              "    .dataframe tbody tr th {\n",
              "        vertical-align: top;\n",
              "    }\n",
              "\n",
              "    .dataframe thead th {\n",
              "        text-align: right;\n",
              "    }\n",
              "</style>\n",
              "<table border=\"1\" class=\"dataframe\">\n",
              "  <thead>\n",
              "    <tr style=\"text-align: right;\">\n",
              "      <th></th>\n",
              "      <th>Age</th>\n",
              "      <th>Height</th>\n",
              "      <th>Weight</th>\n",
              "      <th>Wins</th>\n",
              "      <th>Mental Resilience</th>\n",
              "      <th>Battle Experience</th>\n",
              "      <th>Losses</th>\n",
              "    </tr>\n",
              "  </thead>\n",
              "  <tbody>\n",
              "    <tr>\n",
              "      <th>465</th>\n",
              "      <td>1.170787</td>\n",
              "      <td>1.757728</td>\n",
              "      <td>-0.745276</td>\n",
              "      <td>0.301851</td>\n",
              "      <td>-0.186916</td>\n",
              "      <td>0.322581</td>\n",
              "      <td>0.0</td>\n",
              "    </tr>\n",
              "    <tr>\n",
              "      <th>904</th>\n",
              "      <td>-0.192652</td>\n",
              "      <td>1.459342</td>\n",
              "      <td>0.762387</td>\n",
              "      <td>-0.835166</td>\n",
              "      <td>2.127291</td>\n",
              "      <td>0.161290</td>\n",
              "      <td>-0.5</td>\n",
              "    </tr>\n",
              "    <tr>\n",
              "      <th>2639</th>\n",
              "      <td>0.179195</td>\n",
              "      <td>0.265800</td>\n",
              "      <td>0.008555</td>\n",
              "      <td>-1.403674</td>\n",
              "      <td>1.295243</td>\n",
              "      <td>0.096774</td>\n",
              "      <td>-0.5</td>\n",
              "    </tr>\n",
              "    <tr>\n",
              "      <th>2125</th>\n",
              "      <td>-1.184245</td>\n",
              "      <td>-0.629357</td>\n",
              "      <td>-2.064481</td>\n",
              "      <td>-0.835166</td>\n",
              "      <td>1.933051</td>\n",
              "      <td>0.161290</td>\n",
              "      <td>-0.5</td>\n",
              "    </tr>\n",
              "    <tr>\n",
              "      <th>1962</th>\n",
              "      <td>0.674991</td>\n",
              "      <td>-0.629357</td>\n",
              "      <td>0.699568</td>\n",
              "      <td>0.301851</td>\n",
              "      <td>-0.958551</td>\n",
              "      <td>0.290323</td>\n",
              "      <td>-0.5</td>\n",
              "    </tr>\n",
              "    <tr>\n",
              "      <th>...</th>\n",
              "      <td>...</td>\n",
              "      <td>...</td>\n",
              "      <td>...</td>\n",
              "      <td>...</td>\n",
              "      <td>...</td>\n",
              "      <td>...</td>\n",
              "      <td>...</td>\n",
              "    </tr>\n",
              "    <tr>\n",
              "      <th>2985</th>\n",
              "      <td>-1.432143</td>\n",
              "      <td>0.265800</td>\n",
              "      <td>-0.808095</td>\n",
              "      <td>0.301851</td>\n",
              "      <td>-0.085542</td>\n",
              "      <td>0.387097</td>\n",
              "      <td>1.0</td>\n",
              "    </tr>\n",
              "    <tr>\n",
              "      <th>1121</th>\n",
              "      <td>0.674991</td>\n",
              "      <td>-1.425052</td>\n",
              "      <td>-0.556818</td>\n",
              "      <td>1.438868</td>\n",
              "      <td>-1.502973</td>\n",
              "      <td>0.548387</td>\n",
              "      <td>1.5</td>\n",
              "    </tr>\n",
              "    <tr>\n",
              "      <th>1193</th>\n",
              "      <td>0.179195</td>\n",
              "      <td>-1.126666</td>\n",
              "      <td>1.830315</td>\n",
              "      <td>-0.835166</td>\n",
              "      <td>-0.278349</td>\n",
              "      <td>0.258065</td>\n",
              "      <td>1.0</td>\n",
              "    </tr>\n",
              "    <tr>\n",
              "      <th>2948</th>\n",
              "      <td>1.542634</td>\n",
              "      <td>-0.132047</td>\n",
              "      <td>0.888025</td>\n",
              "      <td>1.154614</td>\n",
              "      <td>0.414705</td>\n",
              "      <td>0.483871</td>\n",
              "      <td>1.0</td>\n",
              "    </tr>\n",
              "    <tr>\n",
              "      <th>561</th>\n",
              "      <td>0.798940</td>\n",
              "      <td>-0.629357</td>\n",
              "      <td>1.327760</td>\n",
              "      <td>0.870359</td>\n",
              "      <td>-1.077133</td>\n",
              "      <td>0.387097</td>\n",
              "      <td>0.0</td>\n",
              "    </tr>\n",
              "  </tbody>\n",
              "</table>\n",
              "<p>900 rows × 7 columns</p>\n",
              "</div>\n",
              "    <div class=\"colab-df-buttons\">\n",
              "\n",
              "  <div class=\"colab-df-container\">\n",
              "    <button class=\"colab-df-convert\" onclick=\"convertToInteractive('df-c8adb4b8-8659-4dfa-9bd7-f34e6d7057c3')\"\n",
              "            title=\"Convert this dataframe to an interactive table.\"\n",
              "            style=\"display:none;\">\n",
              "\n",
              "  <svg xmlns=\"http://www.w3.org/2000/svg\" height=\"24px\" viewBox=\"0 -960 960 960\">\n",
              "    <path d=\"M120-120v-720h720v720H120Zm60-500h600v-160H180v160Zm220 220h160v-160H400v160Zm0 220h160v-160H400v160ZM180-400h160v-160H180v160Zm440 0h160v-160H620v160ZM180-180h160v-160H180v160Zm440 0h160v-160H620v160Z\"/>\n",
              "  </svg>\n",
              "    </button>\n",
              "\n",
              "  <style>\n",
              "    .colab-df-container {\n",
              "      display:flex;\n",
              "      gap: 12px;\n",
              "    }\n",
              "\n",
              "    .colab-df-convert {\n",
              "      background-color: #E8F0FE;\n",
              "      border: none;\n",
              "      border-radius: 50%;\n",
              "      cursor: pointer;\n",
              "      display: none;\n",
              "      fill: #1967D2;\n",
              "      height: 32px;\n",
              "      padding: 0 0 0 0;\n",
              "      width: 32px;\n",
              "    }\n",
              "\n",
              "    .colab-df-convert:hover {\n",
              "      background-color: #E2EBFA;\n",
              "      box-shadow: 0px 1px 2px rgba(60, 64, 67, 0.3), 0px 1px 3px 1px rgba(60, 64, 67, 0.15);\n",
              "      fill: #174EA6;\n",
              "    }\n",
              "\n",
              "    .colab-df-buttons div {\n",
              "      margin-bottom: 4px;\n",
              "    }\n",
              "\n",
              "    [theme=dark] .colab-df-convert {\n",
              "      background-color: #3B4455;\n",
              "      fill: #D2E3FC;\n",
              "    }\n",
              "\n",
              "    [theme=dark] .colab-df-convert:hover {\n",
              "      background-color: #434B5C;\n",
              "      box-shadow: 0px 1px 3px 1px rgba(0, 0, 0, 0.15);\n",
              "      filter: drop-shadow(0px 1px 2px rgba(0, 0, 0, 0.3));\n",
              "      fill: #FFFFFF;\n",
              "    }\n",
              "  </style>\n",
              "\n",
              "    <script>\n",
              "      const buttonEl =\n",
              "        document.querySelector('#df-c8adb4b8-8659-4dfa-9bd7-f34e6d7057c3 button.colab-df-convert');\n",
              "      buttonEl.style.display =\n",
              "        google.colab.kernel.accessAllowed ? 'block' : 'none';\n",
              "\n",
              "      async function convertToInteractive(key) {\n",
              "        const element = document.querySelector('#df-c8adb4b8-8659-4dfa-9bd7-f34e6d7057c3');\n",
              "        const dataTable =\n",
              "          await google.colab.kernel.invokeFunction('convertToInteractive',\n",
              "                                                    [key], {});\n",
              "        if (!dataTable) return;\n",
              "\n",
              "        const docLinkHtml = 'Like what you see? Visit the ' +\n",
              "          '<a target=\"_blank\" href=https://colab.research.google.com/notebooks/data_table.ipynb>data table notebook</a>'\n",
              "          + ' to learn more about interactive tables.';\n",
              "        element.innerHTML = '';\n",
              "        dataTable['output_type'] = 'display_data';\n",
              "        await google.colab.output.renderOutput(dataTable, element);\n",
              "        const docLink = document.createElement('div');\n",
              "        docLink.innerHTML = docLinkHtml;\n",
              "        element.appendChild(docLink);\n",
              "      }\n",
              "    </script>\n",
              "  </div>\n",
              "\n",
              "\n",
              "<div id=\"df-07850c19-dcca-4930-91cd-f92a2f2ff5a7\">\n",
              "  <button class=\"colab-df-quickchart\" onclick=\"quickchart('df-07850c19-dcca-4930-91cd-f92a2f2ff5a7')\"\n",
              "            title=\"Suggest charts\"\n",
              "            style=\"display:none;\">\n",
              "\n",
              "<svg xmlns=\"http://www.w3.org/2000/svg\" height=\"24px\"viewBox=\"0 0 24 24\"\n",
              "     width=\"24px\">\n",
              "    <g>\n",
              "        <path d=\"M19 3H5c-1.1 0-2 .9-2 2v14c0 1.1.9 2 2 2h14c1.1 0 2-.9 2-2V5c0-1.1-.9-2-2-2zM9 17H7v-7h2v7zm4 0h-2V7h2v10zm4 0h-2v-4h2v4z\"/>\n",
              "    </g>\n",
              "</svg>\n",
              "  </button>\n",
              "\n",
              "<style>\n",
              "  .colab-df-quickchart {\n",
              "      --bg-color: #E8F0FE;\n",
              "      --fill-color: #1967D2;\n",
              "      --hover-bg-color: #E2EBFA;\n",
              "      --hover-fill-color: #174EA6;\n",
              "      --disabled-fill-color: #AAA;\n",
              "      --disabled-bg-color: #DDD;\n",
              "  }\n",
              "\n",
              "  [theme=dark] .colab-df-quickchart {\n",
              "      --bg-color: #3B4455;\n",
              "      --fill-color: #D2E3FC;\n",
              "      --hover-bg-color: #434B5C;\n",
              "      --hover-fill-color: #FFFFFF;\n",
              "      --disabled-bg-color: #3B4455;\n",
              "      --disabled-fill-color: #666;\n",
              "  }\n",
              "\n",
              "  .colab-df-quickchart {\n",
              "    background-color: var(--bg-color);\n",
              "    border: none;\n",
              "    border-radius: 50%;\n",
              "    cursor: pointer;\n",
              "    display: none;\n",
              "    fill: var(--fill-color);\n",
              "    height: 32px;\n",
              "    padding: 0;\n",
              "    width: 32px;\n",
              "  }\n",
              "\n",
              "  .colab-df-quickchart:hover {\n",
              "    background-color: var(--hover-bg-color);\n",
              "    box-shadow: 0 1px 2px rgba(60, 64, 67, 0.3), 0 1px 3px 1px rgba(60, 64, 67, 0.15);\n",
              "    fill: var(--button-hover-fill-color);\n",
              "  }\n",
              "\n",
              "  .colab-df-quickchart-complete:disabled,\n",
              "  .colab-df-quickchart-complete:disabled:hover {\n",
              "    background-color: var(--disabled-bg-color);\n",
              "    fill: var(--disabled-fill-color);\n",
              "    box-shadow: none;\n",
              "  }\n",
              "\n",
              "  .colab-df-spinner {\n",
              "    border: 2px solid var(--fill-color);\n",
              "    border-color: transparent;\n",
              "    border-bottom-color: var(--fill-color);\n",
              "    animation:\n",
              "      spin 1s steps(1) infinite;\n",
              "  }\n",
              "\n",
              "  @keyframes spin {\n",
              "    0% {\n",
              "      border-color: transparent;\n",
              "      border-bottom-color: var(--fill-color);\n",
              "      border-left-color: var(--fill-color);\n",
              "    }\n",
              "    20% {\n",
              "      border-color: transparent;\n",
              "      border-left-color: var(--fill-color);\n",
              "      border-top-color: var(--fill-color);\n",
              "    }\n",
              "    30% {\n",
              "      border-color: transparent;\n",
              "      border-left-color: var(--fill-color);\n",
              "      border-top-color: var(--fill-color);\n",
              "      border-right-color: var(--fill-color);\n",
              "    }\n",
              "    40% {\n",
              "      border-color: transparent;\n",
              "      border-right-color: var(--fill-color);\n",
              "      border-top-color: var(--fill-color);\n",
              "    }\n",
              "    60% {\n",
              "      border-color: transparent;\n",
              "      border-right-color: var(--fill-color);\n",
              "    }\n",
              "    80% {\n",
              "      border-color: transparent;\n",
              "      border-right-color: var(--fill-color);\n",
              "      border-bottom-color: var(--fill-color);\n",
              "    }\n",
              "    90% {\n",
              "      border-color: transparent;\n",
              "      border-bottom-color: var(--fill-color);\n",
              "    }\n",
              "  }\n",
              "</style>\n",
              "\n",
              "  <script>\n",
              "    async function quickchart(key) {\n",
              "      const quickchartButtonEl =\n",
              "        document.querySelector('#' + key + ' button');\n",
              "      quickchartButtonEl.disabled = true;  // To prevent multiple clicks.\n",
              "      quickchartButtonEl.classList.add('colab-df-spinner');\n",
              "      try {\n",
              "        const charts = await google.colab.kernel.invokeFunction(\n",
              "            'suggestCharts', [key], {});\n",
              "      } catch (error) {\n",
              "        console.error('Error during call to suggestCharts:', error);\n",
              "      }\n",
              "      quickchartButtonEl.classList.remove('colab-df-spinner');\n",
              "      quickchartButtonEl.classList.add('colab-df-quickchart-complete');\n",
              "    }\n",
              "    (() => {\n",
              "      let quickchartButtonEl =\n",
              "        document.querySelector('#df-07850c19-dcca-4930-91cd-f92a2f2ff5a7 button');\n",
              "      quickchartButtonEl.style.display =\n",
              "        google.colab.kernel.accessAllowed ? 'block' : 'none';\n",
              "    })();\n",
              "  </script>\n",
              "</div>\n",
              "    </div>\n",
              "  </div>\n"
            ]
          },
          "metadata": {},
          "execution_count": 27
        }
      ]
    },
    {
      "cell_type": "code",
      "source": [
        "# Penggabungan fitur numerik dan kategorik\n",
        "\n",
        "xTrainFinal = pd.concat([xTrainNumScled, xTrainCat], axis=1)\n",
        "xTestFinal = pd.concat([xTestNumScled, xTestCat], axis=1)\n",
        "\n",
        "xTrainFinal.head()"
      ],
      "metadata": {
        "colab": {
          "base_uri": "https://localhost:8080/",
          "height": 261
        },
        "id": "YX6OHH_D3HDp",
        "outputId": "2348ec9e-4071-44c3-890d-f722c1cf8e21"
      },
      "execution_count": 28,
      "outputs": [
        {
          "output_type": "execute_result",
          "data": {
            "text/plain": [
              "           Age    Height    Weight      Wins  Mental Resilience  \\\n",
              "456   1.170787 -1.126666 -0.870915  0.870359          -0.751162   \n",
              "1345  0.179195 -2.916979  0.888025 -0.835166          -0.798795   \n",
              "839  -1.060295 -1.226128 -1.938843 -1.119420           2.651118   \n",
              "746  -0.688448 -0.132047 -0.431180 -0.835166          -0.639512   \n",
              "1227 -0.936346  0.265800  0.825206  0.870359           0.139426   \n",
              "\n",
              "      Battle Experience  Losses  Origin  Category  Weapon of Choice  \\\n",
              "456            0.419355     0.5       5         5                 2   \n",
              "1345           0.193548     0.0       4         5                 2   \n",
              "839            0.129032    -0.5       2         3                 6   \n",
              "746            0.161290    -0.5       3         3                 6   \n",
              "1227           0.451613     1.0       3         6                 5   \n",
              "\n",
              "      Equipment Quality  Injury History  Tactical Knowledge  Health Status  \\\n",
              "456                 0.0             0.0                 0.0            1.0   \n",
              "1345                0.0             0.0                 2.0            2.0   \n",
              "839                 0.0             0.0                 2.0            2.0   \n",
              "746                 2.0             0.0                 1.0            2.0   \n",
              "1227                0.0             0.0                 0.0            2.0   \n",
              "\n",
              "      Training Intensity  Battle Strategy  \n",
              "456                  1.0                1  \n",
              "1345                 1.0                1  \n",
              "839                  2.0                3  \n",
              "746                  1.0                2  \n",
              "1227                 1.0                2  "
            ],
            "text/html": [
              "\n",
              "  <div id=\"df-25f377a3-2216-40db-af5c-437d40aca8c3\" class=\"colab-df-container\">\n",
              "    <div>\n",
              "<style scoped>\n",
              "    .dataframe tbody tr th:only-of-type {\n",
              "        vertical-align: middle;\n",
              "    }\n",
              "\n",
              "    .dataframe tbody tr th {\n",
              "        vertical-align: top;\n",
              "    }\n",
              "\n",
              "    .dataframe thead th {\n",
              "        text-align: right;\n",
              "    }\n",
              "</style>\n",
              "<table border=\"1\" class=\"dataframe\">\n",
              "  <thead>\n",
              "    <tr style=\"text-align: right;\">\n",
              "      <th></th>\n",
              "      <th>Age</th>\n",
              "      <th>Height</th>\n",
              "      <th>Weight</th>\n",
              "      <th>Wins</th>\n",
              "      <th>Mental Resilience</th>\n",
              "      <th>Battle Experience</th>\n",
              "      <th>Losses</th>\n",
              "      <th>Origin</th>\n",
              "      <th>Category</th>\n",
              "      <th>Weapon of Choice</th>\n",
              "      <th>Equipment Quality</th>\n",
              "      <th>Injury History</th>\n",
              "      <th>Tactical Knowledge</th>\n",
              "      <th>Health Status</th>\n",
              "      <th>Training Intensity</th>\n",
              "      <th>Battle Strategy</th>\n",
              "    </tr>\n",
              "  </thead>\n",
              "  <tbody>\n",
              "    <tr>\n",
              "      <th>456</th>\n",
              "      <td>1.170787</td>\n",
              "      <td>-1.126666</td>\n",
              "      <td>-0.870915</td>\n",
              "      <td>0.870359</td>\n",
              "      <td>-0.751162</td>\n",
              "      <td>0.419355</td>\n",
              "      <td>0.5</td>\n",
              "      <td>5</td>\n",
              "      <td>5</td>\n",
              "      <td>2</td>\n",
              "      <td>0.0</td>\n",
              "      <td>0.0</td>\n",
              "      <td>0.0</td>\n",
              "      <td>1.0</td>\n",
              "      <td>1.0</td>\n",
              "      <td>1</td>\n",
              "    </tr>\n",
              "    <tr>\n",
              "      <th>1345</th>\n",
              "      <td>0.179195</td>\n",
              "      <td>-2.916979</td>\n",
              "      <td>0.888025</td>\n",
              "      <td>-0.835166</td>\n",
              "      <td>-0.798795</td>\n",
              "      <td>0.193548</td>\n",
              "      <td>0.0</td>\n",
              "      <td>4</td>\n",
              "      <td>5</td>\n",
              "      <td>2</td>\n",
              "      <td>0.0</td>\n",
              "      <td>0.0</td>\n",
              "      <td>2.0</td>\n",
              "      <td>2.0</td>\n",
              "      <td>1.0</td>\n",
              "      <td>1</td>\n",
              "    </tr>\n",
              "    <tr>\n",
              "      <th>839</th>\n",
              "      <td>-1.060295</td>\n",
              "      <td>-1.226128</td>\n",
              "      <td>-1.938843</td>\n",
              "      <td>-1.119420</td>\n",
              "      <td>2.651118</td>\n",
              "      <td>0.129032</td>\n",
              "      <td>-0.5</td>\n",
              "      <td>2</td>\n",
              "      <td>3</td>\n",
              "      <td>6</td>\n",
              "      <td>0.0</td>\n",
              "      <td>0.0</td>\n",
              "      <td>2.0</td>\n",
              "      <td>2.0</td>\n",
              "      <td>2.0</td>\n",
              "      <td>3</td>\n",
              "    </tr>\n",
              "    <tr>\n",
              "      <th>746</th>\n",
              "      <td>-0.688448</td>\n",
              "      <td>-0.132047</td>\n",
              "      <td>-0.431180</td>\n",
              "      <td>-0.835166</td>\n",
              "      <td>-0.639512</td>\n",
              "      <td>0.161290</td>\n",
              "      <td>-0.5</td>\n",
              "      <td>3</td>\n",
              "      <td>3</td>\n",
              "      <td>6</td>\n",
              "      <td>2.0</td>\n",
              "      <td>0.0</td>\n",
              "      <td>1.0</td>\n",
              "      <td>2.0</td>\n",
              "      <td>1.0</td>\n",
              "      <td>2</td>\n",
              "    </tr>\n",
              "    <tr>\n",
              "      <th>1227</th>\n",
              "      <td>-0.936346</td>\n",
              "      <td>0.265800</td>\n",
              "      <td>0.825206</td>\n",
              "      <td>0.870359</td>\n",
              "      <td>0.139426</td>\n",
              "      <td>0.451613</td>\n",
              "      <td>1.0</td>\n",
              "      <td>3</td>\n",
              "      <td>6</td>\n",
              "      <td>5</td>\n",
              "      <td>0.0</td>\n",
              "      <td>0.0</td>\n",
              "      <td>0.0</td>\n",
              "      <td>2.0</td>\n",
              "      <td>1.0</td>\n",
              "      <td>2</td>\n",
              "    </tr>\n",
              "  </tbody>\n",
              "</table>\n",
              "</div>\n",
              "    <div class=\"colab-df-buttons\">\n",
              "\n",
              "  <div class=\"colab-df-container\">\n",
              "    <button class=\"colab-df-convert\" onclick=\"convertToInteractive('df-25f377a3-2216-40db-af5c-437d40aca8c3')\"\n",
              "            title=\"Convert this dataframe to an interactive table.\"\n",
              "            style=\"display:none;\">\n",
              "\n",
              "  <svg xmlns=\"http://www.w3.org/2000/svg\" height=\"24px\" viewBox=\"0 -960 960 960\">\n",
              "    <path d=\"M120-120v-720h720v720H120Zm60-500h600v-160H180v160Zm220 220h160v-160H400v160Zm0 220h160v-160H400v160ZM180-400h160v-160H180v160Zm440 0h160v-160H620v160ZM180-180h160v-160H180v160Zm440 0h160v-160H620v160Z\"/>\n",
              "  </svg>\n",
              "    </button>\n",
              "\n",
              "  <style>\n",
              "    .colab-df-container {\n",
              "      display:flex;\n",
              "      gap: 12px;\n",
              "    }\n",
              "\n",
              "    .colab-df-convert {\n",
              "      background-color: #E8F0FE;\n",
              "      border: none;\n",
              "      border-radius: 50%;\n",
              "      cursor: pointer;\n",
              "      display: none;\n",
              "      fill: #1967D2;\n",
              "      height: 32px;\n",
              "      padding: 0 0 0 0;\n",
              "      width: 32px;\n",
              "    }\n",
              "\n",
              "    .colab-df-convert:hover {\n",
              "      background-color: #E2EBFA;\n",
              "      box-shadow: 0px 1px 2px rgba(60, 64, 67, 0.3), 0px 1px 3px 1px rgba(60, 64, 67, 0.15);\n",
              "      fill: #174EA6;\n",
              "    }\n",
              "\n",
              "    .colab-df-buttons div {\n",
              "      margin-bottom: 4px;\n",
              "    }\n",
              "\n",
              "    [theme=dark] .colab-df-convert {\n",
              "      background-color: #3B4455;\n",
              "      fill: #D2E3FC;\n",
              "    }\n",
              "\n",
              "    [theme=dark] .colab-df-convert:hover {\n",
              "      background-color: #434B5C;\n",
              "      box-shadow: 0px 1px 3px 1px rgba(0, 0, 0, 0.15);\n",
              "      filter: drop-shadow(0px 1px 2px rgba(0, 0, 0, 0.3));\n",
              "      fill: #FFFFFF;\n",
              "    }\n",
              "  </style>\n",
              "\n",
              "    <script>\n",
              "      const buttonEl =\n",
              "        document.querySelector('#df-25f377a3-2216-40db-af5c-437d40aca8c3 button.colab-df-convert');\n",
              "      buttonEl.style.display =\n",
              "        google.colab.kernel.accessAllowed ? 'block' : 'none';\n",
              "\n",
              "      async function convertToInteractive(key) {\n",
              "        const element = document.querySelector('#df-25f377a3-2216-40db-af5c-437d40aca8c3');\n",
              "        const dataTable =\n",
              "          await google.colab.kernel.invokeFunction('convertToInteractive',\n",
              "                                                    [key], {});\n",
              "        if (!dataTable) return;\n",
              "\n",
              "        const docLinkHtml = 'Like what you see? Visit the ' +\n",
              "          '<a target=\"_blank\" href=https://colab.research.google.com/notebooks/data_table.ipynb>data table notebook</a>'\n",
              "          + ' to learn more about interactive tables.';\n",
              "        element.innerHTML = '';\n",
              "        dataTable['output_type'] = 'display_data';\n",
              "        await google.colab.output.renderOutput(dataTable, element);\n",
              "        const docLink = document.createElement('div');\n",
              "        docLink.innerHTML = docLinkHtml;\n",
              "        element.appendChild(docLink);\n",
              "      }\n",
              "    </script>\n",
              "  </div>\n",
              "\n",
              "\n",
              "<div id=\"df-c7dbcea7-8142-4e6c-9cbf-288ee93b595a\">\n",
              "  <button class=\"colab-df-quickchart\" onclick=\"quickchart('df-c7dbcea7-8142-4e6c-9cbf-288ee93b595a')\"\n",
              "            title=\"Suggest charts\"\n",
              "            style=\"display:none;\">\n",
              "\n",
              "<svg xmlns=\"http://www.w3.org/2000/svg\" height=\"24px\"viewBox=\"0 0 24 24\"\n",
              "     width=\"24px\">\n",
              "    <g>\n",
              "        <path d=\"M19 3H5c-1.1 0-2 .9-2 2v14c0 1.1.9 2 2 2h14c1.1 0 2-.9 2-2V5c0-1.1-.9-2-2-2zM9 17H7v-7h2v7zm4 0h-2V7h2v10zm4 0h-2v-4h2v4z\"/>\n",
              "    </g>\n",
              "</svg>\n",
              "  </button>\n",
              "\n",
              "<style>\n",
              "  .colab-df-quickchart {\n",
              "      --bg-color: #E8F0FE;\n",
              "      --fill-color: #1967D2;\n",
              "      --hover-bg-color: #E2EBFA;\n",
              "      --hover-fill-color: #174EA6;\n",
              "      --disabled-fill-color: #AAA;\n",
              "      --disabled-bg-color: #DDD;\n",
              "  }\n",
              "\n",
              "  [theme=dark] .colab-df-quickchart {\n",
              "      --bg-color: #3B4455;\n",
              "      --fill-color: #D2E3FC;\n",
              "      --hover-bg-color: #434B5C;\n",
              "      --hover-fill-color: #FFFFFF;\n",
              "      --disabled-bg-color: #3B4455;\n",
              "      --disabled-fill-color: #666;\n",
              "  }\n",
              "\n",
              "  .colab-df-quickchart {\n",
              "    background-color: var(--bg-color);\n",
              "    border: none;\n",
              "    border-radius: 50%;\n",
              "    cursor: pointer;\n",
              "    display: none;\n",
              "    fill: var(--fill-color);\n",
              "    height: 32px;\n",
              "    padding: 0;\n",
              "    width: 32px;\n",
              "  }\n",
              "\n",
              "  .colab-df-quickchart:hover {\n",
              "    background-color: var(--hover-bg-color);\n",
              "    box-shadow: 0 1px 2px rgba(60, 64, 67, 0.3), 0 1px 3px 1px rgba(60, 64, 67, 0.15);\n",
              "    fill: var(--button-hover-fill-color);\n",
              "  }\n",
              "\n",
              "  .colab-df-quickchart-complete:disabled,\n",
              "  .colab-df-quickchart-complete:disabled:hover {\n",
              "    background-color: var(--disabled-bg-color);\n",
              "    fill: var(--disabled-fill-color);\n",
              "    box-shadow: none;\n",
              "  }\n",
              "\n",
              "  .colab-df-spinner {\n",
              "    border: 2px solid var(--fill-color);\n",
              "    border-color: transparent;\n",
              "    border-bottom-color: var(--fill-color);\n",
              "    animation:\n",
              "      spin 1s steps(1) infinite;\n",
              "  }\n",
              "\n",
              "  @keyframes spin {\n",
              "    0% {\n",
              "      border-color: transparent;\n",
              "      border-bottom-color: var(--fill-color);\n",
              "      border-left-color: var(--fill-color);\n",
              "    }\n",
              "    20% {\n",
              "      border-color: transparent;\n",
              "      border-left-color: var(--fill-color);\n",
              "      border-top-color: var(--fill-color);\n",
              "    }\n",
              "    30% {\n",
              "      border-color: transparent;\n",
              "      border-left-color: var(--fill-color);\n",
              "      border-top-color: var(--fill-color);\n",
              "      border-right-color: var(--fill-color);\n",
              "    }\n",
              "    40% {\n",
              "      border-color: transparent;\n",
              "      border-right-color: var(--fill-color);\n",
              "      border-top-color: var(--fill-color);\n",
              "    }\n",
              "    60% {\n",
              "      border-color: transparent;\n",
              "      border-right-color: var(--fill-color);\n",
              "    }\n",
              "    80% {\n",
              "      border-color: transparent;\n",
              "      border-right-color: var(--fill-color);\n",
              "      border-bottom-color: var(--fill-color);\n",
              "    }\n",
              "    90% {\n",
              "      border-color: transparent;\n",
              "      border-bottom-color: var(--fill-color);\n",
              "    }\n",
              "  }\n",
              "</style>\n",
              "\n",
              "  <script>\n",
              "    async function quickchart(key) {\n",
              "      const quickchartButtonEl =\n",
              "        document.querySelector('#' + key + ' button');\n",
              "      quickchartButtonEl.disabled = true;  // To prevent multiple clicks.\n",
              "      quickchartButtonEl.classList.add('colab-df-spinner');\n",
              "      try {\n",
              "        const charts = await google.colab.kernel.invokeFunction(\n",
              "            'suggestCharts', [key], {});\n",
              "      } catch (error) {\n",
              "        console.error('Error during call to suggestCharts:', error);\n",
              "      }\n",
              "      quickchartButtonEl.classList.remove('colab-df-spinner');\n",
              "      quickchartButtonEl.classList.add('colab-df-quickchart-complete');\n",
              "    }\n",
              "    (() => {\n",
              "      let quickchartButtonEl =\n",
              "        document.querySelector('#df-c7dbcea7-8142-4e6c-9cbf-288ee93b595a button');\n",
              "      quickchartButtonEl.style.display =\n",
              "        google.colab.kernel.accessAllowed ? 'block' : 'none';\n",
              "    })();\n",
              "  </script>\n",
              "</div>\n",
              "    </div>\n",
              "  </div>\n"
            ]
          },
          "metadata": {},
          "execution_count": 28
        }
      ]
    },
    {
      "cell_type": "markdown",
      "source": [
        "Sekarang data telah siap untuk dicerna oleh model."
      ],
      "metadata": {
        "id": "Oerew4OX3px_"
      }
    },
    {
      "cell_type": "markdown",
      "source": [
        "# Model Definition"
      ],
      "metadata": {
        "id": "OmEreAih3u5E"
      }
    },
    {
      "cell_type": "markdown",
      "source": [
        "Model yang didefinisikan di sini adalah KNN, SVM, Decision Tree, dan Random Forest. Akan dibuat pipeline untuk masing masing model yang telah melibatkan langkah-langkah feature-engineering di atas."
      ],
      "metadata": {
        "id": "R-8BSocg3zCd"
      }
    },
    {
      "cell_type": "markdown",
      "source": [
        "## Define Model KNN, SVM, Random Forest, dan Decision Tree"
      ],
      "metadata": {
        "id": "nOOc0nKqK_t5"
      }
    },
    {
      "cell_type": "code",
      "source": [
        "# Define KNN\n",
        "\n",
        "knn = KNeighborsClassifier(n_neighbors=50)\n",
        "knn"
      ],
      "metadata": {
        "colab": {
          "base_uri": "https://localhost:8080/",
          "height": 75
        },
        "id": "s8thpRt9g6s5",
        "outputId": "9b90a191-4f8b-43b1-d0d8-159f5c4d9c0e"
      },
      "execution_count": 29,
      "outputs": [
        {
          "output_type": "execute_result",
          "data": {
            "text/plain": [
              "KNeighborsClassifier(n_neighbors=50)"
            ],
            "text/html": [
              "<style>#sk-container-id-1 {color: black;background-color: white;}#sk-container-id-1 pre{padding: 0;}#sk-container-id-1 div.sk-toggleable {background-color: white;}#sk-container-id-1 label.sk-toggleable__label {cursor: pointer;display: block;width: 100%;margin-bottom: 0;padding: 0.3em;box-sizing: border-box;text-align: center;}#sk-container-id-1 label.sk-toggleable__label-arrow:before {content: \"▸\";float: left;margin-right: 0.25em;color: #696969;}#sk-container-id-1 label.sk-toggleable__label-arrow:hover:before {color: black;}#sk-container-id-1 div.sk-estimator:hover label.sk-toggleable__label-arrow:before {color: black;}#sk-container-id-1 div.sk-toggleable__content {max-height: 0;max-width: 0;overflow: hidden;text-align: left;background-color: #f0f8ff;}#sk-container-id-1 div.sk-toggleable__content pre {margin: 0.2em;color: black;border-radius: 0.25em;background-color: #f0f8ff;}#sk-container-id-1 input.sk-toggleable__control:checked~div.sk-toggleable__content {max-height: 200px;max-width: 100%;overflow: auto;}#sk-container-id-1 input.sk-toggleable__control:checked~label.sk-toggleable__label-arrow:before {content: \"▾\";}#sk-container-id-1 div.sk-estimator input.sk-toggleable__control:checked~label.sk-toggleable__label {background-color: #d4ebff;}#sk-container-id-1 div.sk-label input.sk-toggleable__control:checked~label.sk-toggleable__label {background-color: #d4ebff;}#sk-container-id-1 input.sk-hidden--visually {border: 0;clip: rect(1px 1px 1px 1px);clip: rect(1px, 1px, 1px, 1px);height: 1px;margin: -1px;overflow: hidden;padding: 0;position: absolute;width: 1px;}#sk-container-id-1 div.sk-estimator {font-family: monospace;background-color: #f0f8ff;border: 1px dotted black;border-radius: 0.25em;box-sizing: border-box;margin-bottom: 0.5em;}#sk-container-id-1 div.sk-estimator:hover {background-color: #d4ebff;}#sk-container-id-1 div.sk-parallel-item::after {content: \"\";width: 100%;border-bottom: 1px solid gray;flex-grow: 1;}#sk-container-id-1 div.sk-label:hover label.sk-toggleable__label {background-color: #d4ebff;}#sk-container-id-1 div.sk-serial::before {content: \"\";position: absolute;border-left: 1px solid gray;box-sizing: border-box;top: 0;bottom: 0;left: 50%;z-index: 0;}#sk-container-id-1 div.sk-serial {display: flex;flex-direction: column;align-items: center;background-color: white;padding-right: 0.2em;padding-left: 0.2em;position: relative;}#sk-container-id-1 div.sk-item {position: relative;z-index: 1;}#sk-container-id-1 div.sk-parallel {display: flex;align-items: stretch;justify-content: center;background-color: white;position: relative;}#sk-container-id-1 div.sk-item::before, #sk-container-id-1 div.sk-parallel-item::before {content: \"\";position: absolute;border-left: 1px solid gray;box-sizing: border-box;top: 0;bottom: 0;left: 50%;z-index: -1;}#sk-container-id-1 div.sk-parallel-item {display: flex;flex-direction: column;z-index: 1;position: relative;background-color: white;}#sk-container-id-1 div.sk-parallel-item:first-child::after {align-self: flex-end;width: 50%;}#sk-container-id-1 div.sk-parallel-item:last-child::after {align-self: flex-start;width: 50%;}#sk-container-id-1 div.sk-parallel-item:only-child::after {width: 0;}#sk-container-id-1 div.sk-dashed-wrapped {border: 1px dashed gray;margin: 0 0.4em 0.5em 0.4em;box-sizing: border-box;padding-bottom: 0.4em;background-color: white;}#sk-container-id-1 div.sk-label label {font-family: monospace;font-weight: bold;display: inline-block;line-height: 1.2em;}#sk-container-id-1 div.sk-label-container {text-align: center;}#sk-container-id-1 div.sk-container {/* jupyter's `normalize.less` sets `[hidden] { display: none; }` but bootstrap.min.css set `[hidden] { display: none !important; }` so we also need the `!important` here to be able to override the default hidden behavior on the sphinx rendered scikit-learn.org. See: https://github.com/scikit-learn/scikit-learn/issues/21755 */display: inline-block !important;position: relative;}#sk-container-id-1 div.sk-text-repr-fallback {display: none;}</style><div id=\"sk-container-id-1\" class=\"sk-top-container\"><div class=\"sk-text-repr-fallback\"><pre>KNeighborsClassifier(n_neighbors=50)</pre><b>In a Jupyter environment, please rerun this cell to show the HTML representation or trust the notebook. <br />On GitHub, the HTML representation is unable to render, please try loading this page with nbviewer.org.</b></div><div class=\"sk-container\" hidden><div class=\"sk-item\"><div class=\"sk-estimator sk-toggleable\"><input class=\"sk-toggleable__control sk-hidden--visually\" id=\"sk-estimator-id-1\" type=\"checkbox\" checked><label for=\"sk-estimator-id-1\" class=\"sk-toggleable__label sk-toggleable__label-arrow\">KNeighborsClassifier</label><div class=\"sk-toggleable__content\"><pre>KNeighborsClassifier(n_neighbors=50)</pre></div></div></div></div></div>"
            ]
          },
          "metadata": {},
          "execution_count": 29
        }
      ]
    },
    {
      "cell_type": "code",
      "source": [
        "# Define SVM\n",
        "\n",
        "svm = SVC()\n",
        "svm"
      ],
      "metadata": {
        "colab": {
          "base_uri": "https://localhost:8080/",
          "height": 75
        },
        "id": "ki4Euafag9rr",
        "outputId": "935c572a-b513-4563-add5-f68b1ed56b49"
      },
      "execution_count": 30,
      "outputs": [
        {
          "output_type": "execute_result",
          "data": {
            "text/plain": [
              "SVC()"
            ],
            "text/html": [
              "<style>#sk-container-id-2 {color: black;background-color: white;}#sk-container-id-2 pre{padding: 0;}#sk-container-id-2 div.sk-toggleable {background-color: white;}#sk-container-id-2 label.sk-toggleable__label {cursor: pointer;display: block;width: 100%;margin-bottom: 0;padding: 0.3em;box-sizing: border-box;text-align: center;}#sk-container-id-2 label.sk-toggleable__label-arrow:before {content: \"▸\";float: left;margin-right: 0.25em;color: #696969;}#sk-container-id-2 label.sk-toggleable__label-arrow:hover:before {color: black;}#sk-container-id-2 div.sk-estimator:hover label.sk-toggleable__label-arrow:before {color: black;}#sk-container-id-2 div.sk-toggleable__content {max-height: 0;max-width: 0;overflow: hidden;text-align: left;background-color: #f0f8ff;}#sk-container-id-2 div.sk-toggleable__content pre {margin: 0.2em;color: black;border-radius: 0.25em;background-color: #f0f8ff;}#sk-container-id-2 input.sk-toggleable__control:checked~div.sk-toggleable__content {max-height: 200px;max-width: 100%;overflow: auto;}#sk-container-id-2 input.sk-toggleable__control:checked~label.sk-toggleable__label-arrow:before {content: \"▾\";}#sk-container-id-2 div.sk-estimator input.sk-toggleable__control:checked~label.sk-toggleable__label {background-color: #d4ebff;}#sk-container-id-2 div.sk-label input.sk-toggleable__control:checked~label.sk-toggleable__label {background-color: #d4ebff;}#sk-container-id-2 input.sk-hidden--visually {border: 0;clip: rect(1px 1px 1px 1px);clip: rect(1px, 1px, 1px, 1px);height: 1px;margin: -1px;overflow: hidden;padding: 0;position: absolute;width: 1px;}#sk-container-id-2 div.sk-estimator {font-family: monospace;background-color: #f0f8ff;border: 1px dotted black;border-radius: 0.25em;box-sizing: border-box;margin-bottom: 0.5em;}#sk-container-id-2 div.sk-estimator:hover {background-color: #d4ebff;}#sk-container-id-2 div.sk-parallel-item::after {content: \"\";width: 100%;border-bottom: 1px solid gray;flex-grow: 1;}#sk-container-id-2 div.sk-label:hover label.sk-toggleable__label {background-color: #d4ebff;}#sk-container-id-2 div.sk-serial::before {content: \"\";position: absolute;border-left: 1px solid gray;box-sizing: border-box;top: 0;bottom: 0;left: 50%;z-index: 0;}#sk-container-id-2 div.sk-serial {display: flex;flex-direction: column;align-items: center;background-color: white;padding-right: 0.2em;padding-left: 0.2em;position: relative;}#sk-container-id-2 div.sk-item {position: relative;z-index: 1;}#sk-container-id-2 div.sk-parallel {display: flex;align-items: stretch;justify-content: center;background-color: white;position: relative;}#sk-container-id-2 div.sk-item::before, #sk-container-id-2 div.sk-parallel-item::before {content: \"\";position: absolute;border-left: 1px solid gray;box-sizing: border-box;top: 0;bottom: 0;left: 50%;z-index: -1;}#sk-container-id-2 div.sk-parallel-item {display: flex;flex-direction: column;z-index: 1;position: relative;background-color: white;}#sk-container-id-2 div.sk-parallel-item:first-child::after {align-self: flex-end;width: 50%;}#sk-container-id-2 div.sk-parallel-item:last-child::after {align-self: flex-start;width: 50%;}#sk-container-id-2 div.sk-parallel-item:only-child::after {width: 0;}#sk-container-id-2 div.sk-dashed-wrapped {border: 1px dashed gray;margin: 0 0.4em 0.5em 0.4em;box-sizing: border-box;padding-bottom: 0.4em;background-color: white;}#sk-container-id-2 div.sk-label label {font-family: monospace;font-weight: bold;display: inline-block;line-height: 1.2em;}#sk-container-id-2 div.sk-label-container {text-align: center;}#sk-container-id-2 div.sk-container {/* jupyter's `normalize.less` sets `[hidden] { display: none; }` but bootstrap.min.css set `[hidden] { display: none !important; }` so we also need the `!important` here to be able to override the default hidden behavior on the sphinx rendered scikit-learn.org. See: https://github.com/scikit-learn/scikit-learn/issues/21755 */display: inline-block !important;position: relative;}#sk-container-id-2 div.sk-text-repr-fallback {display: none;}</style><div id=\"sk-container-id-2\" class=\"sk-top-container\"><div class=\"sk-text-repr-fallback\"><pre>SVC()</pre><b>In a Jupyter environment, please rerun this cell to show the HTML representation or trust the notebook. <br />On GitHub, the HTML representation is unable to render, please try loading this page with nbviewer.org.</b></div><div class=\"sk-container\" hidden><div class=\"sk-item\"><div class=\"sk-estimator sk-toggleable\"><input class=\"sk-toggleable__control sk-hidden--visually\" id=\"sk-estimator-id-2\" type=\"checkbox\" checked><label for=\"sk-estimator-id-2\" class=\"sk-toggleable__label sk-toggleable__label-arrow\">SVC</label><div class=\"sk-toggleable__content\"><pre>SVC()</pre></div></div></div></div></div>"
            ]
          },
          "metadata": {},
          "execution_count": 30
        }
      ]
    },
    {
      "cell_type": "code",
      "source": [
        "# Define Random Forest\n",
        "\n",
        "randFor = RandomForestClassifier()\n",
        "randFor"
      ],
      "metadata": {
        "colab": {
          "base_uri": "https://localhost:8080/",
          "height": 75
        },
        "id": "PPogIPCtg_Z0",
        "outputId": "0a1ff407-ec95-4709-894c-42d5f4452397"
      },
      "execution_count": 31,
      "outputs": [
        {
          "output_type": "execute_result",
          "data": {
            "text/plain": [
              "RandomForestClassifier()"
            ],
            "text/html": [
              "<style>#sk-container-id-3 {color: black;background-color: white;}#sk-container-id-3 pre{padding: 0;}#sk-container-id-3 div.sk-toggleable {background-color: white;}#sk-container-id-3 label.sk-toggleable__label {cursor: pointer;display: block;width: 100%;margin-bottom: 0;padding: 0.3em;box-sizing: border-box;text-align: center;}#sk-container-id-3 label.sk-toggleable__label-arrow:before {content: \"▸\";float: left;margin-right: 0.25em;color: #696969;}#sk-container-id-3 label.sk-toggleable__label-arrow:hover:before {color: black;}#sk-container-id-3 div.sk-estimator:hover label.sk-toggleable__label-arrow:before {color: black;}#sk-container-id-3 div.sk-toggleable__content {max-height: 0;max-width: 0;overflow: hidden;text-align: left;background-color: #f0f8ff;}#sk-container-id-3 div.sk-toggleable__content pre {margin: 0.2em;color: black;border-radius: 0.25em;background-color: #f0f8ff;}#sk-container-id-3 input.sk-toggleable__control:checked~div.sk-toggleable__content {max-height: 200px;max-width: 100%;overflow: auto;}#sk-container-id-3 input.sk-toggleable__control:checked~label.sk-toggleable__label-arrow:before {content: \"▾\";}#sk-container-id-3 div.sk-estimator input.sk-toggleable__control:checked~label.sk-toggleable__label {background-color: #d4ebff;}#sk-container-id-3 div.sk-label input.sk-toggleable__control:checked~label.sk-toggleable__label {background-color: #d4ebff;}#sk-container-id-3 input.sk-hidden--visually {border: 0;clip: rect(1px 1px 1px 1px);clip: rect(1px, 1px, 1px, 1px);height: 1px;margin: -1px;overflow: hidden;padding: 0;position: absolute;width: 1px;}#sk-container-id-3 div.sk-estimator {font-family: monospace;background-color: #f0f8ff;border: 1px dotted black;border-radius: 0.25em;box-sizing: border-box;margin-bottom: 0.5em;}#sk-container-id-3 div.sk-estimator:hover {background-color: #d4ebff;}#sk-container-id-3 div.sk-parallel-item::after {content: \"\";width: 100%;border-bottom: 1px solid gray;flex-grow: 1;}#sk-container-id-3 div.sk-label:hover label.sk-toggleable__label {background-color: #d4ebff;}#sk-container-id-3 div.sk-serial::before {content: \"\";position: absolute;border-left: 1px solid gray;box-sizing: border-box;top: 0;bottom: 0;left: 50%;z-index: 0;}#sk-container-id-3 div.sk-serial {display: flex;flex-direction: column;align-items: center;background-color: white;padding-right: 0.2em;padding-left: 0.2em;position: relative;}#sk-container-id-3 div.sk-item {position: relative;z-index: 1;}#sk-container-id-3 div.sk-parallel {display: flex;align-items: stretch;justify-content: center;background-color: white;position: relative;}#sk-container-id-3 div.sk-item::before, #sk-container-id-3 div.sk-parallel-item::before {content: \"\";position: absolute;border-left: 1px solid gray;box-sizing: border-box;top: 0;bottom: 0;left: 50%;z-index: -1;}#sk-container-id-3 div.sk-parallel-item {display: flex;flex-direction: column;z-index: 1;position: relative;background-color: white;}#sk-container-id-3 div.sk-parallel-item:first-child::after {align-self: flex-end;width: 50%;}#sk-container-id-3 div.sk-parallel-item:last-child::after {align-self: flex-start;width: 50%;}#sk-container-id-3 div.sk-parallel-item:only-child::after {width: 0;}#sk-container-id-3 div.sk-dashed-wrapped {border: 1px dashed gray;margin: 0 0.4em 0.5em 0.4em;box-sizing: border-box;padding-bottom: 0.4em;background-color: white;}#sk-container-id-3 div.sk-label label {font-family: monospace;font-weight: bold;display: inline-block;line-height: 1.2em;}#sk-container-id-3 div.sk-label-container {text-align: center;}#sk-container-id-3 div.sk-container {/* jupyter's `normalize.less` sets `[hidden] { display: none; }` but bootstrap.min.css set `[hidden] { display: none !important; }` so we also need the `!important` here to be able to override the default hidden behavior on the sphinx rendered scikit-learn.org. See: https://github.com/scikit-learn/scikit-learn/issues/21755 */display: inline-block !important;position: relative;}#sk-container-id-3 div.sk-text-repr-fallback {display: none;}</style><div id=\"sk-container-id-3\" class=\"sk-top-container\"><div class=\"sk-text-repr-fallback\"><pre>RandomForestClassifier()</pre><b>In a Jupyter environment, please rerun this cell to show the HTML representation or trust the notebook. <br />On GitHub, the HTML representation is unable to render, please try loading this page with nbviewer.org.</b></div><div class=\"sk-container\" hidden><div class=\"sk-item\"><div class=\"sk-estimator sk-toggleable\"><input class=\"sk-toggleable__control sk-hidden--visually\" id=\"sk-estimator-id-3\" type=\"checkbox\" checked><label for=\"sk-estimator-id-3\" class=\"sk-toggleable__label sk-toggleable__label-arrow\">RandomForestClassifier</label><div class=\"sk-toggleable__content\"><pre>RandomForestClassifier()</pre></div></div></div></div></div>"
            ]
          },
          "metadata": {},
          "execution_count": 31
        }
      ]
    },
    {
      "cell_type": "code",
      "source": [
        "# Define Decision Tree\n",
        "\n",
        "decTree = DecisionTreeClassifier()\n",
        "decTree"
      ],
      "metadata": {
        "colab": {
          "base_uri": "https://localhost:8080/",
          "height": 75
        },
        "id": "Y9_VnmHThH1k",
        "outputId": "90fb4ca7-2a2b-4956-cabf-6b4b8df7bad2"
      },
      "execution_count": 32,
      "outputs": [
        {
          "output_type": "execute_result",
          "data": {
            "text/plain": [
              "DecisionTreeClassifier()"
            ],
            "text/html": [
              "<style>#sk-container-id-4 {color: black;background-color: white;}#sk-container-id-4 pre{padding: 0;}#sk-container-id-4 div.sk-toggleable {background-color: white;}#sk-container-id-4 label.sk-toggleable__label {cursor: pointer;display: block;width: 100%;margin-bottom: 0;padding: 0.3em;box-sizing: border-box;text-align: center;}#sk-container-id-4 label.sk-toggleable__label-arrow:before {content: \"▸\";float: left;margin-right: 0.25em;color: #696969;}#sk-container-id-4 label.sk-toggleable__label-arrow:hover:before {color: black;}#sk-container-id-4 div.sk-estimator:hover label.sk-toggleable__label-arrow:before {color: black;}#sk-container-id-4 div.sk-toggleable__content {max-height: 0;max-width: 0;overflow: hidden;text-align: left;background-color: #f0f8ff;}#sk-container-id-4 div.sk-toggleable__content pre {margin: 0.2em;color: black;border-radius: 0.25em;background-color: #f0f8ff;}#sk-container-id-4 input.sk-toggleable__control:checked~div.sk-toggleable__content {max-height: 200px;max-width: 100%;overflow: auto;}#sk-container-id-4 input.sk-toggleable__control:checked~label.sk-toggleable__label-arrow:before {content: \"▾\";}#sk-container-id-4 div.sk-estimator input.sk-toggleable__control:checked~label.sk-toggleable__label {background-color: #d4ebff;}#sk-container-id-4 div.sk-label input.sk-toggleable__control:checked~label.sk-toggleable__label {background-color: #d4ebff;}#sk-container-id-4 input.sk-hidden--visually {border: 0;clip: rect(1px 1px 1px 1px);clip: rect(1px, 1px, 1px, 1px);height: 1px;margin: -1px;overflow: hidden;padding: 0;position: absolute;width: 1px;}#sk-container-id-4 div.sk-estimator {font-family: monospace;background-color: #f0f8ff;border: 1px dotted black;border-radius: 0.25em;box-sizing: border-box;margin-bottom: 0.5em;}#sk-container-id-4 div.sk-estimator:hover {background-color: #d4ebff;}#sk-container-id-4 div.sk-parallel-item::after {content: \"\";width: 100%;border-bottom: 1px solid gray;flex-grow: 1;}#sk-container-id-4 div.sk-label:hover label.sk-toggleable__label {background-color: #d4ebff;}#sk-container-id-4 div.sk-serial::before {content: \"\";position: absolute;border-left: 1px solid gray;box-sizing: border-box;top: 0;bottom: 0;left: 50%;z-index: 0;}#sk-container-id-4 div.sk-serial {display: flex;flex-direction: column;align-items: center;background-color: white;padding-right: 0.2em;padding-left: 0.2em;position: relative;}#sk-container-id-4 div.sk-item {position: relative;z-index: 1;}#sk-container-id-4 div.sk-parallel {display: flex;align-items: stretch;justify-content: center;background-color: white;position: relative;}#sk-container-id-4 div.sk-item::before, #sk-container-id-4 div.sk-parallel-item::before {content: \"\";position: absolute;border-left: 1px solid gray;box-sizing: border-box;top: 0;bottom: 0;left: 50%;z-index: -1;}#sk-container-id-4 div.sk-parallel-item {display: flex;flex-direction: column;z-index: 1;position: relative;background-color: white;}#sk-container-id-4 div.sk-parallel-item:first-child::after {align-self: flex-end;width: 50%;}#sk-container-id-4 div.sk-parallel-item:last-child::after {align-self: flex-start;width: 50%;}#sk-container-id-4 div.sk-parallel-item:only-child::after {width: 0;}#sk-container-id-4 div.sk-dashed-wrapped {border: 1px dashed gray;margin: 0 0.4em 0.5em 0.4em;box-sizing: border-box;padding-bottom: 0.4em;background-color: white;}#sk-container-id-4 div.sk-label label {font-family: monospace;font-weight: bold;display: inline-block;line-height: 1.2em;}#sk-container-id-4 div.sk-label-container {text-align: center;}#sk-container-id-4 div.sk-container {/* jupyter's `normalize.less` sets `[hidden] { display: none; }` but bootstrap.min.css set `[hidden] { display: none !important; }` so we also need the `!important` here to be able to override the default hidden behavior on the sphinx rendered scikit-learn.org. See: https://github.com/scikit-learn/scikit-learn/issues/21755 */display: inline-block !important;position: relative;}#sk-container-id-4 div.sk-text-repr-fallback {display: none;}</style><div id=\"sk-container-id-4\" class=\"sk-top-container\"><div class=\"sk-text-repr-fallback\"><pre>DecisionTreeClassifier()</pre><b>In a Jupyter environment, please rerun this cell to show the HTML representation or trust the notebook. <br />On GitHub, the HTML representation is unable to render, please try loading this page with nbviewer.org.</b></div><div class=\"sk-container\" hidden><div class=\"sk-item\"><div class=\"sk-estimator sk-toggleable\"><input class=\"sk-toggleable__control sk-hidden--visually\" id=\"sk-estimator-id-4\" type=\"checkbox\" checked><label for=\"sk-estimator-id-4\" class=\"sk-toggleable__label sk-toggleable__label-arrow\">DecisionTreeClassifier</label><div class=\"sk-toggleable__content\"><pre>DecisionTreeClassifier()</pre></div></div></div></div></div>"
            ]
          },
          "metadata": {},
          "execution_count": 32
        }
      ]
    },
    {
      "cell_type": "markdown",
      "source": [
        "## Define Pipeline untuk Scaling dan Model"
      ],
      "metadata": {
        "id": "knVrR1ztLyos"
      }
    },
    {
      "cell_type": "code",
      "source": [
        "# Definisikan pipeline setiap model\n",
        "\n",
        "# Pipeline untuk scaling\n",
        "preProcessPipe = ColumnTransformer([\n",
        "    ('scaleStandard', StandardScaler(), ['Age', 'Height', 'Weight', 'Wins', 'Mental Resilience']),\n",
        "    ('scaleMiMa', MinMaxScaler(), ['Battle Experience']),\n",
        "    ('scaleRob', RobustScaler(), ['Losses'])\n",
        "])\n",
        "\n",
        "# Pipeline scaling dan training model SVM\n",
        "pipeSVC = Pipeline([\n",
        "    ('scaler', preProcessPipe),\n",
        "    ('svm', svm)\n",
        "])\n",
        "\n",
        "# Pipeline scaling dan training model KNN\n",
        "pipeKNN = Pipeline([\n",
        "    ('scaler', preProcessPipe),\n",
        "    ('knn', knn)\n",
        "])\n",
        "\n",
        "# Pipeline scaling dan training model Random Forest\n",
        "pipeRF = Pipeline([\n",
        "    ('scaler', preProcessPipe),\n",
        "    ('randFor', randFor)\n",
        "])\n",
        "\n",
        "# Pipeline scaling dan training model Decision Tree\n",
        "pipeDT = Pipeline([\n",
        "    ('scaler', preProcessPipe),\n",
        "    ('decTree', decTree)\n",
        "])"
      ],
      "metadata": {
        "id": "vNlGEA5_hTzI"
      },
      "execution_count": 33,
      "outputs": []
    },
    {
      "cell_type": "markdown",
      "source": [
        "# Model Training"
      ],
      "metadata": {
        "id": "wSsRNyR5fTxQ"
      }
    },
    {
      "cell_type": "markdown",
      "source": [
        "Pada bagian ini, model-model akan ditrain ke dataset yang telah disetup. Model yang terlibat dalam pipeline akan ditrain ke fitur-fitur yang belum discale karena di dalam pipelinenya telah melibatkan feature-scaling."
      ],
      "metadata": {
        "id": "KOE-msvjfV45"
      }
    },
    {
      "cell_type": "markdown",
      "source": [
        "## Training SVM"
      ],
      "metadata": {
        "id": "Z4-YtNXeKK-r"
      }
    },
    {
      "cell_type": "code",
      "source": [
        "# Training SVM\n",
        "\n",
        "svm.fit(xTrainFinal, yTrain)"
      ],
      "metadata": {
        "colab": {
          "base_uri": "https://localhost:8080/",
          "height": 129
        },
        "id": "0VtpI41Z5RV5",
        "outputId": "ca7f2db4-a116-4c5d-c1dc-e2076b80339b"
      },
      "execution_count": 47,
      "outputs": [
        {
          "output_type": "stream",
          "name": "stderr",
          "text": [
            "/usr/local/lib/python3.10/dist-packages/sklearn/utils/validation.py:1143: DataConversionWarning: A column-vector y was passed when a 1d array was expected. Please change the shape of y to (n_samples, ), for example using ravel().\n",
            "  y = column_or_1d(y, warn=True)\n"
          ]
        },
        {
          "output_type": "execute_result",
          "data": {
            "text/plain": [
              "SVC()"
            ],
            "text/html": [
              "<style>#sk-container-id-11 {color: black;background-color: white;}#sk-container-id-11 pre{padding: 0;}#sk-container-id-11 div.sk-toggleable {background-color: white;}#sk-container-id-11 label.sk-toggleable__label {cursor: pointer;display: block;width: 100%;margin-bottom: 0;padding: 0.3em;box-sizing: border-box;text-align: center;}#sk-container-id-11 label.sk-toggleable__label-arrow:before {content: \"▸\";float: left;margin-right: 0.25em;color: #696969;}#sk-container-id-11 label.sk-toggleable__label-arrow:hover:before {color: black;}#sk-container-id-11 div.sk-estimator:hover label.sk-toggleable__label-arrow:before {color: black;}#sk-container-id-11 div.sk-toggleable__content {max-height: 0;max-width: 0;overflow: hidden;text-align: left;background-color: #f0f8ff;}#sk-container-id-11 div.sk-toggleable__content pre {margin: 0.2em;color: black;border-radius: 0.25em;background-color: #f0f8ff;}#sk-container-id-11 input.sk-toggleable__control:checked~div.sk-toggleable__content {max-height: 200px;max-width: 100%;overflow: auto;}#sk-container-id-11 input.sk-toggleable__control:checked~label.sk-toggleable__label-arrow:before {content: \"▾\";}#sk-container-id-11 div.sk-estimator input.sk-toggleable__control:checked~label.sk-toggleable__label {background-color: #d4ebff;}#sk-container-id-11 div.sk-label input.sk-toggleable__control:checked~label.sk-toggleable__label {background-color: #d4ebff;}#sk-container-id-11 input.sk-hidden--visually {border: 0;clip: rect(1px 1px 1px 1px);clip: rect(1px, 1px, 1px, 1px);height: 1px;margin: -1px;overflow: hidden;padding: 0;position: absolute;width: 1px;}#sk-container-id-11 div.sk-estimator {font-family: monospace;background-color: #f0f8ff;border: 1px dotted black;border-radius: 0.25em;box-sizing: border-box;margin-bottom: 0.5em;}#sk-container-id-11 div.sk-estimator:hover {background-color: #d4ebff;}#sk-container-id-11 div.sk-parallel-item::after {content: \"\";width: 100%;border-bottom: 1px solid gray;flex-grow: 1;}#sk-container-id-11 div.sk-label:hover label.sk-toggleable__label {background-color: #d4ebff;}#sk-container-id-11 div.sk-serial::before {content: \"\";position: absolute;border-left: 1px solid gray;box-sizing: border-box;top: 0;bottom: 0;left: 50%;z-index: 0;}#sk-container-id-11 div.sk-serial {display: flex;flex-direction: column;align-items: center;background-color: white;padding-right: 0.2em;padding-left: 0.2em;position: relative;}#sk-container-id-11 div.sk-item {position: relative;z-index: 1;}#sk-container-id-11 div.sk-parallel {display: flex;align-items: stretch;justify-content: center;background-color: white;position: relative;}#sk-container-id-11 div.sk-item::before, #sk-container-id-11 div.sk-parallel-item::before {content: \"\";position: absolute;border-left: 1px solid gray;box-sizing: border-box;top: 0;bottom: 0;left: 50%;z-index: -1;}#sk-container-id-11 div.sk-parallel-item {display: flex;flex-direction: column;z-index: 1;position: relative;background-color: white;}#sk-container-id-11 div.sk-parallel-item:first-child::after {align-self: flex-end;width: 50%;}#sk-container-id-11 div.sk-parallel-item:last-child::after {align-self: flex-start;width: 50%;}#sk-container-id-11 div.sk-parallel-item:only-child::after {width: 0;}#sk-container-id-11 div.sk-dashed-wrapped {border: 1px dashed gray;margin: 0 0.4em 0.5em 0.4em;box-sizing: border-box;padding-bottom: 0.4em;background-color: white;}#sk-container-id-11 div.sk-label label {font-family: monospace;font-weight: bold;display: inline-block;line-height: 1.2em;}#sk-container-id-11 div.sk-label-container {text-align: center;}#sk-container-id-11 div.sk-container {/* jupyter's `normalize.less` sets `[hidden] { display: none; }` but bootstrap.min.css set `[hidden] { display: none !important; }` so we also need the `!important` here to be able to override the default hidden behavior on the sphinx rendered scikit-learn.org. See: https://github.com/scikit-learn/scikit-learn/issues/21755 */display: inline-block !important;position: relative;}#sk-container-id-11 div.sk-text-repr-fallback {display: none;}</style><div id=\"sk-container-id-11\" class=\"sk-top-container\"><div class=\"sk-text-repr-fallback\"><pre>SVC()</pre><b>In a Jupyter environment, please rerun this cell to show the HTML representation or trust the notebook. <br />On GitHub, the HTML representation is unable to render, please try loading this page with nbviewer.org.</b></div><div class=\"sk-container\" hidden><div class=\"sk-item\"><div class=\"sk-estimator sk-toggleable\"><input class=\"sk-toggleable__control sk-hidden--visually\" id=\"sk-estimator-id-43\" type=\"checkbox\" checked><label for=\"sk-estimator-id-43\" class=\"sk-toggleable__label sk-toggleable__label-arrow\">SVC</label><div class=\"sk-toggleable__content\"><pre>SVC()</pre></div></div></div></div></div>"
            ]
          },
          "metadata": {},
          "execution_count": 47
        }
      ]
    },
    {
      "cell_type": "code",
      "source": [
        "# Training SVM dengan pipeline\n",
        "\n",
        "pipeSVC.fit(xTrain, yTrain)"
      ],
      "metadata": {
        "colab": {
          "base_uri": "https://localhost:8080/",
          "height": 246
        },
        "id": "Z2DiZX4P5Yvb",
        "outputId": "a55a628a-89bb-4a21-b98f-07f72be1d649"
      },
      "execution_count": 35,
      "outputs": [
        {
          "output_type": "stream",
          "name": "stderr",
          "text": [
            "/usr/local/lib/python3.10/dist-packages/sklearn/utils/validation.py:1143: DataConversionWarning: A column-vector y was passed when a 1d array was expected. Please change the shape of y to (n_samples, ), for example using ravel().\n",
            "  y = column_or_1d(y, warn=True)\n"
          ]
        },
        {
          "output_type": "execute_result",
          "data": {
            "text/plain": [
              "Pipeline(steps=[('scaler',\n",
              "                 ColumnTransformer(transformers=[('scaleStandard',\n",
              "                                                  StandardScaler(),\n",
              "                                                  ['Age', 'Height', 'Weight',\n",
              "                                                   'Wins',\n",
              "                                                   'Mental Resilience']),\n",
              "                                                 ('scaleMiMa', MinMaxScaler(),\n",
              "                                                  ['Battle Experience']),\n",
              "                                                 ('scaleRob', RobustScaler(),\n",
              "                                                  ['Losses'])])),\n",
              "                ('svm', SVC())])"
            ],
            "text/html": [
              "<style>#sk-container-id-6 {color: black;background-color: white;}#sk-container-id-6 pre{padding: 0;}#sk-container-id-6 div.sk-toggleable {background-color: white;}#sk-container-id-6 label.sk-toggleable__label {cursor: pointer;display: block;width: 100%;margin-bottom: 0;padding: 0.3em;box-sizing: border-box;text-align: center;}#sk-container-id-6 label.sk-toggleable__label-arrow:before {content: \"▸\";float: left;margin-right: 0.25em;color: #696969;}#sk-container-id-6 label.sk-toggleable__label-arrow:hover:before {color: black;}#sk-container-id-6 div.sk-estimator:hover label.sk-toggleable__label-arrow:before {color: black;}#sk-container-id-6 div.sk-toggleable__content {max-height: 0;max-width: 0;overflow: hidden;text-align: left;background-color: #f0f8ff;}#sk-container-id-6 div.sk-toggleable__content pre {margin: 0.2em;color: black;border-radius: 0.25em;background-color: #f0f8ff;}#sk-container-id-6 input.sk-toggleable__control:checked~div.sk-toggleable__content {max-height: 200px;max-width: 100%;overflow: auto;}#sk-container-id-6 input.sk-toggleable__control:checked~label.sk-toggleable__label-arrow:before {content: \"▾\";}#sk-container-id-6 div.sk-estimator input.sk-toggleable__control:checked~label.sk-toggleable__label {background-color: #d4ebff;}#sk-container-id-6 div.sk-label input.sk-toggleable__control:checked~label.sk-toggleable__label {background-color: #d4ebff;}#sk-container-id-6 input.sk-hidden--visually {border: 0;clip: rect(1px 1px 1px 1px);clip: rect(1px, 1px, 1px, 1px);height: 1px;margin: -1px;overflow: hidden;padding: 0;position: absolute;width: 1px;}#sk-container-id-6 div.sk-estimator {font-family: monospace;background-color: #f0f8ff;border: 1px dotted black;border-radius: 0.25em;box-sizing: border-box;margin-bottom: 0.5em;}#sk-container-id-6 div.sk-estimator:hover {background-color: #d4ebff;}#sk-container-id-6 div.sk-parallel-item::after {content: \"\";width: 100%;border-bottom: 1px solid gray;flex-grow: 1;}#sk-container-id-6 div.sk-label:hover label.sk-toggleable__label {background-color: #d4ebff;}#sk-container-id-6 div.sk-serial::before {content: \"\";position: absolute;border-left: 1px solid gray;box-sizing: border-box;top: 0;bottom: 0;left: 50%;z-index: 0;}#sk-container-id-6 div.sk-serial {display: flex;flex-direction: column;align-items: center;background-color: white;padding-right: 0.2em;padding-left: 0.2em;position: relative;}#sk-container-id-6 div.sk-item {position: relative;z-index: 1;}#sk-container-id-6 div.sk-parallel {display: flex;align-items: stretch;justify-content: center;background-color: white;position: relative;}#sk-container-id-6 div.sk-item::before, #sk-container-id-6 div.sk-parallel-item::before {content: \"\";position: absolute;border-left: 1px solid gray;box-sizing: border-box;top: 0;bottom: 0;left: 50%;z-index: -1;}#sk-container-id-6 div.sk-parallel-item {display: flex;flex-direction: column;z-index: 1;position: relative;background-color: white;}#sk-container-id-6 div.sk-parallel-item:first-child::after {align-self: flex-end;width: 50%;}#sk-container-id-6 div.sk-parallel-item:last-child::after {align-self: flex-start;width: 50%;}#sk-container-id-6 div.sk-parallel-item:only-child::after {width: 0;}#sk-container-id-6 div.sk-dashed-wrapped {border: 1px dashed gray;margin: 0 0.4em 0.5em 0.4em;box-sizing: border-box;padding-bottom: 0.4em;background-color: white;}#sk-container-id-6 div.sk-label label {font-family: monospace;font-weight: bold;display: inline-block;line-height: 1.2em;}#sk-container-id-6 div.sk-label-container {text-align: center;}#sk-container-id-6 div.sk-container {/* jupyter's `normalize.less` sets `[hidden] { display: none; }` but bootstrap.min.css set `[hidden] { display: none !important; }` so we also need the `!important` here to be able to override the default hidden behavior on the sphinx rendered scikit-learn.org. See: https://github.com/scikit-learn/scikit-learn/issues/21755 */display: inline-block !important;position: relative;}#sk-container-id-6 div.sk-text-repr-fallback {display: none;}</style><div id=\"sk-container-id-6\" class=\"sk-top-container\"><div class=\"sk-text-repr-fallback\"><pre>Pipeline(steps=[(&#x27;scaler&#x27;,\n",
              "                 ColumnTransformer(transformers=[(&#x27;scaleStandard&#x27;,\n",
              "                                                  StandardScaler(),\n",
              "                                                  [&#x27;Age&#x27;, &#x27;Height&#x27;, &#x27;Weight&#x27;,\n",
              "                                                   &#x27;Wins&#x27;,\n",
              "                                                   &#x27;Mental Resilience&#x27;]),\n",
              "                                                 (&#x27;scaleMiMa&#x27;, MinMaxScaler(),\n",
              "                                                  [&#x27;Battle Experience&#x27;]),\n",
              "                                                 (&#x27;scaleRob&#x27;, RobustScaler(),\n",
              "                                                  [&#x27;Losses&#x27;])])),\n",
              "                (&#x27;svm&#x27;, SVC())])</pre><b>In a Jupyter environment, please rerun this cell to show the HTML representation or trust the notebook. <br />On GitHub, the HTML representation is unable to render, please try loading this page with nbviewer.org.</b></div><div class=\"sk-container\" hidden><div class=\"sk-item sk-dashed-wrapped\"><div class=\"sk-label-container\"><div class=\"sk-label sk-toggleable\"><input class=\"sk-toggleable__control sk-hidden--visually\" id=\"sk-estimator-id-6\" type=\"checkbox\" ><label for=\"sk-estimator-id-6\" class=\"sk-toggleable__label sk-toggleable__label-arrow\">Pipeline</label><div class=\"sk-toggleable__content\"><pre>Pipeline(steps=[(&#x27;scaler&#x27;,\n",
              "                 ColumnTransformer(transformers=[(&#x27;scaleStandard&#x27;,\n",
              "                                                  StandardScaler(),\n",
              "                                                  [&#x27;Age&#x27;, &#x27;Height&#x27;, &#x27;Weight&#x27;,\n",
              "                                                   &#x27;Wins&#x27;,\n",
              "                                                   &#x27;Mental Resilience&#x27;]),\n",
              "                                                 (&#x27;scaleMiMa&#x27;, MinMaxScaler(),\n",
              "                                                  [&#x27;Battle Experience&#x27;]),\n",
              "                                                 (&#x27;scaleRob&#x27;, RobustScaler(),\n",
              "                                                  [&#x27;Losses&#x27;])])),\n",
              "                (&#x27;svm&#x27;, SVC())])</pre></div></div></div><div class=\"sk-serial\"><div class=\"sk-item sk-dashed-wrapped\"><div class=\"sk-label-container\"><div class=\"sk-label sk-toggleable\"><input class=\"sk-toggleable__control sk-hidden--visually\" id=\"sk-estimator-id-7\" type=\"checkbox\" ><label for=\"sk-estimator-id-7\" class=\"sk-toggleable__label sk-toggleable__label-arrow\">scaler: ColumnTransformer</label><div class=\"sk-toggleable__content\"><pre>ColumnTransformer(transformers=[(&#x27;scaleStandard&#x27;, StandardScaler(),\n",
              "                                 [&#x27;Age&#x27;, &#x27;Height&#x27;, &#x27;Weight&#x27;, &#x27;Wins&#x27;,\n",
              "                                  &#x27;Mental Resilience&#x27;]),\n",
              "                                (&#x27;scaleMiMa&#x27;, MinMaxScaler(),\n",
              "                                 [&#x27;Battle Experience&#x27;]),\n",
              "                                (&#x27;scaleRob&#x27;, RobustScaler(), [&#x27;Losses&#x27;])])</pre></div></div></div><div class=\"sk-parallel\"><div class=\"sk-parallel-item\"><div class=\"sk-item\"><div class=\"sk-label-container\"><div class=\"sk-label sk-toggleable\"><input class=\"sk-toggleable__control sk-hidden--visually\" id=\"sk-estimator-id-8\" type=\"checkbox\" ><label for=\"sk-estimator-id-8\" class=\"sk-toggleable__label sk-toggleable__label-arrow\">scaleStandard</label><div class=\"sk-toggleable__content\"><pre>[&#x27;Age&#x27;, &#x27;Height&#x27;, &#x27;Weight&#x27;, &#x27;Wins&#x27;, &#x27;Mental Resilience&#x27;]</pre></div></div></div><div class=\"sk-serial\"><div class=\"sk-item\"><div class=\"sk-estimator sk-toggleable\"><input class=\"sk-toggleable__control sk-hidden--visually\" id=\"sk-estimator-id-9\" type=\"checkbox\" ><label for=\"sk-estimator-id-9\" class=\"sk-toggleable__label sk-toggleable__label-arrow\">StandardScaler</label><div class=\"sk-toggleable__content\"><pre>StandardScaler()</pre></div></div></div></div></div></div><div class=\"sk-parallel-item\"><div class=\"sk-item\"><div class=\"sk-label-container\"><div class=\"sk-label sk-toggleable\"><input class=\"sk-toggleable__control sk-hidden--visually\" id=\"sk-estimator-id-10\" type=\"checkbox\" ><label for=\"sk-estimator-id-10\" class=\"sk-toggleable__label sk-toggleable__label-arrow\">scaleMiMa</label><div class=\"sk-toggleable__content\"><pre>[&#x27;Battle Experience&#x27;]</pre></div></div></div><div class=\"sk-serial\"><div class=\"sk-item\"><div class=\"sk-estimator sk-toggleable\"><input class=\"sk-toggleable__control sk-hidden--visually\" id=\"sk-estimator-id-11\" type=\"checkbox\" ><label for=\"sk-estimator-id-11\" class=\"sk-toggleable__label sk-toggleable__label-arrow\">MinMaxScaler</label><div class=\"sk-toggleable__content\"><pre>MinMaxScaler()</pre></div></div></div></div></div></div><div class=\"sk-parallel-item\"><div class=\"sk-item\"><div class=\"sk-label-container\"><div class=\"sk-label sk-toggleable\"><input class=\"sk-toggleable__control sk-hidden--visually\" id=\"sk-estimator-id-12\" type=\"checkbox\" ><label for=\"sk-estimator-id-12\" class=\"sk-toggleable__label sk-toggleable__label-arrow\">scaleRob</label><div class=\"sk-toggleable__content\"><pre>[&#x27;Losses&#x27;]</pre></div></div></div><div class=\"sk-serial\"><div class=\"sk-item\"><div class=\"sk-estimator sk-toggleable\"><input class=\"sk-toggleable__control sk-hidden--visually\" id=\"sk-estimator-id-13\" type=\"checkbox\" ><label for=\"sk-estimator-id-13\" class=\"sk-toggleable__label sk-toggleable__label-arrow\">RobustScaler</label><div class=\"sk-toggleable__content\"><pre>RobustScaler()</pre></div></div></div></div></div></div></div></div><div class=\"sk-item\"><div class=\"sk-estimator sk-toggleable\"><input class=\"sk-toggleable__control sk-hidden--visually\" id=\"sk-estimator-id-14\" type=\"checkbox\" ><label for=\"sk-estimator-id-14\" class=\"sk-toggleable__label sk-toggleable__label-arrow\">SVC</label><div class=\"sk-toggleable__content\"><pre>SVC()</pre></div></div></div></div></div></div></div>"
            ]
          },
          "metadata": {},
          "execution_count": 35
        }
      ]
    },
    {
      "cell_type": "markdown",
      "source": [
        "## Training KNN"
      ],
      "metadata": {
        "id": "nUB29Au6KPBH"
      }
    },
    {
      "cell_type": "code",
      "source": [
        "# Training KNN dengan pipeline\n",
        "\n",
        "pipeKNN.fit(xTrain, yTrain)"
      ],
      "metadata": {
        "colab": {
          "base_uri": "https://localhost:8080/",
          "height": 246
        },
        "id": "oZNxXaRpxjPs",
        "outputId": "7a91120d-cad9-470b-f16c-71bf3bf134e9"
      },
      "execution_count": 36,
      "outputs": [
        {
          "output_type": "stream",
          "name": "stderr",
          "text": [
            "/usr/local/lib/python3.10/dist-packages/sklearn/neighbors/_classification.py:215: DataConversionWarning: A column-vector y was passed when a 1d array was expected. Please change the shape of y to (n_samples,), for example using ravel().\n",
            "  return self._fit(X, y)\n"
          ]
        },
        {
          "output_type": "execute_result",
          "data": {
            "text/plain": [
              "Pipeline(steps=[('scaler',\n",
              "                 ColumnTransformer(transformers=[('scaleStandard',\n",
              "                                                  StandardScaler(),\n",
              "                                                  ['Age', 'Height', 'Weight',\n",
              "                                                   'Wins',\n",
              "                                                   'Mental Resilience']),\n",
              "                                                 ('scaleMiMa', MinMaxScaler(),\n",
              "                                                  ['Battle Experience']),\n",
              "                                                 ('scaleRob', RobustScaler(),\n",
              "                                                  ['Losses'])])),\n",
              "                ('knn', KNeighborsClassifier(n_neighbors=50))])"
            ],
            "text/html": [
              "<style>#sk-container-id-7 {color: black;background-color: white;}#sk-container-id-7 pre{padding: 0;}#sk-container-id-7 div.sk-toggleable {background-color: white;}#sk-container-id-7 label.sk-toggleable__label {cursor: pointer;display: block;width: 100%;margin-bottom: 0;padding: 0.3em;box-sizing: border-box;text-align: center;}#sk-container-id-7 label.sk-toggleable__label-arrow:before {content: \"▸\";float: left;margin-right: 0.25em;color: #696969;}#sk-container-id-7 label.sk-toggleable__label-arrow:hover:before {color: black;}#sk-container-id-7 div.sk-estimator:hover label.sk-toggleable__label-arrow:before {color: black;}#sk-container-id-7 div.sk-toggleable__content {max-height: 0;max-width: 0;overflow: hidden;text-align: left;background-color: #f0f8ff;}#sk-container-id-7 div.sk-toggleable__content pre {margin: 0.2em;color: black;border-radius: 0.25em;background-color: #f0f8ff;}#sk-container-id-7 input.sk-toggleable__control:checked~div.sk-toggleable__content {max-height: 200px;max-width: 100%;overflow: auto;}#sk-container-id-7 input.sk-toggleable__control:checked~label.sk-toggleable__label-arrow:before {content: \"▾\";}#sk-container-id-7 div.sk-estimator input.sk-toggleable__control:checked~label.sk-toggleable__label {background-color: #d4ebff;}#sk-container-id-7 div.sk-label input.sk-toggleable__control:checked~label.sk-toggleable__label {background-color: #d4ebff;}#sk-container-id-7 input.sk-hidden--visually {border: 0;clip: rect(1px 1px 1px 1px);clip: rect(1px, 1px, 1px, 1px);height: 1px;margin: -1px;overflow: hidden;padding: 0;position: absolute;width: 1px;}#sk-container-id-7 div.sk-estimator {font-family: monospace;background-color: #f0f8ff;border: 1px dotted black;border-radius: 0.25em;box-sizing: border-box;margin-bottom: 0.5em;}#sk-container-id-7 div.sk-estimator:hover {background-color: #d4ebff;}#sk-container-id-7 div.sk-parallel-item::after {content: \"\";width: 100%;border-bottom: 1px solid gray;flex-grow: 1;}#sk-container-id-7 div.sk-label:hover label.sk-toggleable__label {background-color: #d4ebff;}#sk-container-id-7 div.sk-serial::before {content: \"\";position: absolute;border-left: 1px solid gray;box-sizing: border-box;top: 0;bottom: 0;left: 50%;z-index: 0;}#sk-container-id-7 div.sk-serial {display: flex;flex-direction: column;align-items: center;background-color: white;padding-right: 0.2em;padding-left: 0.2em;position: relative;}#sk-container-id-7 div.sk-item {position: relative;z-index: 1;}#sk-container-id-7 div.sk-parallel {display: flex;align-items: stretch;justify-content: center;background-color: white;position: relative;}#sk-container-id-7 div.sk-item::before, #sk-container-id-7 div.sk-parallel-item::before {content: \"\";position: absolute;border-left: 1px solid gray;box-sizing: border-box;top: 0;bottom: 0;left: 50%;z-index: -1;}#sk-container-id-7 div.sk-parallel-item {display: flex;flex-direction: column;z-index: 1;position: relative;background-color: white;}#sk-container-id-7 div.sk-parallel-item:first-child::after {align-self: flex-end;width: 50%;}#sk-container-id-7 div.sk-parallel-item:last-child::after {align-self: flex-start;width: 50%;}#sk-container-id-7 div.sk-parallel-item:only-child::after {width: 0;}#sk-container-id-7 div.sk-dashed-wrapped {border: 1px dashed gray;margin: 0 0.4em 0.5em 0.4em;box-sizing: border-box;padding-bottom: 0.4em;background-color: white;}#sk-container-id-7 div.sk-label label {font-family: monospace;font-weight: bold;display: inline-block;line-height: 1.2em;}#sk-container-id-7 div.sk-label-container {text-align: center;}#sk-container-id-7 div.sk-container {/* jupyter's `normalize.less` sets `[hidden] { display: none; }` but bootstrap.min.css set `[hidden] { display: none !important; }` so we also need the `!important` here to be able to override the default hidden behavior on the sphinx rendered scikit-learn.org. See: https://github.com/scikit-learn/scikit-learn/issues/21755 */display: inline-block !important;position: relative;}#sk-container-id-7 div.sk-text-repr-fallback {display: none;}</style><div id=\"sk-container-id-7\" class=\"sk-top-container\"><div class=\"sk-text-repr-fallback\"><pre>Pipeline(steps=[(&#x27;scaler&#x27;,\n",
              "                 ColumnTransformer(transformers=[(&#x27;scaleStandard&#x27;,\n",
              "                                                  StandardScaler(),\n",
              "                                                  [&#x27;Age&#x27;, &#x27;Height&#x27;, &#x27;Weight&#x27;,\n",
              "                                                   &#x27;Wins&#x27;,\n",
              "                                                   &#x27;Mental Resilience&#x27;]),\n",
              "                                                 (&#x27;scaleMiMa&#x27;, MinMaxScaler(),\n",
              "                                                  [&#x27;Battle Experience&#x27;]),\n",
              "                                                 (&#x27;scaleRob&#x27;, RobustScaler(),\n",
              "                                                  [&#x27;Losses&#x27;])])),\n",
              "                (&#x27;knn&#x27;, KNeighborsClassifier(n_neighbors=50))])</pre><b>In a Jupyter environment, please rerun this cell to show the HTML representation or trust the notebook. <br />On GitHub, the HTML representation is unable to render, please try loading this page with nbviewer.org.</b></div><div class=\"sk-container\" hidden><div class=\"sk-item sk-dashed-wrapped\"><div class=\"sk-label-container\"><div class=\"sk-label sk-toggleable\"><input class=\"sk-toggleable__control sk-hidden--visually\" id=\"sk-estimator-id-15\" type=\"checkbox\" ><label for=\"sk-estimator-id-15\" class=\"sk-toggleable__label sk-toggleable__label-arrow\">Pipeline</label><div class=\"sk-toggleable__content\"><pre>Pipeline(steps=[(&#x27;scaler&#x27;,\n",
              "                 ColumnTransformer(transformers=[(&#x27;scaleStandard&#x27;,\n",
              "                                                  StandardScaler(),\n",
              "                                                  [&#x27;Age&#x27;, &#x27;Height&#x27;, &#x27;Weight&#x27;,\n",
              "                                                   &#x27;Wins&#x27;,\n",
              "                                                   &#x27;Mental Resilience&#x27;]),\n",
              "                                                 (&#x27;scaleMiMa&#x27;, MinMaxScaler(),\n",
              "                                                  [&#x27;Battle Experience&#x27;]),\n",
              "                                                 (&#x27;scaleRob&#x27;, RobustScaler(),\n",
              "                                                  [&#x27;Losses&#x27;])])),\n",
              "                (&#x27;knn&#x27;, KNeighborsClassifier(n_neighbors=50))])</pre></div></div></div><div class=\"sk-serial\"><div class=\"sk-item sk-dashed-wrapped\"><div class=\"sk-label-container\"><div class=\"sk-label sk-toggleable\"><input class=\"sk-toggleable__control sk-hidden--visually\" id=\"sk-estimator-id-16\" type=\"checkbox\" ><label for=\"sk-estimator-id-16\" class=\"sk-toggleable__label sk-toggleable__label-arrow\">scaler: ColumnTransformer</label><div class=\"sk-toggleable__content\"><pre>ColumnTransformer(transformers=[(&#x27;scaleStandard&#x27;, StandardScaler(),\n",
              "                                 [&#x27;Age&#x27;, &#x27;Height&#x27;, &#x27;Weight&#x27;, &#x27;Wins&#x27;,\n",
              "                                  &#x27;Mental Resilience&#x27;]),\n",
              "                                (&#x27;scaleMiMa&#x27;, MinMaxScaler(),\n",
              "                                 [&#x27;Battle Experience&#x27;]),\n",
              "                                (&#x27;scaleRob&#x27;, RobustScaler(), [&#x27;Losses&#x27;])])</pre></div></div></div><div class=\"sk-parallel\"><div class=\"sk-parallel-item\"><div class=\"sk-item\"><div class=\"sk-label-container\"><div class=\"sk-label sk-toggleable\"><input class=\"sk-toggleable__control sk-hidden--visually\" id=\"sk-estimator-id-17\" type=\"checkbox\" ><label for=\"sk-estimator-id-17\" class=\"sk-toggleable__label sk-toggleable__label-arrow\">scaleStandard</label><div class=\"sk-toggleable__content\"><pre>[&#x27;Age&#x27;, &#x27;Height&#x27;, &#x27;Weight&#x27;, &#x27;Wins&#x27;, &#x27;Mental Resilience&#x27;]</pre></div></div></div><div class=\"sk-serial\"><div class=\"sk-item\"><div class=\"sk-estimator sk-toggleable\"><input class=\"sk-toggleable__control sk-hidden--visually\" id=\"sk-estimator-id-18\" type=\"checkbox\" ><label for=\"sk-estimator-id-18\" class=\"sk-toggleable__label sk-toggleable__label-arrow\">StandardScaler</label><div class=\"sk-toggleable__content\"><pre>StandardScaler()</pre></div></div></div></div></div></div><div class=\"sk-parallel-item\"><div class=\"sk-item\"><div class=\"sk-label-container\"><div class=\"sk-label sk-toggleable\"><input class=\"sk-toggleable__control sk-hidden--visually\" id=\"sk-estimator-id-19\" type=\"checkbox\" ><label for=\"sk-estimator-id-19\" class=\"sk-toggleable__label sk-toggleable__label-arrow\">scaleMiMa</label><div class=\"sk-toggleable__content\"><pre>[&#x27;Battle Experience&#x27;]</pre></div></div></div><div class=\"sk-serial\"><div class=\"sk-item\"><div class=\"sk-estimator sk-toggleable\"><input class=\"sk-toggleable__control sk-hidden--visually\" id=\"sk-estimator-id-20\" type=\"checkbox\" ><label for=\"sk-estimator-id-20\" class=\"sk-toggleable__label sk-toggleable__label-arrow\">MinMaxScaler</label><div class=\"sk-toggleable__content\"><pre>MinMaxScaler()</pre></div></div></div></div></div></div><div class=\"sk-parallel-item\"><div class=\"sk-item\"><div class=\"sk-label-container\"><div class=\"sk-label sk-toggleable\"><input class=\"sk-toggleable__control sk-hidden--visually\" id=\"sk-estimator-id-21\" type=\"checkbox\" ><label for=\"sk-estimator-id-21\" class=\"sk-toggleable__label sk-toggleable__label-arrow\">scaleRob</label><div class=\"sk-toggleable__content\"><pre>[&#x27;Losses&#x27;]</pre></div></div></div><div class=\"sk-serial\"><div class=\"sk-item\"><div class=\"sk-estimator sk-toggleable\"><input class=\"sk-toggleable__control sk-hidden--visually\" id=\"sk-estimator-id-22\" type=\"checkbox\" ><label for=\"sk-estimator-id-22\" class=\"sk-toggleable__label sk-toggleable__label-arrow\">RobustScaler</label><div class=\"sk-toggleable__content\"><pre>RobustScaler()</pre></div></div></div></div></div></div></div></div><div class=\"sk-item\"><div class=\"sk-estimator sk-toggleable\"><input class=\"sk-toggleable__control sk-hidden--visually\" id=\"sk-estimator-id-23\" type=\"checkbox\" ><label for=\"sk-estimator-id-23\" class=\"sk-toggleable__label sk-toggleable__label-arrow\">KNeighborsClassifier</label><div class=\"sk-toggleable__content\"><pre>KNeighborsClassifier(n_neighbors=50)</pre></div></div></div></div></div></div></div>"
            ]
          },
          "metadata": {},
          "execution_count": 36
        }
      ]
    },
    {
      "cell_type": "markdown",
      "source": [
        "## Training Random Forest"
      ],
      "metadata": {
        "id": "oLOGsjXVKUxI"
      }
    },
    {
      "cell_type": "code",
      "source": [
        "# Training Random Forest dengan pipeline\n",
        "\n",
        "pipeRF.fit(xTrain, yTrain)"
      ],
      "metadata": {
        "colab": {
          "base_uri": "https://localhost:8080/",
          "height": 246
        },
        "id": "CoQXZCZCxpDP",
        "outputId": "563bfdcf-4da1-4faf-c312-a7b0ddc0b9ed"
      },
      "execution_count": 37,
      "outputs": [
        {
          "output_type": "stream",
          "name": "stderr",
          "text": [
            "/usr/local/lib/python3.10/dist-packages/sklearn/pipeline.py:405: DataConversionWarning: A column-vector y was passed when a 1d array was expected. Please change the shape of y to (n_samples,), for example using ravel().\n",
            "  self._final_estimator.fit(Xt, y, **fit_params_last_step)\n"
          ]
        },
        {
          "output_type": "execute_result",
          "data": {
            "text/plain": [
              "Pipeline(steps=[('scaler',\n",
              "                 ColumnTransformer(transformers=[('scaleStandard',\n",
              "                                                  StandardScaler(),\n",
              "                                                  ['Age', 'Height', 'Weight',\n",
              "                                                   'Wins',\n",
              "                                                   'Mental Resilience']),\n",
              "                                                 ('scaleMiMa', MinMaxScaler(),\n",
              "                                                  ['Battle Experience']),\n",
              "                                                 ('scaleRob', RobustScaler(),\n",
              "                                                  ['Losses'])])),\n",
              "                ('randFor', RandomForestClassifier())])"
            ],
            "text/html": [
              "<style>#sk-container-id-8 {color: black;background-color: white;}#sk-container-id-8 pre{padding: 0;}#sk-container-id-8 div.sk-toggleable {background-color: white;}#sk-container-id-8 label.sk-toggleable__label {cursor: pointer;display: block;width: 100%;margin-bottom: 0;padding: 0.3em;box-sizing: border-box;text-align: center;}#sk-container-id-8 label.sk-toggleable__label-arrow:before {content: \"▸\";float: left;margin-right: 0.25em;color: #696969;}#sk-container-id-8 label.sk-toggleable__label-arrow:hover:before {color: black;}#sk-container-id-8 div.sk-estimator:hover label.sk-toggleable__label-arrow:before {color: black;}#sk-container-id-8 div.sk-toggleable__content {max-height: 0;max-width: 0;overflow: hidden;text-align: left;background-color: #f0f8ff;}#sk-container-id-8 div.sk-toggleable__content pre {margin: 0.2em;color: black;border-radius: 0.25em;background-color: #f0f8ff;}#sk-container-id-8 input.sk-toggleable__control:checked~div.sk-toggleable__content {max-height: 200px;max-width: 100%;overflow: auto;}#sk-container-id-8 input.sk-toggleable__control:checked~label.sk-toggleable__label-arrow:before {content: \"▾\";}#sk-container-id-8 div.sk-estimator input.sk-toggleable__control:checked~label.sk-toggleable__label {background-color: #d4ebff;}#sk-container-id-8 div.sk-label input.sk-toggleable__control:checked~label.sk-toggleable__label {background-color: #d4ebff;}#sk-container-id-8 input.sk-hidden--visually {border: 0;clip: rect(1px 1px 1px 1px);clip: rect(1px, 1px, 1px, 1px);height: 1px;margin: -1px;overflow: hidden;padding: 0;position: absolute;width: 1px;}#sk-container-id-8 div.sk-estimator {font-family: monospace;background-color: #f0f8ff;border: 1px dotted black;border-radius: 0.25em;box-sizing: border-box;margin-bottom: 0.5em;}#sk-container-id-8 div.sk-estimator:hover {background-color: #d4ebff;}#sk-container-id-8 div.sk-parallel-item::after {content: \"\";width: 100%;border-bottom: 1px solid gray;flex-grow: 1;}#sk-container-id-8 div.sk-label:hover label.sk-toggleable__label {background-color: #d4ebff;}#sk-container-id-8 div.sk-serial::before {content: \"\";position: absolute;border-left: 1px solid gray;box-sizing: border-box;top: 0;bottom: 0;left: 50%;z-index: 0;}#sk-container-id-8 div.sk-serial {display: flex;flex-direction: column;align-items: center;background-color: white;padding-right: 0.2em;padding-left: 0.2em;position: relative;}#sk-container-id-8 div.sk-item {position: relative;z-index: 1;}#sk-container-id-8 div.sk-parallel {display: flex;align-items: stretch;justify-content: center;background-color: white;position: relative;}#sk-container-id-8 div.sk-item::before, #sk-container-id-8 div.sk-parallel-item::before {content: \"\";position: absolute;border-left: 1px solid gray;box-sizing: border-box;top: 0;bottom: 0;left: 50%;z-index: -1;}#sk-container-id-8 div.sk-parallel-item {display: flex;flex-direction: column;z-index: 1;position: relative;background-color: white;}#sk-container-id-8 div.sk-parallel-item:first-child::after {align-self: flex-end;width: 50%;}#sk-container-id-8 div.sk-parallel-item:last-child::after {align-self: flex-start;width: 50%;}#sk-container-id-8 div.sk-parallel-item:only-child::after {width: 0;}#sk-container-id-8 div.sk-dashed-wrapped {border: 1px dashed gray;margin: 0 0.4em 0.5em 0.4em;box-sizing: border-box;padding-bottom: 0.4em;background-color: white;}#sk-container-id-8 div.sk-label label {font-family: monospace;font-weight: bold;display: inline-block;line-height: 1.2em;}#sk-container-id-8 div.sk-label-container {text-align: center;}#sk-container-id-8 div.sk-container {/* jupyter's `normalize.less` sets `[hidden] { display: none; }` but bootstrap.min.css set `[hidden] { display: none !important; }` so we also need the `!important` here to be able to override the default hidden behavior on the sphinx rendered scikit-learn.org. See: https://github.com/scikit-learn/scikit-learn/issues/21755 */display: inline-block !important;position: relative;}#sk-container-id-8 div.sk-text-repr-fallback {display: none;}</style><div id=\"sk-container-id-8\" class=\"sk-top-container\"><div class=\"sk-text-repr-fallback\"><pre>Pipeline(steps=[(&#x27;scaler&#x27;,\n",
              "                 ColumnTransformer(transformers=[(&#x27;scaleStandard&#x27;,\n",
              "                                                  StandardScaler(),\n",
              "                                                  [&#x27;Age&#x27;, &#x27;Height&#x27;, &#x27;Weight&#x27;,\n",
              "                                                   &#x27;Wins&#x27;,\n",
              "                                                   &#x27;Mental Resilience&#x27;]),\n",
              "                                                 (&#x27;scaleMiMa&#x27;, MinMaxScaler(),\n",
              "                                                  [&#x27;Battle Experience&#x27;]),\n",
              "                                                 (&#x27;scaleRob&#x27;, RobustScaler(),\n",
              "                                                  [&#x27;Losses&#x27;])])),\n",
              "                (&#x27;randFor&#x27;, RandomForestClassifier())])</pre><b>In a Jupyter environment, please rerun this cell to show the HTML representation or trust the notebook. <br />On GitHub, the HTML representation is unable to render, please try loading this page with nbviewer.org.</b></div><div class=\"sk-container\" hidden><div class=\"sk-item sk-dashed-wrapped\"><div class=\"sk-label-container\"><div class=\"sk-label sk-toggleable\"><input class=\"sk-toggleable__control sk-hidden--visually\" id=\"sk-estimator-id-24\" type=\"checkbox\" ><label for=\"sk-estimator-id-24\" class=\"sk-toggleable__label sk-toggleable__label-arrow\">Pipeline</label><div class=\"sk-toggleable__content\"><pre>Pipeline(steps=[(&#x27;scaler&#x27;,\n",
              "                 ColumnTransformer(transformers=[(&#x27;scaleStandard&#x27;,\n",
              "                                                  StandardScaler(),\n",
              "                                                  [&#x27;Age&#x27;, &#x27;Height&#x27;, &#x27;Weight&#x27;,\n",
              "                                                   &#x27;Wins&#x27;,\n",
              "                                                   &#x27;Mental Resilience&#x27;]),\n",
              "                                                 (&#x27;scaleMiMa&#x27;, MinMaxScaler(),\n",
              "                                                  [&#x27;Battle Experience&#x27;]),\n",
              "                                                 (&#x27;scaleRob&#x27;, RobustScaler(),\n",
              "                                                  [&#x27;Losses&#x27;])])),\n",
              "                (&#x27;randFor&#x27;, RandomForestClassifier())])</pre></div></div></div><div class=\"sk-serial\"><div class=\"sk-item sk-dashed-wrapped\"><div class=\"sk-label-container\"><div class=\"sk-label sk-toggleable\"><input class=\"sk-toggleable__control sk-hidden--visually\" id=\"sk-estimator-id-25\" type=\"checkbox\" ><label for=\"sk-estimator-id-25\" class=\"sk-toggleable__label sk-toggleable__label-arrow\">scaler: ColumnTransformer</label><div class=\"sk-toggleable__content\"><pre>ColumnTransformer(transformers=[(&#x27;scaleStandard&#x27;, StandardScaler(),\n",
              "                                 [&#x27;Age&#x27;, &#x27;Height&#x27;, &#x27;Weight&#x27;, &#x27;Wins&#x27;,\n",
              "                                  &#x27;Mental Resilience&#x27;]),\n",
              "                                (&#x27;scaleMiMa&#x27;, MinMaxScaler(),\n",
              "                                 [&#x27;Battle Experience&#x27;]),\n",
              "                                (&#x27;scaleRob&#x27;, RobustScaler(), [&#x27;Losses&#x27;])])</pre></div></div></div><div class=\"sk-parallel\"><div class=\"sk-parallel-item\"><div class=\"sk-item\"><div class=\"sk-label-container\"><div class=\"sk-label sk-toggleable\"><input class=\"sk-toggleable__control sk-hidden--visually\" id=\"sk-estimator-id-26\" type=\"checkbox\" ><label for=\"sk-estimator-id-26\" class=\"sk-toggleable__label sk-toggleable__label-arrow\">scaleStandard</label><div class=\"sk-toggleable__content\"><pre>[&#x27;Age&#x27;, &#x27;Height&#x27;, &#x27;Weight&#x27;, &#x27;Wins&#x27;, &#x27;Mental Resilience&#x27;]</pre></div></div></div><div class=\"sk-serial\"><div class=\"sk-item\"><div class=\"sk-estimator sk-toggleable\"><input class=\"sk-toggleable__control sk-hidden--visually\" id=\"sk-estimator-id-27\" type=\"checkbox\" ><label for=\"sk-estimator-id-27\" class=\"sk-toggleable__label sk-toggleable__label-arrow\">StandardScaler</label><div class=\"sk-toggleable__content\"><pre>StandardScaler()</pre></div></div></div></div></div></div><div class=\"sk-parallel-item\"><div class=\"sk-item\"><div class=\"sk-label-container\"><div class=\"sk-label sk-toggleable\"><input class=\"sk-toggleable__control sk-hidden--visually\" id=\"sk-estimator-id-28\" type=\"checkbox\" ><label for=\"sk-estimator-id-28\" class=\"sk-toggleable__label sk-toggleable__label-arrow\">scaleMiMa</label><div class=\"sk-toggleable__content\"><pre>[&#x27;Battle Experience&#x27;]</pre></div></div></div><div class=\"sk-serial\"><div class=\"sk-item\"><div class=\"sk-estimator sk-toggleable\"><input class=\"sk-toggleable__control sk-hidden--visually\" id=\"sk-estimator-id-29\" type=\"checkbox\" ><label for=\"sk-estimator-id-29\" class=\"sk-toggleable__label sk-toggleable__label-arrow\">MinMaxScaler</label><div class=\"sk-toggleable__content\"><pre>MinMaxScaler()</pre></div></div></div></div></div></div><div class=\"sk-parallel-item\"><div class=\"sk-item\"><div class=\"sk-label-container\"><div class=\"sk-label sk-toggleable\"><input class=\"sk-toggleable__control sk-hidden--visually\" id=\"sk-estimator-id-30\" type=\"checkbox\" ><label for=\"sk-estimator-id-30\" class=\"sk-toggleable__label sk-toggleable__label-arrow\">scaleRob</label><div class=\"sk-toggleable__content\"><pre>[&#x27;Losses&#x27;]</pre></div></div></div><div class=\"sk-serial\"><div class=\"sk-item\"><div class=\"sk-estimator sk-toggleable\"><input class=\"sk-toggleable__control sk-hidden--visually\" id=\"sk-estimator-id-31\" type=\"checkbox\" ><label for=\"sk-estimator-id-31\" class=\"sk-toggleable__label sk-toggleable__label-arrow\">RobustScaler</label><div class=\"sk-toggleable__content\"><pre>RobustScaler()</pre></div></div></div></div></div></div></div></div><div class=\"sk-item\"><div class=\"sk-estimator sk-toggleable\"><input class=\"sk-toggleable__control sk-hidden--visually\" id=\"sk-estimator-id-32\" type=\"checkbox\" ><label for=\"sk-estimator-id-32\" class=\"sk-toggleable__label sk-toggleable__label-arrow\">RandomForestClassifier</label><div class=\"sk-toggleable__content\"><pre>RandomForestClassifier()</pre></div></div></div></div></div></div></div>"
            ]
          },
          "metadata": {},
          "execution_count": 37
        }
      ]
    },
    {
      "cell_type": "markdown",
      "source": [
        "## Training Decision Tree"
      ],
      "metadata": {
        "id": "QZGMCpOcKdEQ"
      }
    },
    {
      "cell_type": "code",
      "source": [
        "# Training Decision Tree dengan pipeline\n",
        "\n",
        "pipeDT.fit(xTrain, yTrain)"
      ],
      "metadata": {
        "colab": {
          "base_uri": "https://localhost:8080/",
          "height": 191
        },
        "id": "7Bch777oxuJ9",
        "outputId": "b300dcb4-faea-44c5-ab5a-9dfc1f4c2291"
      },
      "execution_count": 38,
      "outputs": [
        {
          "output_type": "execute_result",
          "data": {
            "text/plain": [
              "Pipeline(steps=[('scaler',\n",
              "                 ColumnTransformer(transformers=[('scaleStandard',\n",
              "                                                  StandardScaler(),\n",
              "                                                  ['Age', 'Height', 'Weight',\n",
              "                                                   'Wins',\n",
              "                                                   'Mental Resilience']),\n",
              "                                                 ('scaleMiMa', MinMaxScaler(),\n",
              "                                                  ['Battle Experience']),\n",
              "                                                 ('scaleRob', RobustScaler(),\n",
              "                                                  ['Losses'])])),\n",
              "                ('decTree', DecisionTreeClassifier())])"
            ],
            "text/html": [
              "<style>#sk-container-id-9 {color: black;background-color: white;}#sk-container-id-9 pre{padding: 0;}#sk-container-id-9 div.sk-toggleable {background-color: white;}#sk-container-id-9 label.sk-toggleable__label {cursor: pointer;display: block;width: 100%;margin-bottom: 0;padding: 0.3em;box-sizing: border-box;text-align: center;}#sk-container-id-9 label.sk-toggleable__label-arrow:before {content: \"▸\";float: left;margin-right: 0.25em;color: #696969;}#sk-container-id-9 label.sk-toggleable__label-arrow:hover:before {color: black;}#sk-container-id-9 div.sk-estimator:hover label.sk-toggleable__label-arrow:before {color: black;}#sk-container-id-9 div.sk-toggleable__content {max-height: 0;max-width: 0;overflow: hidden;text-align: left;background-color: #f0f8ff;}#sk-container-id-9 div.sk-toggleable__content pre {margin: 0.2em;color: black;border-radius: 0.25em;background-color: #f0f8ff;}#sk-container-id-9 input.sk-toggleable__control:checked~div.sk-toggleable__content {max-height: 200px;max-width: 100%;overflow: auto;}#sk-container-id-9 input.sk-toggleable__control:checked~label.sk-toggleable__label-arrow:before {content: \"▾\";}#sk-container-id-9 div.sk-estimator input.sk-toggleable__control:checked~label.sk-toggleable__label {background-color: #d4ebff;}#sk-container-id-9 div.sk-label input.sk-toggleable__control:checked~label.sk-toggleable__label {background-color: #d4ebff;}#sk-container-id-9 input.sk-hidden--visually {border: 0;clip: rect(1px 1px 1px 1px);clip: rect(1px, 1px, 1px, 1px);height: 1px;margin: -1px;overflow: hidden;padding: 0;position: absolute;width: 1px;}#sk-container-id-9 div.sk-estimator {font-family: monospace;background-color: #f0f8ff;border: 1px dotted black;border-radius: 0.25em;box-sizing: border-box;margin-bottom: 0.5em;}#sk-container-id-9 div.sk-estimator:hover {background-color: #d4ebff;}#sk-container-id-9 div.sk-parallel-item::after {content: \"\";width: 100%;border-bottom: 1px solid gray;flex-grow: 1;}#sk-container-id-9 div.sk-label:hover label.sk-toggleable__label {background-color: #d4ebff;}#sk-container-id-9 div.sk-serial::before {content: \"\";position: absolute;border-left: 1px solid gray;box-sizing: border-box;top: 0;bottom: 0;left: 50%;z-index: 0;}#sk-container-id-9 div.sk-serial {display: flex;flex-direction: column;align-items: center;background-color: white;padding-right: 0.2em;padding-left: 0.2em;position: relative;}#sk-container-id-9 div.sk-item {position: relative;z-index: 1;}#sk-container-id-9 div.sk-parallel {display: flex;align-items: stretch;justify-content: center;background-color: white;position: relative;}#sk-container-id-9 div.sk-item::before, #sk-container-id-9 div.sk-parallel-item::before {content: \"\";position: absolute;border-left: 1px solid gray;box-sizing: border-box;top: 0;bottom: 0;left: 50%;z-index: -1;}#sk-container-id-9 div.sk-parallel-item {display: flex;flex-direction: column;z-index: 1;position: relative;background-color: white;}#sk-container-id-9 div.sk-parallel-item:first-child::after {align-self: flex-end;width: 50%;}#sk-container-id-9 div.sk-parallel-item:last-child::after {align-self: flex-start;width: 50%;}#sk-container-id-9 div.sk-parallel-item:only-child::after {width: 0;}#sk-container-id-9 div.sk-dashed-wrapped {border: 1px dashed gray;margin: 0 0.4em 0.5em 0.4em;box-sizing: border-box;padding-bottom: 0.4em;background-color: white;}#sk-container-id-9 div.sk-label label {font-family: monospace;font-weight: bold;display: inline-block;line-height: 1.2em;}#sk-container-id-9 div.sk-label-container {text-align: center;}#sk-container-id-9 div.sk-container {/* jupyter's `normalize.less` sets `[hidden] { display: none; }` but bootstrap.min.css set `[hidden] { display: none !important; }` so we also need the `!important` here to be able to override the default hidden behavior on the sphinx rendered scikit-learn.org. See: https://github.com/scikit-learn/scikit-learn/issues/21755 */display: inline-block !important;position: relative;}#sk-container-id-9 div.sk-text-repr-fallback {display: none;}</style><div id=\"sk-container-id-9\" class=\"sk-top-container\"><div class=\"sk-text-repr-fallback\"><pre>Pipeline(steps=[(&#x27;scaler&#x27;,\n",
              "                 ColumnTransformer(transformers=[(&#x27;scaleStandard&#x27;,\n",
              "                                                  StandardScaler(),\n",
              "                                                  [&#x27;Age&#x27;, &#x27;Height&#x27;, &#x27;Weight&#x27;,\n",
              "                                                   &#x27;Wins&#x27;,\n",
              "                                                   &#x27;Mental Resilience&#x27;]),\n",
              "                                                 (&#x27;scaleMiMa&#x27;, MinMaxScaler(),\n",
              "                                                  [&#x27;Battle Experience&#x27;]),\n",
              "                                                 (&#x27;scaleRob&#x27;, RobustScaler(),\n",
              "                                                  [&#x27;Losses&#x27;])])),\n",
              "                (&#x27;decTree&#x27;, DecisionTreeClassifier())])</pre><b>In a Jupyter environment, please rerun this cell to show the HTML representation or trust the notebook. <br />On GitHub, the HTML representation is unable to render, please try loading this page with nbviewer.org.</b></div><div class=\"sk-container\" hidden><div class=\"sk-item sk-dashed-wrapped\"><div class=\"sk-label-container\"><div class=\"sk-label sk-toggleable\"><input class=\"sk-toggleable__control sk-hidden--visually\" id=\"sk-estimator-id-33\" type=\"checkbox\" ><label for=\"sk-estimator-id-33\" class=\"sk-toggleable__label sk-toggleable__label-arrow\">Pipeline</label><div class=\"sk-toggleable__content\"><pre>Pipeline(steps=[(&#x27;scaler&#x27;,\n",
              "                 ColumnTransformer(transformers=[(&#x27;scaleStandard&#x27;,\n",
              "                                                  StandardScaler(),\n",
              "                                                  [&#x27;Age&#x27;, &#x27;Height&#x27;, &#x27;Weight&#x27;,\n",
              "                                                   &#x27;Wins&#x27;,\n",
              "                                                   &#x27;Mental Resilience&#x27;]),\n",
              "                                                 (&#x27;scaleMiMa&#x27;, MinMaxScaler(),\n",
              "                                                  [&#x27;Battle Experience&#x27;]),\n",
              "                                                 (&#x27;scaleRob&#x27;, RobustScaler(),\n",
              "                                                  [&#x27;Losses&#x27;])])),\n",
              "                (&#x27;decTree&#x27;, DecisionTreeClassifier())])</pre></div></div></div><div class=\"sk-serial\"><div class=\"sk-item sk-dashed-wrapped\"><div class=\"sk-label-container\"><div class=\"sk-label sk-toggleable\"><input class=\"sk-toggleable__control sk-hidden--visually\" id=\"sk-estimator-id-34\" type=\"checkbox\" ><label for=\"sk-estimator-id-34\" class=\"sk-toggleable__label sk-toggleable__label-arrow\">scaler: ColumnTransformer</label><div class=\"sk-toggleable__content\"><pre>ColumnTransformer(transformers=[(&#x27;scaleStandard&#x27;, StandardScaler(),\n",
              "                                 [&#x27;Age&#x27;, &#x27;Height&#x27;, &#x27;Weight&#x27;, &#x27;Wins&#x27;,\n",
              "                                  &#x27;Mental Resilience&#x27;]),\n",
              "                                (&#x27;scaleMiMa&#x27;, MinMaxScaler(),\n",
              "                                 [&#x27;Battle Experience&#x27;]),\n",
              "                                (&#x27;scaleRob&#x27;, RobustScaler(), [&#x27;Losses&#x27;])])</pre></div></div></div><div class=\"sk-parallel\"><div class=\"sk-parallel-item\"><div class=\"sk-item\"><div class=\"sk-label-container\"><div class=\"sk-label sk-toggleable\"><input class=\"sk-toggleable__control sk-hidden--visually\" id=\"sk-estimator-id-35\" type=\"checkbox\" ><label for=\"sk-estimator-id-35\" class=\"sk-toggleable__label sk-toggleable__label-arrow\">scaleStandard</label><div class=\"sk-toggleable__content\"><pre>[&#x27;Age&#x27;, &#x27;Height&#x27;, &#x27;Weight&#x27;, &#x27;Wins&#x27;, &#x27;Mental Resilience&#x27;]</pre></div></div></div><div class=\"sk-serial\"><div class=\"sk-item\"><div class=\"sk-estimator sk-toggleable\"><input class=\"sk-toggleable__control sk-hidden--visually\" id=\"sk-estimator-id-36\" type=\"checkbox\" ><label for=\"sk-estimator-id-36\" class=\"sk-toggleable__label sk-toggleable__label-arrow\">StandardScaler</label><div class=\"sk-toggleable__content\"><pre>StandardScaler()</pre></div></div></div></div></div></div><div class=\"sk-parallel-item\"><div class=\"sk-item\"><div class=\"sk-label-container\"><div class=\"sk-label sk-toggleable\"><input class=\"sk-toggleable__control sk-hidden--visually\" id=\"sk-estimator-id-37\" type=\"checkbox\" ><label for=\"sk-estimator-id-37\" class=\"sk-toggleable__label sk-toggleable__label-arrow\">scaleMiMa</label><div class=\"sk-toggleable__content\"><pre>[&#x27;Battle Experience&#x27;]</pre></div></div></div><div class=\"sk-serial\"><div class=\"sk-item\"><div class=\"sk-estimator sk-toggleable\"><input class=\"sk-toggleable__control sk-hidden--visually\" id=\"sk-estimator-id-38\" type=\"checkbox\" ><label for=\"sk-estimator-id-38\" class=\"sk-toggleable__label sk-toggleable__label-arrow\">MinMaxScaler</label><div class=\"sk-toggleable__content\"><pre>MinMaxScaler()</pre></div></div></div></div></div></div><div class=\"sk-parallel-item\"><div class=\"sk-item\"><div class=\"sk-label-container\"><div class=\"sk-label sk-toggleable\"><input class=\"sk-toggleable__control sk-hidden--visually\" id=\"sk-estimator-id-39\" type=\"checkbox\" ><label for=\"sk-estimator-id-39\" class=\"sk-toggleable__label sk-toggleable__label-arrow\">scaleRob</label><div class=\"sk-toggleable__content\"><pre>[&#x27;Losses&#x27;]</pre></div></div></div><div class=\"sk-serial\"><div class=\"sk-item\"><div class=\"sk-estimator sk-toggleable\"><input class=\"sk-toggleable__control sk-hidden--visually\" id=\"sk-estimator-id-40\" type=\"checkbox\" ><label for=\"sk-estimator-id-40\" class=\"sk-toggleable__label sk-toggleable__label-arrow\">RobustScaler</label><div class=\"sk-toggleable__content\"><pre>RobustScaler()</pre></div></div></div></div></div></div></div></div><div class=\"sk-item\"><div class=\"sk-estimator sk-toggleable\"><input class=\"sk-toggleable__control sk-hidden--visually\" id=\"sk-estimator-id-41\" type=\"checkbox\" ><label for=\"sk-estimator-id-41\" class=\"sk-toggleable__label sk-toggleable__label-arrow\">DecisionTreeClassifier</label><div class=\"sk-toggleable__content\"><pre>DecisionTreeClassifier()</pre></div></div></div></div></div></div></div>"
            ]
          },
          "metadata": {},
          "execution_count": 38
        }
      ]
    },
    {
      "cell_type": "markdown",
      "source": [
        "# Model Evaluation"
      ],
      "metadata": {
        "id": "p3QdidYHfWM2"
      }
    },
    {
      "cell_type": "markdown",
      "source": [
        "## Evaluasi SVM"
      ],
      "metadata": {
        "id": "OvNpQx_6fdK7"
      }
    },
    {
      "cell_type": "code",
      "source": [
        "xTrainFinal.head()"
      ],
      "metadata": {
        "colab": {
          "base_uri": "https://localhost:8080/",
          "height": 261
        },
        "id": "RYWPj-vUb6DZ",
        "outputId": "8b14b776-5c6b-4076-c526-e6796a69334f"
      },
      "execution_count": 44,
      "outputs": [
        {
          "output_type": "execute_result",
          "data": {
            "text/plain": [
              "           Age    Height    Weight      Wins  Mental Resilience  \\\n",
              "456   1.170787 -1.126666 -0.870915  0.870359          -0.751162   \n",
              "1345  0.179195 -2.916979  0.888025 -0.835166          -0.798795   \n",
              "839  -1.060295 -1.226128 -1.938843 -1.119420           2.651118   \n",
              "746  -0.688448 -0.132047 -0.431180 -0.835166          -0.639512   \n",
              "1227 -0.936346  0.265800  0.825206  0.870359           0.139426   \n",
              "\n",
              "      Battle Experience  Losses  Origin  Category  Weapon of Choice  \\\n",
              "456            0.419355     0.5       5         5                 2   \n",
              "1345           0.193548     0.0       4         5                 2   \n",
              "839            0.129032    -0.5       2         3                 6   \n",
              "746            0.161290    -0.5       3         3                 6   \n",
              "1227           0.451613     1.0       3         6                 5   \n",
              "\n",
              "      Equipment Quality  Injury History  Tactical Knowledge  Health Status  \\\n",
              "456                 0.0             0.0                 0.0            1.0   \n",
              "1345                0.0             0.0                 2.0            2.0   \n",
              "839                 0.0             0.0                 2.0            2.0   \n",
              "746                 2.0             0.0                 1.0            2.0   \n",
              "1227                0.0             0.0                 0.0            2.0   \n",
              "\n",
              "      Training Intensity  Battle Strategy  \n",
              "456                  1.0                1  \n",
              "1345                 1.0                1  \n",
              "839                  2.0                3  \n",
              "746                  1.0                2  \n",
              "1227                 1.0                2  "
            ],
            "text/html": [
              "\n",
              "  <div id=\"df-6b11324f-a6cd-4b17-b6c1-591093f1af15\" class=\"colab-df-container\">\n",
              "    <div>\n",
              "<style scoped>\n",
              "    .dataframe tbody tr th:only-of-type {\n",
              "        vertical-align: middle;\n",
              "    }\n",
              "\n",
              "    .dataframe tbody tr th {\n",
              "        vertical-align: top;\n",
              "    }\n",
              "\n",
              "    .dataframe thead th {\n",
              "        text-align: right;\n",
              "    }\n",
              "</style>\n",
              "<table border=\"1\" class=\"dataframe\">\n",
              "  <thead>\n",
              "    <tr style=\"text-align: right;\">\n",
              "      <th></th>\n",
              "      <th>Age</th>\n",
              "      <th>Height</th>\n",
              "      <th>Weight</th>\n",
              "      <th>Wins</th>\n",
              "      <th>Mental Resilience</th>\n",
              "      <th>Battle Experience</th>\n",
              "      <th>Losses</th>\n",
              "      <th>Origin</th>\n",
              "      <th>Category</th>\n",
              "      <th>Weapon of Choice</th>\n",
              "      <th>Equipment Quality</th>\n",
              "      <th>Injury History</th>\n",
              "      <th>Tactical Knowledge</th>\n",
              "      <th>Health Status</th>\n",
              "      <th>Training Intensity</th>\n",
              "      <th>Battle Strategy</th>\n",
              "    </tr>\n",
              "  </thead>\n",
              "  <tbody>\n",
              "    <tr>\n",
              "      <th>456</th>\n",
              "      <td>1.170787</td>\n",
              "      <td>-1.126666</td>\n",
              "      <td>-0.870915</td>\n",
              "      <td>0.870359</td>\n",
              "      <td>-0.751162</td>\n",
              "      <td>0.419355</td>\n",
              "      <td>0.5</td>\n",
              "      <td>5</td>\n",
              "      <td>5</td>\n",
              "      <td>2</td>\n",
              "      <td>0.0</td>\n",
              "      <td>0.0</td>\n",
              "      <td>0.0</td>\n",
              "      <td>1.0</td>\n",
              "      <td>1.0</td>\n",
              "      <td>1</td>\n",
              "    </tr>\n",
              "    <tr>\n",
              "      <th>1345</th>\n",
              "      <td>0.179195</td>\n",
              "      <td>-2.916979</td>\n",
              "      <td>0.888025</td>\n",
              "      <td>-0.835166</td>\n",
              "      <td>-0.798795</td>\n",
              "      <td>0.193548</td>\n",
              "      <td>0.0</td>\n",
              "      <td>4</td>\n",
              "      <td>5</td>\n",
              "      <td>2</td>\n",
              "      <td>0.0</td>\n",
              "      <td>0.0</td>\n",
              "      <td>2.0</td>\n",
              "      <td>2.0</td>\n",
              "      <td>1.0</td>\n",
              "      <td>1</td>\n",
              "    </tr>\n",
              "    <tr>\n",
              "      <th>839</th>\n",
              "      <td>-1.060295</td>\n",
              "      <td>-1.226128</td>\n",
              "      <td>-1.938843</td>\n",
              "      <td>-1.119420</td>\n",
              "      <td>2.651118</td>\n",
              "      <td>0.129032</td>\n",
              "      <td>-0.5</td>\n",
              "      <td>2</td>\n",
              "      <td>3</td>\n",
              "      <td>6</td>\n",
              "      <td>0.0</td>\n",
              "      <td>0.0</td>\n",
              "      <td>2.0</td>\n",
              "      <td>2.0</td>\n",
              "      <td>2.0</td>\n",
              "      <td>3</td>\n",
              "    </tr>\n",
              "    <tr>\n",
              "      <th>746</th>\n",
              "      <td>-0.688448</td>\n",
              "      <td>-0.132047</td>\n",
              "      <td>-0.431180</td>\n",
              "      <td>-0.835166</td>\n",
              "      <td>-0.639512</td>\n",
              "      <td>0.161290</td>\n",
              "      <td>-0.5</td>\n",
              "      <td>3</td>\n",
              "      <td>3</td>\n",
              "      <td>6</td>\n",
              "      <td>2.0</td>\n",
              "      <td>0.0</td>\n",
              "      <td>1.0</td>\n",
              "      <td>2.0</td>\n",
              "      <td>1.0</td>\n",
              "      <td>2</td>\n",
              "    </tr>\n",
              "    <tr>\n",
              "      <th>1227</th>\n",
              "      <td>-0.936346</td>\n",
              "      <td>0.265800</td>\n",
              "      <td>0.825206</td>\n",
              "      <td>0.870359</td>\n",
              "      <td>0.139426</td>\n",
              "      <td>0.451613</td>\n",
              "      <td>1.0</td>\n",
              "      <td>3</td>\n",
              "      <td>6</td>\n",
              "      <td>5</td>\n",
              "      <td>0.0</td>\n",
              "      <td>0.0</td>\n",
              "      <td>0.0</td>\n",
              "      <td>2.0</td>\n",
              "      <td>1.0</td>\n",
              "      <td>2</td>\n",
              "    </tr>\n",
              "  </tbody>\n",
              "</table>\n",
              "</div>\n",
              "    <div class=\"colab-df-buttons\">\n",
              "\n",
              "  <div class=\"colab-df-container\">\n",
              "    <button class=\"colab-df-convert\" onclick=\"convertToInteractive('df-6b11324f-a6cd-4b17-b6c1-591093f1af15')\"\n",
              "            title=\"Convert this dataframe to an interactive table.\"\n",
              "            style=\"display:none;\">\n",
              "\n",
              "  <svg xmlns=\"http://www.w3.org/2000/svg\" height=\"24px\" viewBox=\"0 -960 960 960\">\n",
              "    <path d=\"M120-120v-720h720v720H120Zm60-500h600v-160H180v160Zm220 220h160v-160H400v160Zm0 220h160v-160H400v160ZM180-400h160v-160H180v160Zm440 0h160v-160H620v160ZM180-180h160v-160H180v160Zm440 0h160v-160H620v160Z\"/>\n",
              "  </svg>\n",
              "    </button>\n",
              "\n",
              "  <style>\n",
              "    .colab-df-container {\n",
              "      display:flex;\n",
              "      gap: 12px;\n",
              "    }\n",
              "\n",
              "    .colab-df-convert {\n",
              "      background-color: #E8F0FE;\n",
              "      border: none;\n",
              "      border-radius: 50%;\n",
              "      cursor: pointer;\n",
              "      display: none;\n",
              "      fill: #1967D2;\n",
              "      height: 32px;\n",
              "      padding: 0 0 0 0;\n",
              "      width: 32px;\n",
              "    }\n",
              "\n",
              "    .colab-df-convert:hover {\n",
              "      background-color: #E2EBFA;\n",
              "      box-shadow: 0px 1px 2px rgba(60, 64, 67, 0.3), 0px 1px 3px 1px rgba(60, 64, 67, 0.15);\n",
              "      fill: #174EA6;\n",
              "    }\n",
              "\n",
              "    .colab-df-buttons div {\n",
              "      margin-bottom: 4px;\n",
              "    }\n",
              "\n",
              "    [theme=dark] .colab-df-convert {\n",
              "      background-color: #3B4455;\n",
              "      fill: #D2E3FC;\n",
              "    }\n",
              "\n",
              "    [theme=dark] .colab-df-convert:hover {\n",
              "      background-color: #434B5C;\n",
              "      box-shadow: 0px 1px 3px 1px rgba(0, 0, 0, 0.15);\n",
              "      filter: drop-shadow(0px 1px 2px rgba(0, 0, 0, 0.3));\n",
              "      fill: #FFFFFF;\n",
              "    }\n",
              "  </style>\n",
              "\n",
              "    <script>\n",
              "      const buttonEl =\n",
              "        document.querySelector('#df-6b11324f-a6cd-4b17-b6c1-591093f1af15 button.colab-df-convert');\n",
              "      buttonEl.style.display =\n",
              "        google.colab.kernel.accessAllowed ? 'block' : 'none';\n",
              "\n",
              "      async function convertToInteractive(key) {\n",
              "        const element = document.querySelector('#df-6b11324f-a6cd-4b17-b6c1-591093f1af15');\n",
              "        const dataTable =\n",
              "          await google.colab.kernel.invokeFunction('convertToInteractive',\n",
              "                                                    [key], {});\n",
              "        if (!dataTable) return;\n",
              "\n",
              "        const docLinkHtml = 'Like what you see? Visit the ' +\n",
              "          '<a target=\"_blank\" href=https://colab.research.google.com/notebooks/data_table.ipynb>data table notebook</a>'\n",
              "          + ' to learn more about interactive tables.';\n",
              "        element.innerHTML = '';\n",
              "        dataTable['output_type'] = 'display_data';\n",
              "        await google.colab.output.renderOutput(dataTable, element);\n",
              "        const docLink = document.createElement('div');\n",
              "        docLink.innerHTML = docLinkHtml;\n",
              "        element.appendChild(docLink);\n",
              "      }\n",
              "    </script>\n",
              "  </div>\n",
              "\n",
              "\n",
              "<div id=\"df-5a66313f-af3b-437e-bb30-7e2998dbf78b\">\n",
              "  <button class=\"colab-df-quickchart\" onclick=\"quickchart('df-5a66313f-af3b-437e-bb30-7e2998dbf78b')\"\n",
              "            title=\"Suggest charts\"\n",
              "            style=\"display:none;\">\n",
              "\n",
              "<svg xmlns=\"http://www.w3.org/2000/svg\" height=\"24px\"viewBox=\"0 0 24 24\"\n",
              "     width=\"24px\">\n",
              "    <g>\n",
              "        <path d=\"M19 3H5c-1.1 0-2 .9-2 2v14c0 1.1.9 2 2 2h14c1.1 0 2-.9 2-2V5c0-1.1-.9-2-2-2zM9 17H7v-7h2v7zm4 0h-2V7h2v10zm4 0h-2v-4h2v4z\"/>\n",
              "    </g>\n",
              "</svg>\n",
              "  </button>\n",
              "\n",
              "<style>\n",
              "  .colab-df-quickchart {\n",
              "      --bg-color: #E8F0FE;\n",
              "      --fill-color: #1967D2;\n",
              "      --hover-bg-color: #E2EBFA;\n",
              "      --hover-fill-color: #174EA6;\n",
              "      --disabled-fill-color: #AAA;\n",
              "      --disabled-bg-color: #DDD;\n",
              "  }\n",
              "\n",
              "  [theme=dark] .colab-df-quickchart {\n",
              "      --bg-color: #3B4455;\n",
              "      --fill-color: #D2E3FC;\n",
              "      --hover-bg-color: #434B5C;\n",
              "      --hover-fill-color: #FFFFFF;\n",
              "      --disabled-bg-color: #3B4455;\n",
              "      --disabled-fill-color: #666;\n",
              "  }\n",
              "\n",
              "  .colab-df-quickchart {\n",
              "    background-color: var(--bg-color);\n",
              "    border: none;\n",
              "    border-radius: 50%;\n",
              "    cursor: pointer;\n",
              "    display: none;\n",
              "    fill: var(--fill-color);\n",
              "    height: 32px;\n",
              "    padding: 0;\n",
              "    width: 32px;\n",
              "  }\n",
              "\n",
              "  .colab-df-quickchart:hover {\n",
              "    background-color: var(--hover-bg-color);\n",
              "    box-shadow: 0 1px 2px rgba(60, 64, 67, 0.3), 0 1px 3px 1px rgba(60, 64, 67, 0.15);\n",
              "    fill: var(--button-hover-fill-color);\n",
              "  }\n",
              "\n",
              "  .colab-df-quickchart-complete:disabled,\n",
              "  .colab-df-quickchart-complete:disabled:hover {\n",
              "    background-color: var(--disabled-bg-color);\n",
              "    fill: var(--disabled-fill-color);\n",
              "    box-shadow: none;\n",
              "  }\n",
              "\n",
              "  .colab-df-spinner {\n",
              "    border: 2px solid var(--fill-color);\n",
              "    border-color: transparent;\n",
              "    border-bottom-color: var(--fill-color);\n",
              "    animation:\n",
              "      spin 1s steps(1) infinite;\n",
              "  }\n",
              "\n",
              "  @keyframes spin {\n",
              "    0% {\n",
              "      border-color: transparent;\n",
              "      border-bottom-color: var(--fill-color);\n",
              "      border-left-color: var(--fill-color);\n",
              "    }\n",
              "    20% {\n",
              "      border-color: transparent;\n",
              "      border-left-color: var(--fill-color);\n",
              "      border-top-color: var(--fill-color);\n",
              "    }\n",
              "    30% {\n",
              "      border-color: transparent;\n",
              "      border-left-color: var(--fill-color);\n",
              "      border-top-color: var(--fill-color);\n",
              "      border-right-color: var(--fill-color);\n",
              "    }\n",
              "    40% {\n",
              "      border-color: transparent;\n",
              "      border-right-color: var(--fill-color);\n",
              "      border-top-color: var(--fill-color);\n",
              "    }\n",
              "    60% {\n",
              "      border-color: transparent;\n",
              "      border-right-color: var(--fill-color);\n",
              "    }\n",
              "    80% {\n",
              "      border-color: transparent;\n",
              "      border-right-color: var(--fill-color);\n",
              "      border-bottom-color: var(--fill-color);\n",
              "    }\n",
              "    90% {\n",
              "      border-color: transparent;\n",
              "      border-bottom-color: var(--fill-color);\n",
              "    }\n",
              "  }\n",
              "</style>\n",
              "\n",
              "  <script>\n",
              "    async function quickchart(key) {\n",
              "      const quickchartButtonEl =\n",
              "        document.querySelector('#' + key + ' button');\n",
              "      quickchartButtonEl.disabled = true;  // To prevent multiple clicks.\n",
              "      quickchartButtonEl.classList.add('colab-df-spinner');\n",
              "      try {\n",
              "        const charts = await google.colab.kernel.invokeFunction(\n",
              "            'suggestCharts', [key], {});\n",
              "      } catch (error) {\n",
              "        console.error('Error during call to suggestCharts:', error);\n",
              "      }\n",
              "      quickchartButtonEl.classList.remove('colab-df-spinner');\n",
              "      quickchartButtonEl.classList.add('colab-df-quickchart-complete');\n",
              "    }\n",
              "    (() => {\n",
              "      let quickchartButtonEl =\n",
              "        document.querySelector('#df-5a66313f-af3b-437e-bb30-7e2998dbf78b button');\n",
              "      quickchartButtonEl.style.display =\n",
              "        google.colab.kernel.accessAllowed ? 'block' : 'none';\n",
              "    })();\n",
              "  </script>\n",
              "</div>\n",
              "    </div>\n",
              "  </div>\n"
            ]
          },
          "metadata": {},
          "execution_count": 44
        }
      ]
    },
    {
      "cell_type": "code",
      "source": [
        "# Evaluasi prediksi model SVM\n",
        "\n",
        "## DEV NOTE: Bagian ini aku tidak tahu errornya kenapa. Soalnya ketika pendefinisian\n",
        "##           svm dirun lagi (blok kode Training SVM), kode ini akan jalan lagi.\n",
        "\n",
        "yPredTrainSVM = svm.predict(xTrainFinal)\n",
        "yPredTestSVM = svm.predict(xTestFinal)\n",
        "\n",
        "print('Train SVM Report : \\n', classification_report(yTrain, yPredTrainSVM), '\\n')\n",
        "print('Test SVM Report : \\n', classification_report(yTest, yPredTestSVM), '\\n')"
      ],
      "metadata": {
        "colab": {
          "base_uri": "https://localhost:8080/"
        },
        "id": "7GfVxdVWro6L",
        "outputId": "9bb6fc46-ebc4-4e6d-c17a-e0079bf377b9"
      },
      "execution_count": 48,
      "outputs": [
        {
          "output_type": "stream",
          "name": "stdout",
          "text": [
            "Train SVM Report : \n",
            "               precision    recall  f1-score   support\n",
            "\n",
            "           0       0.94      0.42      0.58       330\n",
            "           1       0.90      0.99      0.95      1770\n",
            "\n",
            "    accuracy                           0.90      2100\n",
            "   macro avg       0.92      0.71      0.76      2100\n",
            "weighted avg       0.91      0.90      0.89      2100\n",
            " \n",
            "\n",
            "Test SVM Report : \n",
            "               precision    recall  f1-score   support\n",
            "\n",
            "           0       0.87      0.37      0.51       145\n",
            "           1       0.89      0.99      0.94       755\n",
            "\n",
            "    accuracy                           0.89       900\n",
            "   macro avg       0.88      0.68      0.73       900\n",
            "weighted avg       0.89      0.89      0.87       900\n",
            " \n",
            "\n"
          ]
        }
      ]
    },
    {
      "cell_type": "code",
      "source": [
        "# Evaluasi prediksi model SVM lewat pipeline\n",
        "\n",
        "yPredTrainSVMPipe = pipeSVC.predict(xTrain)\n",
        "yPredTestSVMPipe = pipeSVC.predict(xTest)\n",
        "\n",
        "print('Train SVM (Pipe) Report : \\n', classification_report(yTrain, yPredTrainSVMPipe), '\\n')\n",
        "print('Test SVM (Pipe) Report : \\n', classification_report(yTest, yPredTestSVMPipe), '\\n')"
      ],
      "metadata": {
        "colab": {
          "base_uri": "https://localhost:8080/"
        },
        "id": "iIqsEd_O5xce",
        "outputId": "fafd3b97-41cf-4122-b004-9a06993cab93"
      },
      "execution_count": 41,
      "outputs": [
        {
          "output_type": "stream",
          "name": "stdout",
          "text": [
            "Train SVM (Pipe) Report : \n",
            "               precision    recall  f1-score   support\n",
            "\n",
            "           0       0.86      0.45      0.59       330\n",
            "           1       0.91      0.99      0.94      1770\n",
            "\n",
            "    accuracy                           0.90      2100\n",
            "   macro avg       0.88      0.72      0.77      2100\n",
            "weighted avg       0.90      0.90      0.89      2100\n",
            " \n",
            "\n",
            "Test SVM (Pipe) Report : \n",
            "               precision    recall  f1-score   support\n",
            "\n",
            "           0       0.80      0.36      0.50       145\n",
            "           1       0.89      0.98      0.93       755\n",
            "\n",
            "    accuracy                           0.88       900\n",
            "   macro avg       0.84      0.67      0.71       900\n",
            "weighted avg       0.87      0.88      0.86       900\n",
            " \n",
            "\n"
          ]
        }
      ]
    },
    {
      "cell_type": "markdown",
      "source": [
        "Akurasi klasifkasi kurang lebih sama dengan dan tanpa pipeline. Klasifikasi dengan model-model yang lainnya akan menggunakan pipeline model masing masing. Sebelum beralih ke pipeline model yang lain, model SVM akan ditune parameternya dengan RandomSearchCV. Cek performa model dengan Cross-Validation."
      ],
      "metadata": {
        "id": "3VVSpNmCs7Ne"
      }
    },
    {
      "cell_type": "code",
      "source": [
        "# Cross Validation pipeline SVM\n",
        "\n",
        "f1TrainCrossVal = cross_val_score(pipeSVC,\n",
        "                                  xTrain,\n",
        "                                  yTrain,\n",
        "                                  cv=3,\n",
        "                                  scoring=\"f1\")\n",
        "\n",
        "print('F1 Score - All - Cross Validation  : ', f1TrainCrossVal)\n",
        "print('F1 Score - Mean - Cross Validation : ', f1TrainCrossVal.mean())\n",
        "print('F1 Score - Std - Cross Validation  : ', f1TrainCrossVal.std())\n",
        "print(f'F1 Score - Range of Test-Set       :  {f1TrainCrossVal.mean()-f1TrainCrossVal.std()} - {f1TrainCrossVal.mean()+f1TrainCrossVal.std()}')"
      ],
      "metadata": {
        "colab": {
          "base_uri": "https://localhost:8080/"
        },
        "id": "RGntbFbB1QIe",
        "outputId": "64db3170-35ce-4275-8b57-01429c31b101"
      },
      "execution_count": 42,
      "outputs": [
        {
          "output_type": "stream",
          "name": "stderr",
          "text": [
            "/usr/local/lib/python3.10/dist-packages/sklearn/utils/validation.py:1143: DataConversionWarning: A column-vector y was passed when a 1d array was expected. Please change the shape of y to (n_samples, ), for example using ravel().\n",
            "  y = column_or_1d(y, warn=True)\n",
            "/usr/local/lib/python3.10/dist-packages/sklearn/utils/validation.py:1143: DataConversionWarning: A column-vector y was passed when a 1d array was expected. Please change the shape of y to (n_samples, ), for example using ravel().\n",
            "  y = column_or_1d(y, warn=True)\n",
            "/usr/local/lib/python3.10/dist-packages/sklearn/utils/validation.py:1143: DataConversionWarning: A column-vector y was passed when a 1d array was expected. Please change the shape of y to (n_samples, ), for example using ravel().\n",
            "  y = column_or_1d(y, warn=True)\n"
          ]
        },
        {
          "output_type": "stream",
          "name": "stdout",
          "text": [
            "F1 Score - All - Cross Validation  :  [0.93956487 0.93936944 0.94462541]\n",
            "F1 Score - Mean - Cross Validation :  0.9411865721359\n",
            "F1 Score - Std - Cross Validation  :  0.0024329320433335425\n",
            "F1 Score - Range of Test-Set       :  0.9387536400925665 - 0.9436195041792335\n"
          ]
        }
      ]
    },
    {
      "cell_type": "markdown",
      "source": [
        "Hasil CV menunjukkan bahwa F1 Score model pipeline SVM ketika memprediksi data test pada notebook ini berkisar dari 93,8% hingga 94,3%. Hasil ini konsisten dengan nilai F1 Score yang ditunjukkan oleh Classification Report di blok kode sebelumnya, yakni 93%. Model ini terhindar dari overfit."
      ],
      "metadata": {
        "id": "uFCi7iY34g3H"
      }
    },
    {
      "cell_type": "code",
      "source": [
        "# Tuning parameter pipeline SVM\n",
        "\n",
        "# Parameter-parameter SVM untuk RandomSearchCV\n",
        "paramsSVM = {'svm__C': list(range(10, 110, 10)),\n",
        "            'svm__kernel': ['rbf', 'poly', 'sigmoid'],\n",
        "            'svm__degree': [3, 4, 5],\n",
        "            'svm__gamma': ['auto', 'scale']}\n",
        "\n",
        "# Training pipeline SVM dengan RandomSearchCV\n",
        "clfSVC = RandomizedSearchCV(estimator=pipeSVC,\n",
        "                            param_distributions=paramsSVM,\n",
        "                            n_iter=20,\n",
        "                            cv=3,\n",
        "                            random_state=46,\n",
        "                            n_jobs=-1,\n",
        "                            scoring='f1')\n",
        "\n",
        "clfSVC.fit(xTrain, yTrain)\n",
        "\n",
        "# Best estimator pipeline SVM\n",
        "\n",
        "clfSVCBest = clfSVC.best_estimator_"
      ],
      "metadata": {
        "colab": {
          "base_uri": "https://localhost:8080/"
        },
        "id": "7WhUxlIy5a0a",
        "outputId": "ee32d431-65bd-4f7a-9d5a-a2055cb49dee"
      },
      "execution_count": 43,
      "outputs": [
        {
          "output_type": "stream",
          "name": "stderr",
          "text": [
            "/usr/local/lib/python3.10/dist-packages/sklearn/utils/validation.py:1143: DataConversionWarning: A column-vector y was passed when a 1d array was expected. Please change the shape of y to (n_samples, ), for example using ravel().\n",
            "  y = column_or_1d(y, warn=True)\n"
          ]
        }
      ]
    },
    {
      "cell_type": "code",
      "source": [
        "# Cek performa pipeline SVM yang telah ditune\n",
        "\n",
        "yPredTrainSVMPipeTuned = clfSVCBest.predict(xTrain)\n",
        "yPredTestSVMPipeTuned = clfSVCBest.predict(xTest)\n",
        "\n",
        "print('Train SVM (Pipe-Tuned) Report : \\n', classification_report(yTrain, yPredTrainSVMPipeTuned), '\\n')\n",
        "print('Test SVM (Pipe-Tuned) Report : \\n', classification_report(yTest, yPredTestSVMPipeTuned), '\\n')"
      ],
      "metadata": {
        "colab": {
          "base_uri": "https://localhost:8080/"
        },
        "id": "IOLdC4c-7_r8",
        "outputId": "52de75f8-efe8-4dd9-e94d-cce66d138d20"
      },
      "execution_count": 49,
      "outputs": [
        {
          "output_type": "stream",
          "name": "stdout",
          "text": [
            "Train SVM (Pipe-Tuned) Report : \n",
            "               precision    recall  f1-score   support\n",
            "\n",
            "           0       0.87      0.54      0.66       330\n",
            "           1       0.92      0.99      0.95      1770\n",
            "\n",
            "    accuracy                           0.91      2100\n",
            "   macro avg       0.90      0.76      0.81      2100\n",
            "weighted avg       0.91      0.91      0.91      2100\n",
            " \n",
            "\n",
            "Test SVM (Pipe-Tuned) Report : \n",
            "               precision    recall  f1-score   support\n",
            "\n",
            "           0       0.76      0.47      0.58       145\n",
            "           1       0.90      0.97      0.94       755\n",
            "\n",
            "    accuracy                           0.89       900\n",
            "   macro avg       0.83      0.72      0.76       900\n",
            "weighted avg       0.88      0.89      0.88       900\n",
            " \n",
            "\n"
          ]
        }
      ]
    },
    {
      "cell_type": "markdown",
      "source": [
        "Akurasi model SVM yang telah ditune meningkat 1% prediksinya pada data train dan test."
      ],
      "metadata": {
        "id": "Kfl0-aQ-8W4V"
      }
    },
    {
      "cell_type": "markdown",
      "source": [
        "## Evaluasi KNN"
      ],
      "metadata": {
        "id": "8XbXCqqK5rw6"
      }
    },
    {
      "cell_type": "code",
      "source": [
        "# Evaluasi prediksi model KNN lewat pipeline\n",
        "\n",
        "yPredTrainKNNPipe = pipeKNN.predict(xTrain)\n",
        "yPredTestKNNPipe = pipeKNN.predict(xTest)\n",
        "\n",
        "print('Train KNN (Pipe) Report : \\n', classification_report(yTrain, yPredTrainKNNPipe), '\\n')\n",
        "print('Test KNN (Pipe) Report : \\n', classification_report(yTest, yPredTestKNNPipe), '\\n')"
      ],
      "metadata": {
        "colab": {
          "base_uri": "https://localhost:8080/"
        },
        "id": "TxvtTrPmwswb",
        "outputId": "93a8a4f5-4e16-4d43-f5d3-3e5ebb8f5560"
      },
      "execution_count": 50,
      "outputs": [
        {
          "output_type": "stream",
          "name": "stdout",
          "text": [
            "Train KNN (Pipe) Report : \n",
            "               precision    recall  f1-score   support\n",
            "\n",
            "           0       0.91      0.30      0.45       330\n",
            "           1       0.88      0.99      0.94      1770\n",
            "\n",
            "    accuracy                           0.88      2100\n",
            "   macro avg       0.90      0.65      0.69      2100\n",
            "weighted avg       0.89      0.88      0.86      2100\n",
            " \n",
            "\n",
            "Test KNN (Pipe) Report : \n",
            "               precision    recall  f1-score   support\n",
            "\n",
            "           0       0.75      0.21      0.32       145\n",
            "           1       0.87      0.99      0.92       755\n",
            "\n",
            "    accuracy                           0.86       900\n",
            "   macro avg       0.81      0.60      0.62       900\n",
            "weighted avg       0.85      0.86      0.83       900\n",
            " \n",
            "\n"
          ]
        }
      ]
    },
    {
      "cell_type": "markdown",
      "source": [
        "Performa pipeline KNN cukup baik dengan selisih akurasi 2% pada data train dan test."
      ],
      "metadata": {
        "id": "6FJ2LHE3Jiy9"
      }
    },
    {
      "cell_type": "code",
      "source": [
        "# Tuning parameter pipeline KNN\n",
        "\n",
        "# Parameter-parameter KNN untuk RandomSearchCV\n",
        "paramsKNN = {'knn__n_neighbors': list(range(50, 80, 10)),\n",
        "            'knn__weights': ['uniform', 'distance']}\n",
        "\n",
        "# Training pipeline KNN dengan RandomSearchCV\n",
        "clfKNN = RandomizedSearchCV(estimator=pipeKNN,\n",
        "                            param_distributions=paramsKNN,\n",
        "                            n_iter=20,\n",
        "                            cv=3,\n",
        "                            random_state=46,\n",
        "                            n_jobs=-1,\n",
        "                            scoring='f1')\n",
        "\n",
        "clfKNN.fit(xTrain, yTrain)\n",
        "\n",
        "# Best estimator pipeline KNN\n",
        "\n",
        "clfKNNBest = clfKNN.best_estimator_"
      ],
      "metadata": {
        "colab": {
          "base_uri": "https://localhost:8080/"
        },
        "id": "2jcUJ1en9uX2",
        "outputId": "12529c85-593a-4fed-d396-cba76bbdd97c"
      },
      "execution_count": 51,
      "outputs": [
        {
          "output_type": "stream",
          "name": "stderr",
          "text": [
            "/usr/local/lib/python3.10/dist-packages/sklearn/model_selection/_search.py:305: UserWarning: The total space of parameters 6 is smaller than n_iter=20. Running 6 iterations. For exhaustive searches, use GridSearchCV.\n",
            "  warnings.warn(\n",
            "/usr/local/lib/python3.10/dist-packages/sklearn/neighbors/_classification.py:215: DataConversionWarning: A column-vector y was passed when a 1d array was expected. Please change the shape of y to (n_samples,), for example using ravel().\n",
            "  return self._fit(X, y)\n"
          ]
        }
      ]
    },
    {
      "cell_type": "code",
      "source": [
        "# Cek performa pipeline KNN yang telah ditune\n",
        "\n",
        "yPredTrainKNNPipeTuned = clfKNNBest.predict(xTrain)\n",
        "yPredTestKNNPipeTuned = clfKNNBest.predict(xTest)\n",
        "\n",
        "print('Train KNN (Pipe-Tuned) Report : \\n', classification_report(yTrain, yPredTrainKNNPipeTuned), '\\n')\n",
        "print('Test KNN (Pipe-Tuned) Report : \\n', classification_report(yTest, yPredTestKNNPipeTuned), '\\n')"
      ],
      "metadata": {
        "colab": {
          "base_uri": "https://localhost:8080/"
        },
        "id": "1nebn1Qz-a_D",
        "outputId": "e8d09dca-26db-4a38-e70c-fb21f0f2e13a"
      },
      "execution_count": 52,
      "outputs": [
        {
          "output_type": "stream",
          "name": "stdout",
          "text": [
            "Train KNN (Pipe-Tuned) Report : \n",
            "               precision    recall  f1-score   support\n",
            "\n",
            "           0       1.00      1.00      1.00       330\n",
            "           1       1.00      1.00      1.00      1770\n",
            "\n",
            "    accuracy                           1.00      2100\n",
            "   macro avg       1.00      1.00      1.00      2100\n",
            "weighted avg       1.00      1.00      1.00      2100\n",
            " \n",
            "\n",
            "Test KNN (Pipe-Tuned) Report : \n",
            "               precision    recall  f1-score   support\n",
            "\n",
            "           0       0.76      0.23      0.36       145\n",
            "           1       0.87      0.99      0.92       755\n",
            "\n",
            "    accuracy                           0.86       900\n",
            "   macro avg       0.81      0.61      0.64       900\n",
            "weighted avg       0.85      0.86      0.83       900\n",
            " \n",
            "\n"
          ]
        }
      ]
    },
    {
      "cell_type": "markdown",
      "source": [
        "Prediksi model KNN yang telah ditune lebih overfit dibandingkan sebelum tuning. Akurasi pada data train naik menjadi 100% sementara akurasi pada data test tetap 86%."
      ],
      "metadata": {
        "id": "aEIYki91_D9T"
      }
    },
    {
      "cell_type": "markdown",
      "source": [
        "## Evaluasi Random Forest"
      ],
      "metadata": {
        "id": "1ILC-JsI5tw1"
      }
    },
    {
      "cell_type": "code",
      "source": [
        "# Evaluasi prediksi model Random Forest lewat pipeline\n",
        "\n",
        "yPredTrainRFPipe = pipeRF.predict(xTrain)\n",
        "yPredTestRFPipe = pipeRF.predict(xTest)\n",
        "\n",
        "print('Train Random Forest (Pipe) Report : \\n', classification_report(yTrain, yPredTrainRFPipe), '\\n')\n",
        "print('Test Random Forest (Pipe) Report : \\n', classification_report(yTest, yPredTestRFPipe), '\\n')"
      ],
      "metadata": {
        "colab": {
          "base_uri": "https://localhost:8080/"
        },
        "id": "01r_l4D8x3zr",
        "outputId": "7498488d-1ec3-449a-e2df-2e2fba2f09c2"
      },
      "execution_count": 53,
      "outputs": [
        {
          "output_type": "stream",
          "name": "stdout",
          "text": [
            "Train Random Forest (Pipe) Report : \n",
            "               precision    recall  f1-score   support\n",
            "\n",
            "           0       1.00      1.00      1.00       330\n",
            "           1       1.00      1.00      1.00      1770\n",
            "\n",
            "    accuracy                           1.00      2100\n",
            "   macro avg       1.00      1.00      1.00      2100\n",
            "weighted avg       1.00      1.00      1.00      2100\n",
            " \n",
            "\n",
            "Test Random Forest (Pipe) Report : \n",
            "               precision    recall  f1-score   support\n",
            "\n",
            "           0       0.75      0.50      0.60       145\n",
            "           1       0.91      0.97      0.94       755\n",
            "\n",
            "    accuracy                           0.89       900\n",
            "   macro avg       0.83      0.73      0.77       900\n",
            "weighted avg       0.88      0.89      0.88       900\n",
            " \n",
            "\n"
          ]
        }
      ]
    },
    {
      "cell_type": "markdown",
      "source": [
        "Model pipeline Random Forest di sini overfit. Akurasi prediksi pada data train adalah 100% sementara pada data test akurasi prediksinya 89%."
      ],
      "metadata": {
        "id": "oXJK_XAUAN3z"
      }
    },
    {
      "cell_type": "code",
      "source": [
        "# Tuning parameter pipeline Random Forest\n",
        "\n",
        "# Parameter-parameter RF untuk RandomSearchCV\n",
        "paramsRF = {'randFor__n_estimators': [200, 300, 400, 500],\n",
        "            'randFor__max_depth': [100, 200, 300, 400],\n",
        "            'randFor__min_samples_split': [2, 5, 10, 14],\n",
        "            'randFor__min_samples_leaf': [1, 2, 4, 6, 8]}\n",
        "\n",
        "# Training pipeline RF dengan RandomSearchCV\n",
        "clfRF = RandomizedSearchCV(estimator=pipeRF,\n",
        "                            param_distributions=paramsRF,\n",
        "                            n_iter=20,\n",
        "                            cv=3,\n",
        "                            random_state=46,\n",
        "                            n_jobs=-1,\n",
        "                            scoring='f1')\n",
        "\n",
        "clfRF.fit(xTrain, yTrain)\n",
        "\n",
        "# Best estimator pipeline RF\n",
        "\n",
        "clfRFBest = clfRF.best_estimator_"
      ],
      "metadata": {
        "colab": {
          "base_uri": "https://localhost:8080/"
        },
        "id": "nWX8jLVY_Wc3",
        "outputId": "eb1b082f-2edc-43e4-f224-4641e729a0e2"
      },
      "execution_count": 54,
      "outputs": [
        {
          "output_type": "stream",
          "name": "stderr",
          "text": [
            "/usr/local/lib/python3.10/dist-packages/sklearn/pipeline.py:405: DataConversionWarning: A column-vector y was passed when a 1d array was expected. Please change the shape of y to (n_samples,), for example using ravel().\n",
            "  self._final_estimator.fit(Xt, y, **fit_params_last_step)\n"
          ]
        }
      ]
    },
    {
      "cell_type": "code",
      "source": [
        "# Cek performa pipeline RF setelah ditune\n",
        "\n",
        "yPredTrainRFPipeTuned = clfRFBest.predict(xTrain)\n",
        "yPredTestRFPipeTuned = clfRFBest.predict(xTest)\n",
        "\n",
        "print('Train Random Forest (Pipe-Tuned) Report : \\n', classification_report(yTrain, yPredTrainRFPipeTuned), '\\n')\n",
        "print('Test Random Forest (Pipe-Tuned) Report : \\n', classification_report(yTest, yPredTestRFPipeTuned), '\\n')"
      ],
      "metadata": {
        "colab": {
          "base_uri": "https://localhost:8080/"
        },
        "id": "BxV4QvvaAwbP",
        "outputId": "b5f99366-badf-4baf-a50d-87764dc6de28"
      },
      "execution_count": 55,
      "outputs": [
        {
          "output_type": "stream",
          "name": "stdout",
          "text": [
            "Train Random Forest (Pipe-Tuned) Report : \n",
            "               precision    recall  f1-score   support\n",
            "\n",
            "           0       0.96      0.70      0.81       330\n",
            "           1       0.95      0.99      0.97      1770\n",
            "\n",
            "    accuracy                           0.95      2100\n",
            "   macro avg       0.95      0.85      0.89      2100\n",
            "weighted avg       0.95      0.95      0.95      2100\n",
            " \n",
            "\n",
            "Test Random Forest (Pipe-Tuned) Report : \n",
            "               precision    recall  f1-score   support\n",
            "\n",
            "           0       0.75      0.47      0.58       145\n",
            "           1       0.90      0.97      0.94       755\n",
            "\n",
            "    accuracy                           0.89       900\n",
            "   macro avg       0.83      0.72      0.76       900\n",
            "weighted avg       0.88      0.89      0.88       900\n",
            " \n",
            "\n"
          ]
        }
      ]
    },
    {
      "cell_type": "markdown",
      "source": [
        "Performa pipeline Random Forest masih overfit, tapi sedikit lebih baik. Akurasi data train sebelum tune adalah 100%. Setelah tune akurasinya menjadi 94% - 95%. Terjadi penurunan tapi semakin dekat dengan akurasi data tes."
      ],
      "metadata": {
        "id": "1H7JTgZcCtRY"
      }
    },
    {
      "cell_type": "markdown",
      "source": [
        "## Evaluasi Decision Tree"
      ],
      "metadata": {
        "id": "OKvgcllY5vZv"
      }
    },
    {
      "cell_type": "code",
      "source": [
        "# Evaluasi prediksi model Decision Tree lewat pipeline\n",
        "\n",
        "yPredTrainDTPipe = pipeDT.predict(xTrain)\n",
        "yPredTestDTPipe = pipeDT.predict(xTest)\n",
        "\n",
        "print('Train Dec. Tree (Pipe) Report : \\n', classification_report(yTrain, yPredTrainDTPipe), '\\n')\n",
        "print('Test Dec. Tree (Pipe) Report : \\n', classification_report(yTest, yPredTestDTPipe), '\\n')"
      ],
      "metadata": {
        "colab": {
          "base_uri": "https://localhost:8080/"
        },
        "id": "DGNQ5OT6yKS3",
        "outputId": "4441abea-3c00-4ec9-a19d-983bb4d0e320"
      },
      "execution_count": 56,
      "outputs": [
        {
          "output_type": "stream",
          "name": "stdout",
          "text": [
            "Train Dec. Tree (Pipe) Report : \n",
            "               precision    recall  f1-score   support\n",
            "\n",
            "           0       1.00      1.00      1.00       330\n",
            "           1       1.00      1.00      1.00      1770\n",
            "\n",
            "    accuracy                           1.00      2100\n",
            "   macro avg       1.00      1.00      1.00      2100\n",
            "weighted avg       1.00      1.00      1.00      2100\n",
            " \n",
            "\n",
            "Test Dec. Tree (Pipe) Report : \n",
            "               precision    recall  f1-score   support\n",
            "\n",
            "           0       0.58      0.59      0.59       145\n",
            "           1       0.92      0.92      0.92       755\n",
            "\n",
            "    accuracy                           0.86       900\n",
            "   macro avg       0.75      0.75      0.75       900\n",
            "weighted avg       0.87      0.86      0.87       900\n",
            " \n",
            "\n"
          ]
        }
      ]
    },
    {
      "cell_type": "markdown",
      "source": [
        "Performa model Decision Tree pada notebook ini juga overfit dengan akurasi pada data train 100% dan 86% pada data test."
      ],
      "metadata": {
        "id": "zTJmA8_0GnbB"
      }
    },
    {
      "cell_type": "code",
      "source": [
        "# Tuning parameter pipeline Dec. Tree\n",
        "\n",
        "# Parameter-parameter DT untuk RandomSearchCV\n",
        "paramsDT = {'decTree__splitter': ['best', 'random'],\n",
        "            'decTree__max_depth': [100, 200, 300, 400],\n",
        "            'decTree__min_samples_split': [2, 5, 10, 14],\n",
        "            'decTree__min_samples_leaf': [1, 2, 4, 6, 8]}\n",
        "\n",
        "# Training pipeline DT dengan RandomSearchCV\n",
        "clfDT = RandomizedSearchCV(estimator=pipeDT,\n",
        "                            param_distributions=paramsDT,\n",
        "                            n_iter=20,\n",
        "                            cv=3,\n",
        "                            random_state=46,\n",
        "                            n_jobs=-1,\n",
        "                            scoring='f1')\n",
        "\n",
        "clfDT.fit(xTrain, yTrain)\n",
        "\n",
        "# Best estimator pipeline DT\n",
        "\n",
        "clfDTBest = clfDT.best_estimator_"
      ],
      "metadata": {
        "id": "xxI_lvelFazB"
      },
      "execution_count": 57,
      "outputs": []
    },
    {
      "cell_type": "code",
      "source": [
        "# Cek pipeline Dec. Tree setelah ditune\n",
        "\n",
        "yPredTrainDTPipeTuned = clfDTBest.predict(xTrain)\n",
        "yPredTestDTPipeTuned = clfDTBest.predict(xTest)\n",
        "\n",
        "print('Train Dec. Tree (Pipe-Tuned) Report : \\n', classification_report(yTrain, yPredTrainDTPipeTuned), '\\n')\n",
        "print('Test Dec. Tree (Pipe-Tuned) Report : \\n', classification_report(yTest, yPredTestDTPipeTuned), '\\n')"
      ],
      "metadata": {
        "colab": {
          "base_uri": "https://localhost:8080/"
        },
        "id": "5aPCg5xuHtN1",
        "outputId": "c4afb6e0-b640-4dff-8633-b138ddddb5a1"
      },
      "execution_count": 58,
      "outputs": [
        {
          "output_type": "stream",
          "name": "stdout",
          "text": [
            "Train Dec. Tree (Pipe-Tuned) Report : \n",
            "               precision    recall  f1-score   support\n",
            "\n",
            "           0       0.73      0.57      0.64       330\n",
            "           1       0.92      0.96      0.94      1770\n",
            "\n",
            "    accuracy                           0.90      2100\n",
            "   macro avg       0.83      0.77      0.79      2100\n",
            "weighted avg       0.89      0.90      0.89      2100\n",
            " \n",
            "\n",
            "Test Dec. Tree (Pipe-Tuned) Report : \n",
            "               precision    recall  f1-score   support\n",
            "\n",
            "           0       0.61      0.48      0.53       145\n",
            "           1       0.90      0.94      0.92       755\n",
            "\n",
            "    accuracy                           0.87       900\n",
            "   macro avg       0.75      0.71      0.73       900\n",
            "weighted avg       0.86      0.87      0.86       900\n",
            " \n",
            "\n"
          ]
        }
      ]
    },
    {
      "cell_type": "markdown",
      "source": [
        "Performa model Decision Tree setelah ditune menjadi lebih baik dengan akurasinya pada data train 90%, sementara akurasinya pada data test adalah 88%. Selisih akurasinya antara data train dan test adalah 2%. Selisih akurasi ini sama dengan pipeline SVM yang telah ditune pada notebook ini. Namun pipeline SVM akurasinya lebih tinggi 1% sehingga model itu yang akan disave dan digunakan untuk memprediksi data baru."
      ],
      "metadata": {
        "id": "66A-PLA4IE0K"
      }
    },
    {
      "cell_type": "markdown",
      "source": [
        "# Model Saving"
      ],
      "metadata": {
        "id": "FBgpoS3JfXz6"
      }
    },
    {
      "cell_type": "markdown",
      "source": [
        "Saving pipeline SVM yang telah ditune untuk penggunaan kedepannya."
      ],
      "metadata": {
        "id": "EuX9ENtJfc-I"
      }
    },
    {
      "cell_type": "code",
      "source": [
        "# Simpan pipeline SVM yang telah ditune\n",
        "\n",
        "with open ('pipeTunedSVM.pkl', 'wb') as file1:\n",
        "  pickle.dump(clfSVCBest, file1)"
      ],
      "metadata": {
        "id": "YTuYv6kbX9GT"
      },
      "execution_count": 59,
      "outputs": []
    },
    {
      "cell_type": "code",
      "source": [
        "# Load pipeline SVM yang telah disave\n",
        "\n",
        "with open ('pipeTunedSVM.pkl', 'rb') as file1:\n",
        "  clfSVM = pickle.load(file1)"
      ],
      "metadata": {
        "id": "h7vqnmCEYRb2"
      },
      "execution_count": 60,
      "outputs": []
    },
    {
      "cell_type": "markdown",
      "source": [
        "# Model Inference"
      ],
      "metadata": {
        "id": "SW-xgkD7fdr1"
      }
    },
    {
      "cell_type": "markdown",
      "source": [
        "Akan dibuat data petarung baru yang akan diprediksi oleh pipeline model apakah petarung akan bertahan hidup atau tidak."
      ],
      "metadata": {
        "id": "B4Vix6aJfpAC"
      }
    },
    {
      "cell_type": "code",
      "source": [
        "dfcut.info()"
      ],
      "metadata": {
        "colab": {
          "base_uri": "https://localhost:8080/"
        },
        "id": "-eJbKJFGezrc",
        "outputId": "a347a79f-e28f-4d87-b99d-091a458834cc"
      },
      "execution_count": 61,
      "outputs": [
        {
          "output_type": "stream",
          "name": "stdout",
          "text": [
            "<class 'pandas.core.frame.DataFrame'>\n",
            "Int64Index: 3000 entries, 0 to 737569\n",
            "Data columns (total 18 columns):\n",
            " #   Column              Non-Null Count  Dtype  \n",
            "---  ------              --------------  -----  \n",
            " 0   Name                3000 non-null   object \n",
            " 1   Age                 3000 non-null   int64  \n",
            " 2   Origin              3000 non-null   object \n",
            " 3   Height              3000 non-null   int64  \n",
            " 4   Weight              3000 non-null   int64  \n",
            " 5   Category            3000 non-null   object \n",
            " 6   Wins                3000 non-null   int64  \n",
            " 7   Losses              3000 non-null   int64  \n",
            " 8   Weapon of Choice    3000 non-null   object \n",
            " 9   Equipment Quality   3000 non-null   object \n",
            " 10  Injury History      3000 non-null   object \n",
            " 11  Mental Resilience   3000 non-null   float64\n",
            " 12  Tactical Knowledge  3000 non-null   object \n",
            " 13  Battle Experience   3000 non-null   int64  \n",
            " 14  Health Status       3000 non-null   object \n",
            " 15  Training Intensity  3000 non-null   object \n",
            " 16  Battle Strategy     3000 non-null   object \n",
            " 17  Survived            3000 non-null   bool   \n",
            "dtypes: bool(1), float64(1), int64(6), object(10)\n",
            "memory usage: 424.8+ KB\n"
          ]
        }
      ]
    },
    {
      "cell_type": "code",
      "source": [
        "# Pembuatan data baru\n",
        "\n",
        "newData = {\n",
        "    'Name': 'Biggus Dickus',\n",
        "    'Age': 32,\n",
        "    'Origin': 3,\n",
        "    'Height': 170,\n",
        "    'Weight': 69,\n",
        "    'Category': 4,\n",
        "    'Wins': 6,\n",
        "    'Losses': 4,\n",
        "    'Weapon of Choice': 4,\n",
        "    'Equipment Quality': 1.0,\n",
        "    'Injury History': 0.0,\n",
        "    'Mental Resilience': 5.781233,\n",
        "    'Tactical Knowledge': 1.0,\n",
        "    'Battle Experience': 10,\n",
        "    'Health Status': 1.0,\n",
        "    'Training Intensity': 2.0,\n",
        "    'Battle Strategy': 1\n",
        "}\n",
        "\n",
        "newDataDF = pd.DataFrame(newData, index=[0])\n",
        "newDataDF"
      ],
      "metadata": {
        "colab": {
          "base_uri": "https://localhost:8080/",
          "height": 153
        },
        "id": "xqfxirmCerYC",
        "outputId": "f1da7737-a23c-41e2-8449-c6a7e465351c"
      },
      "execution_count": 65,
      "outputs": [
        {
          "output_type": "execute_result",
          "data": {
            "text/plain": [
              "            Name  Age  Origin  Height  Weight  Category  Wins  Losses  \\\n",
              "0  Biggus Dickus   32       3     170      69         4     6       4   \n",
              "\n",
              "   Weapon of Choice  Equipment Quality  Injury History  Mental Resilience  \\\n",
              "0                 4                1.0             0.0           5.781233   \n",
              "\n",
              "   Tactical Knowledge  Battle Experience  Health Status  Training Intensity  \\\n",
              "0                 1.0                 10            1.0                 2.0   \n",
              "\n",
              "   Battle Strategy  \n",
              "0                1  "
            ],
            "text/html": [
              "\n",
              "  <div id=\"df-146ef460-cde6-496a-84b5-8b0161dc906d\" class=\"colab-df-container\">\n",
              "    <div>\n",
              "<style scoped>\n",
              "    .dataframe tbody tr th:only-of-type {\n",
              "        vertical-align: middle;\n",
              "    }\n",
              "\n",
              "    .dataframe tbody tr th {\n",
              "        vertical-align: top;\n",
              "    }\n",
              "\n",
              "    .dataframe thead th {\n",
              "        text-align: right;\n",
              "    }\n",
              "</style>\n",
              "<table border=\"1\" class=\"dataframe\">\n",
              "  <thead>\n",
              "    <tr style=\"text-align: right;\">\n",
              "      <th></th>\n",
              "      <th>Name</th>\n",
              "      <th>Age</th>\n",
              "      <th>Origin</th>\n",
              "      <th>Height</th>\n",
              "      <th>Weight</th>\n",
              "      <th>Category</th>\n",
              "      <th>Wins</th>\n",
              "      <th>Losses</th>\n",
              "      <th>Weapon of Choice</th>\n",
              "      <th>Equipment Quality</th>\n",
              "      <th>Injury History</th>\n",
              "      <th>Mental Resilience</th>\n",
              "      <th>Tactical Knowledge</th>\n",
              "      <th>Battle Experience</th>\n",
              "      <th>Health Status</th>\n",
              "      <th>Training Intensity</th>\n",
              "      <th>Battle Strategy</th>\n",
              "    </tr>\n",
              "  </thead>\n",
              "  <tbody>\n",
              "    <tr>\n",
              "      <th>0</th>\n",
              "      <td>Biggus Dickus</td>\n",
              "      <td>32</td>\n",
              "      <td>3</td>\n",
              "      <td>170</td>\n",
              "      <td>69</td>\n",
              "      <td>4</td>\n",
              "      <td>6</td>\n",
              "      <td>4</td>\n",
              "      <td>4</td>\n",
              "      <td>1.0</td>\n",
              "      <td>0.0</td>\n",
              "      <td>5.781233</td>\n",
              "      <td>1.0</td>\n",
              "      <td>10</td>\n",
              "      <td>1.0</td>\n",
              "      <td>2.0</td>\n",
              "      <td>1</td>\n",
              "    </tr>\n",
              "  </tbody>\n",
              "</table>\n",
              "</div>\n",
              "    <div class=\"colab-df-buttons\">\n",
              "\n",
              "  <div class=\"colab-df-container\">\n",
              "    <button class=\"colab-df-convert\" onclick=\"convertToInteractive('df-146ef460-cde6-496a-84b5-8b0161dc906d')\"\n",
              "            title=\"Convert this dataframe to an interactive table.\"\n",
              "            style=\"display:none;\">\n",
              "\n",
              "  <svg xmlns=\"http://www.w3.org/2000/svg\" height=\"24px\" viewBox=\"0 -960 960 960\">\n",
              "    <path d=\"M120-120v-720h720v720H120Zm60-500h600v-160H180v160Zm220 220h160v-160H400v160Zm0 220h160v-160H400v160ZM180-400h160v-160H180v160Zm440 0h160v-160H620v160ZM180-180h160v-160H180v160Zm440 0h160v-160H620v160Z\"/>\n",
              "  </svg>\n",
              "    </button>\n",
              "\n",
              "  <style>\n",
              "    .colab-df-container {\n",
              "      display:flex;\n",
              "      gap: 12px;\n",
              "    }\n",
              "\n",
              "    .colab-df-convert {\n",
              "      background-color: #E8F0FE;\n",
              "      border: none;\n",
              "      border-radius: 50%;\n",
              "      cursor: pointer;\n",
              "      display: none;\n",
              "      fill: #1967D2;\n",
              "      height: 32px;\n",
              "      padding: 0 0 0 0;\n",
              "      width: 32px;\n",
              "    }\n",
              "\n",
              "    .colab-df-convert:hover {\n",
              "      background-color: #E2EBFA;\n",
              "      box-shadow: 0px 1px 2px rgba(60, 64, 67, 0.3), 0px 1px 3px 1px rgba(60, 64, 67, 0.15);\n",
              "      fill: #174EA6;\n",
              "    }\n",
              "\n",
              "    .colab-df-buttons div {\n",
              "      margin-bottom: 4px;\n",
              "    }\n",
              "\n",
              "    [theme=dark] .colab-df-convert {\n",
              "      background-color: #3B4455;\n",
              "      fill: #D2E3FC;\n",
              "    }\n",
              "\n",
              "    [theme=dark] .colab-df-convert:hover {\n",
              "      background-color: #434B5C;\n",
              "      box-shadow: 0px 1px 3px 1px rgba(0, 0, 0, 0.15);\n",
              "      filter: drop-shadow(0px 1px 2px rgba(0, 0, 0, 0.3));\n",
              "      fill: #FFFFFF;\n",
              "    }\n",
              "  </style>\n",
              "\n",
              "    <script>\n",
              "      const buttonEl =\n",
              "        document.querySelector('#df-146ef460-cde6-496a-84b5-8b0161dc906d button.colab-df-convert');\n",
              "      buttonEl.style.display =\n",
              "        google.colab.kernel.accessAllowed ? 'block' : 'none';\n",
              "\n",
              "      async function convertToInteractive(key) {\n",
              "        const element = document.querySelector('#df-146ef460-cde6-496a-84b5-8b0161dc906d');\n",
              "        const dataTable =\n",
              "          await google.colab.kernel.invokeFunction('convertToInteractive',\n",
              "                                                    [key], {});\n",
              "        if (!dataTable) return;\n",
              "\n",
              "        const docLinkHtml = 'Like what you see? Visit the ' +\n",
              "          '<a target=\"_blank\" href=https://colab.research.google.com/notebooks/data_table.ipynb>data table notebook</a>'\n",
              "          + ' to learn more about interactive tables.';\n",
              "        element.innerHTML = '';\n",
              "        dataTable['output_type'] = 'display_data';\n",
              "        await google.colab.output.renderOutput(dataTable, element);\n",
              "        const docLink = document.createElement('div');\n",
              "        docLink.innerHTML = docLinkHtml;\n",
              "        element.appendChild(docLink);\n",
              "      }\n",
              "    </script>\n",
              "  </div>\n",
              "\n",
              "    </div>\n",
              "  </div>\n"
            ]
          },
          "metadata": {},
          "execution_count": 65
        }
      ]
    },
    {
      "cell_type": "code",
      "source": [
        "# Pisahkan nama dari newDataDF\n",
        "\n",
        "newDataNoName = newDataDF.drop(['Name'], axis=1)\n",
        "\n",
        "# Prediksi survivability gladiator dengan pipeline yang telah disave\n",
        "predSurv = clfSVM.predict(newDataNoName)\n",
        "\n",
        "if predSurv == 0:\n",
        "  print(f\"Gladiator {newData['Name']} tewas bertarung. Semper Desiderari.\")\n",
        "elif predSurv == 1:\n",
        "  print(f\"Gladiator {newData['Name']} berhasil bertahan hidup. Vincere est Totum.\")"
      ],
      "metadata": {
        "colab": {
          "base_uri": "https://localhost:8080/"
        },
        "id": "3_SSrfPahhVf",
        "outputId": "0a8902da-5e1b-436a-d020-5de32f50fb9c"
      },
      "execution_count": 69,
      "outputs": [
        {
          "output_type": "stream",
          "name": "stdout",
          "text": [
            "Gladiator Biggus Dickus berhasil bertahan hidup. Vincere est Totum.\n"
          ]
        }
      ]
    },
    {
      "cell_type": "markdown",
      "source": [
        "# Conceptual Problems"
      ],
      "metadata": {
        "id": "Jw30gvC2uE0R"
      }
    },
    {
      "cell_type": "markdown",
      "source": [
        "Bagging dapat mencegah terjadinya overfitting dan mengurangi variansi model. Dalam bagging, sejumlah model ditrain secara independen pada subset-subset data train yang berbeda. Training ini seringkali dicapai melalui bootstrapping. Prediksi dari setiap model kemudian digabungkan dengan merata-rata untuk regresi, atau voting mayoritas untuk klasifikasi. \\\n",
        "\n",
        "Dalam Random Forest, setiap decision tree dibangun secara individu dengan sebuah subset fitur dan data train yang terpilih secara acak. Dalam Boosting, setiap tree yang baru dilatih untuk memperbaiki kesalahan tree yang sebelumnya. \\\n",
        "\n",
        "Cross-Validation adalah sebuah teknik untuk mengevaluasi model machine learning dengan training beberapa model pada subset-subset dari data input dan mengevaluasinya berdasarkan subset komplementer data. Cross-Validation membantu memperkirakan akurasi sebuah model. Alat ini dapat digunakan untuk mencegah overfitting."
      ],
      "metadata": {
        "id": "3ZtNg52yI4sV"
      }
    },
    {
      "cell_type": "markdown",
      "source": [
        "# Simpulan"
      ],
      "metadata": {
        "id": "BmonSdNfffKJ"
      }
    },
    {
      "cell_type": "markdown",
      "source": [
        "Manusia suka bertaruh, bahkan sejak zaman kekaisaran Romawi. Masayrakat Romawi sering bertaruh pada pertarungan gladiator layaknya masyarakat lokal bertaruh tim sepak bola. Kepercayaan mereka pada petarung didasari oleh aspek-aspek seperti background, track-record, intensitas latihan, dan jumlah menang-kalah. Pada notebook ini telah disetup sebuah model untuk memprediksi apakah seorang gladiator akan bertahan hidup atau tidak. Dataset yang menjadi bahan training model berisi profil-profil gladiator. Aspek profil yang tidak digunakan dalam training adalah: `Birth Year`, `Special Skills`, `Patron Wealth`, `Public Favor`, `Diet and Nutrition`, `Allegiance Network`, `Psychological Profile`, `Personal Motivation`, `Previous Occupation`, `Social Standing`, dan `Crowd Appeal Techniques`. Mula-mula terdapat 700000+ entry data, namun jumlah yang digunakan adalah 3000 entry agar waktu training tidak terlalu lama. \\\n",
        "\n",
        "Kolom `Survived` menjadi label sementara yang lainnya menjadi fitur. Isi kolom `Origin`, `Category`, `Weapon of Choice`, dan `Battle Strategy` diubah menjadi angka secara manual sementara kolom `Equipment Quality`, `Injury History`, `Tactical Knowledge`, `Health Status`, dan `Training Intensity` diencode dengan OrdinalEncoder. Scaling dan model disatukan dalam disatukan dalam sebuah pipeline. Setiap model memiliki pipeline sendiri. Model yang disetup adalah KNN, SVM, Random Forest, dan Decision Tree. Setelah training dan tuning, ditemukan bahwa pipeline SVM dapat memprediksi survivability gladiator dengan akurasi 91% pada data train dan 89% pada data test. Model ini memprediksi bahwa gladiator *Biggus Dickus*, dengan profil yang diberikan oleh `newData`, berhasil bertahan hidup dari pertarungan."
      ],
      "metadata": {
        "id": "_em5napjfi_4"
      }
    }
  ]
}